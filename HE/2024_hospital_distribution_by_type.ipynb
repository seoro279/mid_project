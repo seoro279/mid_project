{
 "cells": [
  {
   "cell_type": "markdown",
   "metadata": {},
   "source": [
    "## 2024년 종별코드명 활용하여 상급, 종합 병원 등의 분포 확인"
   ]
  },
  {
   "cell_type": "code",
   "execution_count": 11,
   "metadata": {},
   "outputs": [],
   "source": [
    "import seaborn as sns\n",
    "import pandas as pd\n",
    "import numpy as np\n",
    "import matplotlib.pyplot as plt\n",
    "import plotly.express as px\n"
   ]
  },
  {
   "cell_type": "code",
   "execution_count": 12,
   "metadata": {},
   "outputs": [],
   "source": [
    "DATA_PATH = '/Users/haeunpark/mid_project_data'"
   ]
  },
  {
   "cell_type": "code",
   "execution_count": 13,
   "metadata": {},
   "outputs": [
    {
     "data": {
      "text/html": [
       "<div>\n",
       "<style scoped>\n",
       "    .dataframe tbody tr th:only-of-type {\n",
       "        vertical-align: middle;\n",
       "    }\n",
       "\n",
       "    .dataframe tbody tr th {\n",
       "        vertical-align: top;\n",
       "    }\n",
       "\n",
       "    .dataframe thead th {\n",
       "        text-align: right;\n",
       "    }\n",
       "</style>\n",
       "<table border=\"1\" class=\"dataframe\">\n",
       "  <thead>\n",
       "    <tr style=\"text-align: right;\">\n",
       "      <th></th>\n",
       "      <th>암호화요양기호</th>\n",
       "      <th>요양기관명</th>\n",
       "      <th>종별코드명</th>\n",
       "      <th>설립구분코드명</th>\n",
       "      <th>시도코드명</th>\n",
       "      <th>시군구코드명</th>\n",
       "      <th>개설일자</th>\n",
       "      <th>성인중환자병상수</th>\n",
       "      <th>일반입원실병상수</th>\n",
       "      <th>소아중환자병상수</th>\n",
       "      <th>신생아중환자병상수</th>\n",
       "      <th>분만실병상수</th>\n",
       "      <th>수술실병상수</th>\n",
       "      <th>응급실병상수</th>\n",
       "      <th>물리치료실병상수</th>\n",
       "      <th>정신과폐쇄상급병상수</th>\n",
       "      <th>정신과폐쇄일반병상수</th>\n",
       "      <th>정신과개방상급병상수</th>\n",
       "      <th>정신과폐쇄개방병상수</th>\n",
       "      <th>격리병실병상수</th>\n",
       "      <th>무균치료실병상수</th>\n",
       "      <th>총의사수</th>\n",
       "      <th>의과일반의 인원수</th>\n",
       "      <th>의과인턴 인원수</th>\n",
       "      <th>의과레지던트 인원수</th>\n",
       "      <th>의과전문의 인원수</th>\n",
       "      <th>치과일반의 인원수</th>\n",
       "      <th>치과인턴 인원수</th>\n",
       "      <th>치과레지던트 인원수</th>\n",
       "      <th>치과전문의 인원수</th>\n",
       "      <th>한방일반의 인원수</th>\n",
       "      <th>한방인턴 인원수</th>\n",
       "      <th>한방레지던트 인원수</th>\n",
       "      <th>한방전문의 인원수</th>\n",
       "      <th>조산사 인원수</th>\n",
       "      <th>진료과목코드명</th>\n",
       "      <th>과목별 전문의수</th>\n",
       "    </tr>\n",
       "  </thead>\n",
       "  <tbody>\n",
       "    <tr>\n",
       "      <th>0</th>\n",
       "      <td>JDQ4MTYyMiM4MSMkMiMkMCMkMDAkNDgxMTkxIzMxIyQxIy...</td>\n",
       "      <td>뽀빠이연합의원</td>\n",
       "      <td>의원</td>\n",
       "      <td>개인</td>\n",
       "      <td>대구</td>\n",
       "      <td>대구중구</td>\n",
       "      <td>20230424</td>\n",
       "      <td>0</td>\n",
       "      <td>0</td>\n",
       "      <td>0</td>\n",
       "      <td>0</td>\n",
       "      <td>0</td>\n",
       "      <td>0</td>\n",
       "      <td>0</td>\n",
       "      <td>10</td>\n",
       "      <td>0</td>\n",
       "      <td>0</td>\n",
       "      <td>0</td>\n",
       "      <td>0</td>\n",
       "      <td>0</td>\n",
       "      <td>0</td>\n",
       "      <td>1</td>\n",
       "      <td>0</td>\n",
       "      <td>0</td>\n",
       "      <td>0</td>\n",
       "      <td>1</td>\n",
       "      <td>0</td>\n",
       "      <td>0</td>\n",
       "      <td>0</td>\n",
       "      <td>0</td>\n",
       "      <td>0</td>\n",
       "      <td>0</td>\n",
       "      <td>0</td>\n",
       "      <td>0</td>\n",
       "      <td>0</td>\n",
       "      <td>내과</td>\n",
       "      <td>0.0</td>\n",
       "    </tr>\n",
       "    <tr>\n",
       "      <th>1</th>\n",
       "      <td>JDQ4MTYyMiM4MSMkMiMkMCMkMDAkNDgxMTkxIzMxIyQxIy...</td>\n",
       "      <td>뽀빠이연합의원</td>\n",
       "      <td>의원</td>\n",
       "      <td>개인</td>\n",
       "      <td>대구</td>\n",
       "      <td>대구중구</td>\n",
       "      <td>20230424</td>\n",
       "      <td>0</td>\n",
       "      <td>0</td>\n",
       "      <td>0</td>\n",
       "      <td>0</td>\n",
       "      <td>0</td>\n",
       "      <td>0</td>\n",
       "      <td>0</td>\n",
       "      <td>10</td>\n",
       "      <td>0</td>\n",
       "      <td>0</td>\n",
       "      <td>0</td>\n",
       "      <td>0</td>\n",
       "      <td>0</td>\n",
       "      <td>0</td>\n",
       "      <td>1</td>\n",
       "      <td>0</td>\n",
       "      <td>0</td>\n",
       "      <td>0</td>\n",
       "      <td>1</td>\n",
       "      <td>0</td>\n",
       "      <td>0</td>\n",
       "      <td>0</td>\n",
       "      <td>0</td>\n",
       "      <td>0</td>\n",
       "      <td>0</td>\n",
       "      <td>0</td>\n",
       "      <td>0</td>\n",
       "      <td>0</td>\n",
       "      <td>마취통증의학과</td>\n",
       "      <td>0.0</td>\n",
       "    </tr>\n",
       "    <tr>\n",
       "      <th>2</th>\n",
       "      <td>JDQ4MTYyMiM4MSMkMiMkMCMkMDAkNDgxMTkxIzMxIyQxIy...</td>\n",
       "      <td>뽀빠이연합의원</td>\n",
       "      <td>의원</td>\n",
       "      <td>개인</td>\n",
       "      <td>대구</td>\n",
       "      <td>대구중구</td>\n",
       "      <td>20230424</td>\n",
       "      <td>0</td>\n",
       "      <td>0</td>\n",
       "      <td>0</td>\n",
       "      <td>0</td>\n",
       "      <td>0</td>\n",
       "      <td>0</td>\n",
       "      <td>0</td>\n",
       "      <td>10</td>\n",
       "      <td>0</td>\n",
       "      <td>0</td>\n",
       "      <td>0</td>\n",
       "      <td>0</td>\n",
       "      <td>0</td>\n",
       "      <td>0</td>\n",
       "      <td>1</td>\n",
       "      <td>0</td>\n",
       "      <td>0</td>\n",
       "      <td>0</td>\n",
       "      <td>1</td>\n",
       "      <td>0</td>\n",
       "      <td>0</td>\n",
       "      <td>0</td>\n",
       "      <td>0</td>\n",
       "      <td>0</td>\n",
       "      <td>0</td>\n",
       "      <td>0</td>\n",
       "      <td>0</td>\n",
       "      <td>0</td>\n",
       "      <td>신경외과</td>\n",
       "      <td>0.0</td>\n",
       "    </tr>\n",
       "    <tr>\n",
       "      <th>3</th>\n",
       "      <td>JDQ4MTYyMiM4MSMkMiMkMCMkMDAkNDgxMTkxIzMxIyQxIy...</td>\n",
       "      <td>뽀빠이연합의원</td>\n",
       "      <td>의원</td>\n",
       "      <td>개인</td>\n",
       "      <td>대구</td>\n",
       "      <td>대구중구</td>\n",
       "      <td>20230424</td>\n",
       "      <td>0</td>\n",
       "      <td>0</td>\n",
       "      <td>0</td>\n",
       "      <td>0</td>\n",
       "      <td>0</td>\n",
       "      <td>0</td>\n",
       "      <td>0</td>\n",
       "      <td>10</td>\n",
       "      <td>0</td>\n",
       "      <td>0</td>\n",
       "      <td>0</td>\n",
       "      <td>0</td>\n",
       "      <td>0</td>\n",
       "      <td>0</td>\n",
       "      <td>1</td>\n",
       "      <td>0</td>\n",
       "      <td>0</td>\n",
       "      <td>0</td>\n",
       "      <td>1</td>\n",
       "      <td>0</td>\n",
       "      <td>0</td>\n",
       "      <td>0</td>\n",
       "      <td>0</td>\n",
       "      <td>0</td>\n",
       "      <td>0</td>\n",
       "      <td>0</td>\n",
       "      <td>0</td>\n",
       "      <td>0</td>\n",
       "      <td>외과</td>\n",
       "      <td>1.0</td>\n",
       "    </tr>\n",
       "    <tr>\n",
       "      <th>4</th>\n",
       "      <td>JDQ4MTYyMiM4MSMkMiMkMCMkMDAkNDgxMTkxIzMxIyQxIy...</td>\n",
       "      <td>뽀빠이연합의원</td>\n",
       "      <td>의원</td>\n",
       "      <td>개인</td>\n",
       "      <td>대구</td>\n",
       "      <td>대구중구</td>\n",
       "      <td>20230424</td>\n",
       "      <td>0</td>\n",
       "      <td>0</td>\n",
       "      <td>0</td>\n",
       "      <td>0</td>\n",
       "      <td>0</td>\n",
       "      <td>0</td>\n",
       "      <td>0</td>\n",
       "      <td>10</td>\n",
       "      <td>0</td>\n",
       "      <td>0</td>\n",
       "      <td>0</td>\n",
       "      <td>0</td>\n",
       "      <td>0</td>\n",
       "      <td>0</td>\n",
       "      <td>1</td>\n",
       "      <td>0</td>\n",
       "      <td>0</td>\n",
       "      <td>0</td>\n",
       "      <td>1</td>\n",
       "      <td>0</td>\n",
       "      <td>0</td>\n",
       "      <td>0</td>\n",
       "      <td>0</td>\n",
       "      <td>0</td>\n",
       "      <td>0</td>\n",
       "      <td>0</td>\n",
       "      <td>0</td>\n",
       "      <td>0</td>\n",
       "      <td>재활의학과</td>\n",
       "      <td>0.0</td>\n",
       "    </tr>\n",
       "    <tr>\n",
       "      <th>...</th>\n",
       "      <td>...</td>\n",
       "      <td>...</td>\n",
       "      <td>...</td>\n",
       "      <td>...</td>\n",
       "      <td>...</td>\n",
       "      <td>...</td>\n",
       "      <td>...</td>\n",
       "      <td>...</td>\n",
       "      <td>...</td>\n",
       "      <td>...</td>\n",
       "      <td>...</td>\n",
       "      <td>...</td>\n",
       "      <td>...</td>\n",
       "      <td>...</td>\n",
       "      <td>...</td>\n",
       "      <td>...</td>\n",
       "      <td>...</td>\n",
       "      <td>...</td>\n",
       "      <td>...</td>\n",
       "      <td>...</td>\n",
       "      <td>...</td>\n",
       "      <td>...</td>\n",
       "      <td>...</td>\n",
       "      <td>...</td>\n",
       "      <td>...</td>\n",
       "      <td>...</td>\n",
       "      <td>...</td>\n",
       "      <td>...</td>\n",
       "      <td>...</td>\n",
       "      <td>...</td>\n",
       "      <td>...</td>\n",
       "      <td>...</td>\n",
       "      <td>...</td>\n",
       "      <td>...</td>\n",
       "      <td>...</td>\n",
       "      <td>...</td>\n",
       "      <td>...</td>\n",
       "    </tr>\n",
       "    <tr>\n",
       "      <th>407395</th>\n",
       "      <td>JDQ4MTYyMiM4MSMkMSMkMCMkMTMkNDgxOTYxIzUxIyQxIy...</td>\n",
       "      <td>온유한의원</td>\n",
       "      <td>한의원</td>\n",
       "      <td>개인</td>\n",
       "      <td>대구</td>\n",
       "      <td>대구북구</td>\n",
       "      <td>20230713</td>\n",
       "      <td>0</td>\n",
       "      <td>0</td>\n",
       "      <td>0</td>\n",
       "      <td>0</td>\n",
       "      <td>0</td>\n",
       "      <td>0</td>\n",
       "      <td>0</td>\n",
       "      <td>0</td>\n",
       "      <td>0</td>\n",
       "      <td>0</td>\n",
       "      <td>0</td>\n",
       "      <td>0</td>\n",
       "      <td>0</td>\n",
       "      <td>0</td>\n",
       "      <td>1</td>\n",
       "      <td>0</td>\n",
       "      <td>0</td>\n",
       "      <td>0</td>\n",
       "      <td>0</td>\n",
       "      <td>0</td>\n",
       "      <td>0</td>\n",
       "      <td>0</td>\n",
       "      <td>0</td>\n",
       "      <td>1</td>\n",
       "      <td>0</td>\n",
       "      <td>0</td>\n",
       "      <td>0</td>\n",
       "      <td>0</td>\n",
       "      <td>한방부인과</td>\n",
       "      <td>0.0</td>\n",
       "    </tr>\n",
       "    <tr>\n",
       "      <th>407396</th>\n",
       "      <td>JDQ4MTYyMiM4MSMkMSMkMCMkMTMkNDgxOTYxIzUxIyQxIy...</td>\n",
       "      <td>온유한의원</td>\n",
       "      <td>한의원</td>\n",
       "      <td>개인</td>\n",
       "      <td>대구</td>\n",
       "      <td>대구북구</td>\n",
       "      <td>20230713</td>\n",
       "      <td>0</td>\n",
       "      <td>0</td>\n",
       "      <td>0</td>\n",
       "      <td>0</td>\n",
       "      <td>0</td>\n",
       "      <td>0</td>\n",
       "      <td>0</td>\n",
       "      <td>0</td>\n",
       "      <td>0</td>\n",
       "      <td>0</td>\n",
       "      <td>0</td>\n",
       "      <td>0</td>\n",
       "      <td>0</td>\n",
       "      <td>0</td>\n",
       "      <td>1</td>\n",
       "      <td>0</td>\n",
       "      <td>0</td>\n",
       "      <td>0</td>\n",
       "      <td>0</td>\n",
       "      <td>0</td>\n",
       "      <td>0</td>\n",
       "      <td>0</td>\n",
       "      <td>0</td>\n",
       "      <td>1</td>\n",
       "      <td>0</td>\n",
       "      <td>0</td>\n",
       "      <td>0</td>\n",
       "      <td>0</td>\n",
       "      <td>한방소아과</td>\n",
       "      <td>0.0</td>\n",
       "    </tr>\n",
       "    <tr>\n",
       "      <th>407397</th>\n",
       "      <td>JDQ4MTYyMiM4MSMkMSMkMCMkMTMkNDgxOTYxIzUxIyQxIy...</td>\n",
       "      <td>온유한의원</td>\n",
       "      <td>한의원</td>\n",
       "      <td>개인</td>\n",
       "      <td>대구</td>\n",
       "      <td>대구북구</td>\n",
       "      <td>20230713</td>\n",
       "      <td>0</td>\n",
       "      <td>0</td>\n",
       "      <td>0</td>\n",
       "      <td>0</td>\n",
       "      <td>0</td>\n",
       "      <td>0</td>\n",
       "      <td>0</td>\n",
       "      <td>0</td>\n",
       "      <td>0</td>\n",
       "      <td>0</td>\n",
       "      <td>0</td>\n",
       "      <td>0</td>\n",
       "      <td>0</td>\n",
       "      <td>0</td>\n",
       "      <td>1</td>\n",
       "      <td>0</td>\n",
       "      <td>0</td>\n",
       "      <td>0</td>\n",
       "      <td>0</td>\n",
       "      <td>0</td>\n",
       "      <td>0</td>\n",
       "      <td>0</td>\n",
       "      <td>0</td>\n",
       "      <td>1</td>\n",
       "      <td>0</td>\n",
       "      <td>0</td>\n",
       "      <td>0</td>\n",
       "      <td>0</td>\n",
       "      <td>한방신경정신과</td>\n",
       "      <td>0.0</td>\n",
       "    </tr>\n",
       "    <tr>\n",
       "      <th>407398</th>\n",
       "      <td>JDQ4MTYyMiM4MSMkMSMkMCMkMTMkNDgxOTYxIzUxIyQxIy...</td>\n",
       "      <td>온유한의원</td>\n",
       "      <td>한의원</td>\n",
       "      <td>개인</td>\n",
       "      <td>대구</td>\n",
       "      <td>대구북구</td>\n",
       "      <td>20230713</td>\n",
       "      <td>0</td>\n",
       "      <td>0</td>\n",
       "      <td>0</td>\n",
       "      <td>0</td>\n",
       "      <td>0</td>\n",
       "      <td>0</td>\n",
       "      <td>0</td>\n",
       "      <td>0</td>\n",
       "      <td>0</td>\n",
       "      <td>0</td>\n",
       "      <td>0</td>\n",
       "      <td>0</td>\n",
       "      <td>0</td>\n",
       "      <td>0</td>\n",
       "      <td>1</td>\n",
       "      <td>0</td>\n",
       "      <td>0</td>\n",
       "      <td>0</td>\n",
       "      <td>0</td>\n",
       "      <td>0</td>\n",
       "      <td>0</td>\n",
       "      <td>0</td>\n",
       "      <td>0</td>\n",
       "      <td>1</td>\n",
       "      <td>0</td>\n",
       "      <td>0</td>\n",
       "      <td>0</td>\n",
       "      <td>0</td>\n",
       "      <td>한방안·이비인후·피부과</td>\n",
       "      <td>0.0</td>\n",
       "    </tr>\n",
       "    <tr>\n",
       "      <th>407399</th>\n",
       "      <td>JDQ4MTYyMiM4MSMkMSMkMCMkMTMkNDgxOTYxIzUxIyQxIy...</td>\n",
       "      <td>온유한의원</td>\n",
       "      <td>한의원</td>\n",
       "      <td>개인</td>\n",
       "      <td>대구</td>\n",
       "      <td>대구북구</td>\n",
       "      <td>20230713</td>\n",
       "      <td>0</td>\n",
       "      <td>0</td>\n",
       "      <td>0</td>\n",
       "      <td>0</td>\n",
       "      <td>0</td>\n",
       "      <td>0</td>\n",
       "      <td>0</td>\n",
       "      <td>0</td>\n",
       "      <td>0</td>\n",
       "      <td>0</td>\n",
       "      <td>0</td>\n",
       "      <td>0</td>\n",
       "      <td>0</td>\n",
       "      <td>0</td>\n",
       "      <td>1</td>\n",
       "      <td>0</td>\n",
       "      <td>0</td>\n",
       "      <td>0</td>\n",
       "      <td>0</td>\n",
       "      <td>0</td>\n",
       "      <td>0</td>\n",
       "      <td>0</td>\n",
       "      <td>0</td>\n",
       "      <td>1</td>\n",
       "      <td>0</td>\n",
       "      <td>0</td>\n",
       "      <td>0</td>\n",
       "      <td>0</td>\n",
       "      <td>한방재활의학과</td>\n",
       "      <td>0.0</td>\n",
       "    </tr>\n",
       "  </tbody>\n",
       "</table>\n",
       "<p>407400 rows × 37 columns</p>\n",
       "</div>"
      ],
      "text/plain": [
       "                                                  암호화요양기호    요양기관명 종별코드명  \\\n",
       "0       JDQ4MTYyMiM4MSMkMiMkMCMkMDAkNDgxMTkxIzMxIyQxIy...  뽀빠이연합의원    의원   \n",
       "1       JDQ4MTYyMiM4MSMkMiMkMCMkMDAkNDgxMTkxIzMxIyQxIy...  뽀빠이연합의원    의원   \n",
       "2       JDQ4MTYyMiM4MSMkMiMkMCMkMDAkNDgxMTkxIzMxIyQxIy...  뽀빠이연합의원    의원   \n",
       "3       JDQ4MTYyMiM4MSMkMiMkMCMkMDAkNDgxMTkxIzMxIyQxIy...  뽀빠이연합의원    의원   \n",
       "4       JDQ4MTYyMiM4MSMkMiMkMCMkMDAkNDgxMTkxIzMxIyQxIy...  뽀빠이연합의원    의원   \n",
       "...                                                   ...      ...   ...   \n",
       "407395  JDQ4MTYyMiM4MSMkMSMkMCMkMTMkNDgxOTYxIzUxIyQxIy...    온유한의원   한의원   \n",
       "407396  JDQ4MTYyMiM4MSMkMSMkMCMkMTMkNDgxOTYxIzUxIyQxIy...    온유한의원   한의원   \n",
       "407397  JDQ4MTYyMiM4MSMkMSMkMCMkMTMkNDgxOTYxIzUxIyQxIy...    온유한의원   한의원   \n",
       "407398  JDQ4MTYyMiM4MSMkMSMkMCMkMTMkNDgxOTYxIzUxIyQxIy...    온유한의원   한의원   \n",
       "407399  JDQ4MTYyMiM4MSMkMSMkMCMkMTMkNDgxOTYxIzUxIyQxIy...    온유한의원   한의원   \n",
       "\n",
       "       설립구분코드명 시도코드명 시군구코드명      개설일자  성인중환자병상수  일반입원실병상수  소아중환자병상수  \\\n",
       "0           개인    대구   대구중구  20230424         0         0         0   \n",
       "1           개인    대구   대구중구  20230424         0         0         0   \n",
       "2           개인    대구   대구중구  20230424         0         0         0   \n",
       "3           개인    대구   대구중구  20230424         0         0         0   \n",
       "4           개인    대구   대구중구  20230424         0         0         0   \n",
       "...        ...   ...    ...       ...       ...       ...       ...   \n",
       "407395      개인    대구   대구북구  20230713         0         0         0   \n",
       "407396      개인    대구   대구북구  20230713         0         0         0   \n",
       "407397      개인    대구   대구북구  20230713         0         0         0   \n",
       "407398      개인    대구   대구북구  20230713         0         0         0   \n",
       "407399      개인    대구   대구북구  20230713         0         0         0   \n",
       "\n",
       "        신생아중환자병상수  분만실병상수  수술실병상수  응급실병상수  물리치료실병상수  정신과폐쇄상급병상수  정신과폐쇄일반병상수  \\\n",
       "0               0       0       0       0        10           0           0   \n",
       "1               0       0       0       0        10           0           0   \n",
       "2               0       0       0       0        10           0           0   \n",
       "3               0       0       0       0        10           0           0   \n",
       "4               0       0       0       0        10           0           0   \n",
       "...           ...     ...     ...     ...       ...         ...         ...   \n",
       "407395          0       0       0       0         0           0           0   \n",
       "407396          0       0       0       0         0           0           0   \n",
       "407397          0       0       0       0         0           0           0   \n",
       "407398          0       0       0       0         0           0           0   \n",
       "407399          0       0       0       0         0           0           0   \n",
       "\n",
       "        정신과개방상급병상수  정신과폐쇄개방병상수  격리병실병상수  무균치료실병상수  총의사수  의과일반의 인원수  의과인턴 인원수  \\\n",
       "0                0           0        0         0     1          0         0   \n",
       "1                0           0        0         0     1          0         0   \n",
       "2                0           0        0         0     1          0         0   \n",
       "3                0           0        0         0     1          0         0   \n",
       "4                0           0        0         0     1          0         0   \n",
       "...            ...         ...      ...       ...   ...        ...       ...   \n",
       "407395           0           0        0         0     1          0         0   \n",
       "407396           0           0        0         0     1          0         0   \n",
       "407397           0           0        0         0     1          0         0   \n",
       "407398           0           0        0         0     1          0         0   \n",
       "407399           0           0        0         0     1          0         0   \n",
       "\n",
       "        의과레지던트 인원수  의과전문의 인원수  치과일반의 인원수  치과인턴 인원수  치과레지던트 인원수  치과전문의 인원수  \\\n",
       "0                0          1          0         0           0          0   \n",
       "1                0          1          0         0           0          0   \n",
       "2                0          1          0         0           0          0   \n",
       "3                0          1          0         0           0          0   \n",
       "4                0          1          0         0           0          0   \n",
       "...            ...        ...        ...       ...         ...        ...   \n",
       "407395           0          0          0         0           0          0   \n",
       "407396           0          0          0         0           0          0   \n",
       "407397           0          0          0         0           0          0   \n",
       "407398           0          0          0         0           0          0   \n",
       "407399           0          0          0         0           0          0   \n",
       "\n",
       "        한방일반의 인원수  한방인턴 인원수  한방레지던트 인원수  한방전문의 인원수  조산사 인원수       진료과목코드명  \\\n",
       "0               0         0           0          0        0            내과   \n",
       "1               0         0           0          0        0       마취통증의학과   \n",
       "2               0         0           0          0        0          신경외과   \n",
       "3               0         0           0          0        0            외과   \n",
       "4               0         0           0          0        0         재활의학과   \n",
       "...           ...       ...         ...        ...      ...           ...   \n",
       "407395          1         0           0          0        0         한방부인과   \n",
       "407396          1         0           0          0        0         한방소아과   \n",
       "407397          1         0           0          0        0       한방신경정신과   \n",
       "407398          1         0           0          0        0  한방안·이비인후·피부과   \n",
       "407399          1         0           0          0        0       한방재활의학과   \n",
       "\n",
       "        과목별 전문의수  \n",
       "0            0.0  \n",
       "1            0.0  \n",
       "2            0.0  \n",
       "3            1.0  \n",
       "4            0.0  \n",
       "...          ...  \n",
       "407395       0.0  \n",
       "407396       0.0  \n",
       "407397       0.0  \n",
       "407398       0.0  \n",
       "407399       0.0  \n",
       "\n",
       "[407400 rows x 37 columns]"
      ]
     },
     "execution_count": 13,
     "metadata": {},
     "output_type": "execute_result"
    }
   ],
   "source": [
    "# 2024 데이터 출력\n",
    "pd.set_option('display.max_columns', None)\n",
    "\n",
    "\n",
    "df_2024 = pd.read_csv(f'{DATA_PATH}/2024의원통합데이터.csv', index_col=0)\n",
    "df_2024"
   ]
  },
  {
   "cell_type": "code",
   "execution_count": 14,
   "metadata": {},
   "outputs": [
    {
     "name": "stdout",
     "output_type": "stream",
     "text": [
      "종별코드명에 포함된 값들:\n",
      "- 의원\n",
      "- 치과의원\n",
      "- 한의원\n",
      "- 한방병원\n",
      "- 정신병원\n",
      "- 병원\n",
      "- 보건지소\n",
      "- 요양병원\n",
      "- 종합병원\n",
      "- 치과병원\n",
      "- 보건진료소\n",
      "- 상급종합\n",
      "- 보건소\n",
      "- 보건의료원\n",
      "- 조산원\n"
     ]
    }
   ],
   "source": [
    "# 종별 코드 무엇이 있는지 확인\n",
    "unique_hospital_types = df_2024['종별코드명'].unique()\n",
    "\n",
    "\n",
    "print(\"종별코드명에 포함된 값들:\")\n",
    "for hospital_type in unique_hospital_types:\n",
    "    print(f\"- {hospital_type}\")"
   ]
  },
  {
   "cell_type": "markdown",
   "metadata": {},
   "source": [
    "# 시도별 병원 유형 분석 차트"
   ]
  },
  {
   "cell_type": "code",
   "execution_count": 15,
   "metadata": {},
   "outputs": [
    {
     "name": "stderr",
     "output_type": "stream",
     "text": [
      "/var/folders/zj/p3cl2py51ldfrgsbtfp578x40000gn/T/ipykernel_41521/3109706404.py:24: SettingWithCopyWarning: \n",
      "A value is trying to be set on a copy of a slice from a DataFrame.\n",
      "Try using .loc[row_indexer,col_indexer] = value instead\n",
      "\n",
      "See the caveats in the documentation: https://pandas.pydata.org/pandas-docs/stable/user_guide/indexing.html#returning-a-view-versus-a-copy\n",
      "  df_2024_unique['의료수준'] = df_2024_unique['종별코드명'].map(hospital_groups)\n"
     ]
    },
    {
     "data": {
      "text/html": [
       "<div>\n",
       "<style scoped>\n",
       "    .dataframe tbody tr th:only-of-type {\n",
       "        vertical-align: middle;\n",
       "    }\n",
       "\n",
       "    .dataframe tbody tr th {\n",
       "        vertical-align: top;\n",
       "    }\n",
       "\n",
       "    .dataframe thead th {\n",
       "        text-align: right;\n",
       "    }\n",
       "</style>\n",
       "<table border=\"1\" class=\"dataframe\">\n",
       "  <thead>\n",
       "    <tr style=\"text-align: right;\">\n",
       "      <th></th>\n",
       "      <th>암호화요양기호</th>\n",
       "      <th>요양기관명</th>\n",
       "      <th>종별코드명</th>\n",
       "      <th>설립구분코드명</th>\n",
       "      <th>시도코드명</th>\n",
       "      <th>시군구코드명</th>\n",
       "      <th>개설일자</th>\n",
       "      <th>성인중환자병상수</th>\n",
       "      <th>일반입원실병상수</th>\n",
       "      <th>소아중환자병상수</th>\n",
       "      <th>신생아중환자병상수</th>\n",
       "      <th>분만실병상수</th>\n",
       "      <th>수술실병상수</th>\n",
       "      <th>응급실병상수</th>\n",
       "      <th>물리치료실병상수</th>\n",
       "      <th>정신과폐쇄상급병상수</th>\n",
       "      <th>정신과폐쇄일반병상수</th>\n",
       "      <th>정신과개방상급병상수</th>\n",
       "      <th>정신과폐쇄개방병상수</th>\n",
       "      <th>격리병실병상수</th>\n",
       "      <th>무균치료실병상수</th>\n",
       "      <th>총의사수</th>\n",
       "      <th>의과일반의 인원수</th>\n",
       "      <th>의과인턴 인원수</th>\n",
       "      <th>의과레지던트 인원수</th>\n",
       "      <th>의과전문의 인원수</th>\n",
       "      <th>치과일반의 인원수</th>\n",
       "      <th>치과인턴 인원수</th>\n",
       "      <th>치과레지던트 인원수</th>\n",
       "      <th>치과전문의 인원수</th>\n",
       "      <th>한방일반의 인원수</th>\n",
       "      <th>한방인턴 인원수</th>\n",
       "      <th>한방레지던트 인원수</th>\n",
       "      <th>한방전문의 인원수</th>\n",
       "      <th>조산사 인원수</th>\n",
       "      <th>진료과목코드명</th>\n",
       "      <th>과목별 전문의수</th>\n",
       "      <th>의료수준</th>\n",
       "    </tr>\n",
       "  </thead>\n",
       "  <tbody>\n",
       "    <tr>\n",
       "      <th>0</th>\n",
       "      <td>JDQ4MTYyMiM4MSMkMiMkMCMkMDAkNDgxMTkxIzMxIyQxIy...</td>\n",
       "      <td>뽀빠이연합의원</td>\n",
       "      <td>의원</td>\n",
       "      <td>개인</td>\n",
       "      <td>대구</td>\n",
       "      <td>대구중구</td>\n",
       "      <td>20230424</td>\n",
       "      <td>0</td>\n",
       "      <td>0</td>\n",
       "      <td>0</td>\n",
       "      <td>0</td>\n",
       "      <td>0</td>\n",
       "      <td>0</td>\n",
       "      <td>0</td>\n",
       "      <td>10</td>\n",
       "      <td>0</td>\n",
       "      <td>0</td>\n",
       "      <td>0</td>\n",
       "      <td>0</td>\n",
       "      <td>0</td>\n",
       "      <td>0</td>\n",
       "      <td>1</td>\n",
       "      <td>0</td>\n",
       "      <td>0</td>\n",
       "      <td>0</td>\n",
       "      <td>1</td>\n",
       "      <td>0</td>\n",
       "      <td>0</td>\n",
       "      <td>0</td>\n",
       "      <td>0</td>\n",
       "      <td>0</td>\n",
       "      <td>0</td>\n",
       "      <td>0</td>\n",
       "      <td>0</td>\n",
       "      <td>0</td>\n",
       "      <td>내과</td>\n",
       "      <td>0.0</td>\n",
       "      <td>1차 의료</td>\n",
       "    </tr>\n",
       "    <tr>\n",
       "      <th>7</th>\n",
       "      <td>JDQ4MTYyMiM1MSMkMSMkMCMkNzIkNTgxMzUxIzUxIyQxIy...</td>\n",
       "      <td>청담e치과의원</td>\n",
       "      <td>치과의원</td>\n",
       "      <td>개인</td>\n",
       "      <td>경기</td>\n",
       "      <td>구리시</td>\n",
       "      <td>20190401</td>\n",
       "      <td>0</td>\n",
       "      <td>0</td>\n",
       "      <td>0</td>\n",
       "      <td>0</td>\n",
       "      <td>0</td>\n",
       "      <td>0</td>\n",
       "      <td>0</td>\n",
       "      <td>0</td>\n",
       "      <td>0</td>\n",
       "      <td>0</td>\n",
       "      <td>0</td>\n",
       "      <td>0</td>\n",
       "      <td>0</td>\n",
       "      <td>0</td>\n",
       "      <td>1</td>\n",
       "      <td>0</td>\n",
       "      <td>0</td>\n",
       "      <td>0</td>\n",
       "      <td>0</td>\n",
       "      <td>1</td>\n",
       "      <td>0</td>\n",
       "      <td>0</td>\n",
       "      <td>0</td>\n",
       "      <td>0</td>\n",
       "      <td>0</td>\n",
       "      <td>0</td>\n",
       "      <td>0</td>\n",
       "      <td>0</td>\n",
       "      <td>구강내과</td>\n",
       "      <td>0.0</td>\n",
       "      <td>1차 의료</td>\n",
       "    </tr>\n",
       "    <tr>\n",
       "      <th>17</th>\n",
       "      <td>JDU4MTI3MSM1MSMkMiMkMCMkMDAkNTgxOTYxIzIxIyQxIy...</td>\n",
       "      <td>연세웰드림내과의원</td>\n",
       "      <td>의원</td>\n",
       "      <td>개인</td>\n",
       "      <td>경기</td>\n",
       "      <td>성남수정구</td>\n",
       "      <td>20240112</td>\n",
       "      <td>0</td>\n",
       "      <td>0</td>\n",
       "      <td>0</td>\n",
       "      <td>0</td>\n",
       "      <td>0</td>\n",
       "      <td>0</td>\n",
       "      <td>0</td>\n",
       "      <td>0</td>\n",
       "      <td>0</td>\n",
       "      <td>0</td>\n",
       "      <td>0</td>\n",
       "      <td>0</td>\n",
       "      <td>0</td>\n",
       "      <td>0</td>\n",
       "      <td>2</td>\n",
       "      <td>0</td>\n",
       "      <td>0</td>\n",
       "      <td>0</td>\n",
       "      <td>2</td>\n",
       "      <td>0</td>\n",
       "      <td>0</td>\n",
       "      <td>0</td>\n",
       "      <td>0</td>\n",
       "      <td>0</td>\n",
       "      <td>0</td>\n",
       "      <td>0</td>\n",
       "      <td>0</td>\n",
       "      <td>0</td>\n",
       "      <td>가정의학과</td>\n",
       "      <td>0.0</td>\n",
       "      <td>1차 의료</td>\n",
       "    </tr>\n",
       "    <tr>\n",
       "      <th>25</th>\n",
       "      <td>JDQ4MTYyMiM1MSMkMSMkMCMkNzIkNTgxOTYxIzIxIyQxIy...</td>\n",
       "      <td>연세바로세움치과의원</td>\n",
       "      <td>치과의원</td>\n",
       "      <td>개인</td>\n",
       "      <td>경기</td>\n",
       "      <td>고양덕양구</td>\n",
       "      <td>20240517</td>\n",
       "      <td>0</td>\n",
       "      <td>0</td>\n",
       "      <td>0</td>\n",
       "      <td>0</td>\n",
       "      <td>0</td>\n",
       "      <td>0</td>\n",
       "      <td>0</td>\n",
       "      <td>0</td>\n",
       "      <td>0</td>\n",
       "      <td>0</td>\n",
       "      <td>0</td>\n",
       "      <td>0</td>\n",
       "      <td>0</td>\n",
       "      <td>0</td>\n",
       "      <td>1</td>\n",
       "      <td>0</td>\n",
       "      <td>0</td>\n",
       "      <td>0</td>\n",
       "      <td>0</td>\n",
       "      <td>0</td>\n",
       "      <td>0</td>\n",
       "      <td>0</td>\n",
       "      <td>1</td>\n",
       "      <td>0</td>\n",
       "      <td>0</td>\n",
       "      <td>0</td>\n",
       "      <td>0</td>\n",
       "      <td>0</td>\n",
       "      <td>구강내과</td>\n",
       "      <td>0.0</td>\n",
       "      <td>1차 의료</td>\n",
       "    </tr>\n",
       "    <tr>\n",
       "      <th>36</th>\n",
       "      <td>JDQ4MTYyMiM2MSMkMSMkMiMkNzIkMzgxMTkxIzIxIyQxIy...</td>\n",
       "      <td>다은치과의원</td>\n",
       "      <td>치과의원</td>\n",
       "      <td>개인</td>\n",
       "      <td>대전</td>\n",
       "      <td>대전중구</td>\n",
       "      <td>20240117</td>\n",
       "      <td>0</td>\n",
       "      <td>0</td>\n",
       "      <td>0</td>\n",
       "      <td>0</td>\n",
       "      <td>0</td>\n",
       "      <td>0</td>\n",
       "      <td>0</td>\n",
       "      <td>0</td>\n",
       "      <td>0</td>\n",
       "      <td>0</td>\n",
       "      <td>0</td>\n",
       "      <td>0</td>\n",
       "      <td>0</td>\n",
       "      <td>0</td>\n",
       "      <td>1</td>\n",
       "      <td>0</td>\n",
       "      <td>0</td>\n",
       "      <td>0</td>\n",
       "      <td>0</td>\n",
       "      <td>1</td>\n",
       "      <td>0</td>\n",
       "      <td>0</td>\n",
       "      <td>0</td>\n",
       "      <td>0</td>\n",
       "      <td>0</td>\n",
       "      <td>0</td>\n",
       "      <td>0</td>\n",
       "      <td>0</td>\n",
       "      <td>구강내과</td>\n",
       "      <td>0.0</td>\n",
       "      <td>1차 의료</td>\n",
       "    </tr>\n",
       "    <tr>\n",
       "      <th>...</th>\n",
       "      <td>...</td>\n",
       "      <td>...</td>\n",
       "      <td>...</td>\n",
       "      <td>...</td>\n",
       "      <td>...</td>\n",
       "      <td>...</td>\n",
       "      <td>...</td>\n",
       "      <td>...</td>\n",
       "      <td>...</td>\n",
       "      <td>...</td>\n",
       "      <td>...</td>\n",
       "      <td>...</td>\n",
       "      <td>...</td>\n",
       "      <td>...</td>\n",
       "      <td>...</td>\n",
       "      <td>...</td>\n",
       "      <td>...</td>\n",
       "      <td>...</td>\n",
       "      <td>...</td>\n",
       "      <td>...</td>\n",
       "      <td>...</td>\n",
       "      <td>...</td>\n",
       "      <td>...</td>\n",
       "      <td>...</td>\n",
       "      <td>...</td>\n",
       "      <td>...</td>\n",
       "      <td>...</td>\n",
       "      <td>...</td>\n",
       "      <td>...</td>\n",
       "      <td>...</td>\n",
       "      <td>...</td>\n",
       "      <td>...</td>\n",
       "      <td>...</td>\n",
       "      <td>...</td>\n",
       "      <td>...</td>\n",
       "      <td>...</td>\n",
       "      <td>...</td>\n",
       "      <td>...</td>\n",
       "    </tr>\n",
       "    <tr>\n",
       "      <th>407363</th>\n",
       "      <td>JDQ4MTYyMiM2MSMkMSMkMiMkMTMkNDgxOTYxIzIxIyQxIy...</td>\n",
       "      <td>감초당한의원</td>\n",
       "      <td>한의원</td>\n",
       "      <td>개인</td>\n",
       "      <td>충남</td>\n",
       "      <td>보령시</td>\n",
       "      <td>20230707</td>\n",
       "      <td>0</td>\n",
       "      <td>0</td>\n",
       "      <td>0</td>\n",
       "      <td>0</td>\n",
       "      <td>0</td>\n",
       "      <td>0</td>\n",
       "      <td>0</td>\n",
       "      <td>0</td>\n",
       "      <td>0</td>\n",
       "      <td>0</td>\n",
       "      <td>0</td>\n",
       "      <td>0</td>\n",
       "      <td>0</td>\n",
       "      <td>0</td>\n",
       "      <td>1</td>\n",
       "      <td>0</td>\n",
       "      <td>0</td>\n",
       "      <td>0</td>\n",
       "      <td>0</td>\n",
       "      <td>0</td>\n",
       "      <td>0</td>\n",
       "      <td>0</td>\n",
       "      <td>0</td>\n",
       "      <td>1</td>\n",
       "      <td>0</td>\n",
       "      <td>0</td>\n",
       "      <td>0</td>\n",
       "      <td>0</td>\n",
       "      <td>사상체질과</td>\n",
       "      <td>0.0</td>\n",
       "      <td>1차 의료</td>\n",
       "    </tr>\n",
       "    <tr>\n",
       "      <th>407371</th>\n",
       "      <td>JDQ4MTYyMiM4MSMkMiMkMCMkMDAkNDgxMTkxIzMxIyQxIy...</td>\n",
       "      <td>더웰이비인후과의원</td>\n",
       "      <td>의원</td>\n",
       "      <td>개인</td>\n",
       "      <td>경북</td>\n",
       "      <td>구미시</td>\n",
       "      <td>20100420</td>\n",
       "      <td>0</td>\n",
       "      <td>0</td>\n",
       "      <td>0</td>\n",
       "      <td>0</td>\n",
       "      <td>0</td>\n",
       "      <td>0</td>\n",
       "      <td>0</td>\n",
       "      <td>0</td>\n",
       "      <td>0</td>\n",
       "      <td>0</td>\n",
       "      <td>0</td>\n",
       "      <td>0</td>\n",
       "      <td>0</td>\n",
       "      <td>0</td>\n",
       "      <td>1</td>\n",
       "      <td>0</td>\n",
       "      <td>0</td>\n",
       "      <td>0</td>\n",
       "      <td>1</td>\n",
       "      <td>0</td>\n",
       "      <td>0</td>\n",
       "      <td>0</td>\n",
       "      <td>0</td>\n",
       "      <td>0</td>\n",
       "      <td>0</td>\n",
       "      <td>0</td>\n",
       "      <td>0</td>\n",
       "      <td>0</td>\n",
       "      <td>내과</td>\n",
       "      <td>0.0</td>\n",
       "      <td>1차 의료</td>\n",
       "    </tr>\n",
       "    <tr>\n",
       "      <th>407376</th>\n",
       "      <td>JDQ4MTYyMiM4MSMkMSMkMCMkNzIkMzgxMTkxIzQxIyQxIy...</td>\n",
       "      <td>행복한치과의원</td>\n",
       "      <td>치과의원</td>\n",
       "      <td>개인</td>\n",
       "      <td>경북</td>\n",
       "      <td>포항북구</td>\n",
       "      <td>20130417</td>\n",
       "      <td>0</td>\n",
       "      <td>0</td>\n",
       "      <td>0</td>\n",
       "      <td>0</td>\n",
       "      <td>0</td>\n",
       "      <td>0</td>\n",
       "      <td>0</td>\n",
       "      <td>0</td>\n",
       "      <td>0</td>\n",
       "      <td>0</td>\n",
       "      <td>0</td>\n",
       "      <td>0</td>\n",
       "      <td>0</td>\n",
       "      <td>0</td>\n",
       "      <td>1</td>\n",
       "      <td>0</td>\n",
       "      <td>0</td>\n",
       "      <td>0</td>\n",
       "      <td>0</td>\n",
       "      <td>0</td>\n",
       "      <td>0</td>\n",
       "      <td>0</td>\n",
       "      <td>1</td>\n",
       "      <td>0</td>\n",
       "      <td>0</td>\n",
       "      <td>0</td>\n",
       "      <td>0</td>\n",
       "      <td>0</td>\n",
       "      <td>구강내과</td>\n",
       "      <td>0.0</td>\n",
       "      <td>1차 의료</td>\n",
       "    </tr>\n",
       "    <tr>\n",
       "      <th>407384</th>\n",
       "      <td>JDQ4MTYyMiM4MSMkMSMkMCMkMTMkNDgxOTYxIzUxIyQxIy...</td>\n",
       "      <td>손길한의원</td>\n",
       "      <td>한의원</td>\n",
       "      <td>개인</td>\n",
       "      <td>대구</td>\n",
       "      <td>대구수성구</td>\n",
       "      <td>20230608</td>\n",
       "      <td>0</td>\n",
       "      <td>0</td>\n",
       "      <td>0</td>\n",
       "      <td>0</td>\n",
       "      <td>0</td>\n",
       "      <td>0</td>\n",
       "      <td>0</td>\n",
       "      <td>0</td>\n",
       "      <td>0</td>\n",
       "      <td>0</td>\n",
       "      <td>0</td>\n",
       "      <td>0</td>\n",
       "      <td>0</td>\n",
       "      <td>0</td>\n",
       "      <td>1</td>\n",
       "      <td>0</td>\n",
       "      <td>0</td>\n",
       "      <td>0</td>\n",
       "      <td>0</td>\n",
       "      <td>0</td>\n",
       "      <td>0</td>\n",
       "      <td>0</td>\n",
       "      <td>0</td>\n",
       "      <td>0</td>\n",
       "      <td>0</td>\n",
       "      <td>0</td>\n",
       "      <td>1</td>\n",
       "      <td>0</td>\n",
       "      <td>사상체질과</td>\n",
       "      <td>0.0</td>\n",
       "      <td>1차 의료</td>\n",
       "    </tr>\n",
       "    <tr>\n",
       "      <th>407392</th>\n",
       "      <td>JDQ4MTYyMiM4MSMkMSMkMCMkMTMkNDgxOTYxIzUxIyQxIy...</td>\n",
       "      <td>온유한의원</td>\n",
       "      <td>한의원</td>\n",
       "      <td>개인</td>\n",
       "      <td>대구</td>\n",
       "      <td>대구북구</td>\n",
       "      <td>20230713</td>\n",
       "      <td>0</td>\n",
       "      <td>0</td>\n",
       "      <td>0</td>\n",
       "      <td>0</td>\n",
       "      <td>0</td>\n",
       "      <td>0</td>\n",
       "      <td>0</td>\n",
       "      <td>0</td>\n",
       "      <td>0</td>\n",
       "      <td>0</td>\n",
       "      <td>0</td>\n",
       "      <td>0</td>\n",
       "      <td>0</td>\n",
       "      <td>0</td>\n",
       "      <td>1</td>\n",
       "      <td>0</td>\n",
       "      <td>0</td>\n",
       "      <td>0</td>\n",
       "      <td>0</td>\n",
       "      <td>0</td>\n",
       "      <td>0</td>\n",
       "      <td>0</td>\n",
       "      <td>0</td>\n",
       "      <td>1</td>\n",
       "      <td>0</td>\n",
       "      <td>0</td>\n",
       "      <td>0</td>\n",
       "      <td>0</td>\n",
       "      <td>사상체질과</td>\n",
       "      <td>0.0</td>\n",
       "      <td>1차 의료</td>\n",
       "    </tr>\n",
       "  </tbody>\n",
       "</table>\n",
       "<p>78126 rows × 38 columns</p>\n",
       "</div>"
      ],
      "text/plain": [
       "                                                  암호화요양기호       요양기관명 종별코드명  \\\n",
       "0       JDQ4MTYyMiM4MSMkMiMkMCMkMDAkNDgxMTkxIzMxIyQxIy...     뽀빠이연합의원    의원   \n",
       "7       JDQ4MTYyMiM1MSMkMSMkMCMkNzIkNTgxMzUxIzUxIyQxIy...     청담e치과의원  치과의원   \n",
       "17      JDU4MTI3MSM1MSMkMiMkMCMkMDAkNTgxOTYxIzIxIyQxIy...   연세웰드림내과의원    의원   \n",
       "25      JDQ4MTYyMiM1MSMkMSMkMCMkNzIkNTgxOTYxIzIxIyQxIy...  연세바로세움치과의원  치과의원   \n",
       "36      JDQ4MTYyMiM2MSMkMSMkMiMkNzIkMzgxMTkxIzIxIyQxIy...      다은치과의원  치과의원   \n",
       "...                                                   ...         ...   ...   \n",
       "407363  JDQ4MTYyMiM2MSMkMSMkMiMkMTMkNDgxOTYxIzIxIyQxIy...      감초당한의원   한의원   \n",
       "407371  JDQ4MTYyMiM4MSMkMiMkMCMkMDAkNDgxMTkxIzMxIyQxIy...   더웰이비인후과의원    의원   \n",
       "407376  JDQ4MTYyMiM4MSMkMSMkMCMkNzIkMzgxMTkxIzQxIyQxIy...     행복한치과의원  치과의원   \n",
       "407384  JDQ4MTYyMiM4MSMkMSMkMCMkMTMkNDgxOTYxIzUxIyQxIy...       손길한의원   한의원   \n",
       "407392  JDQ4MTYyMiM4MSMkMSMkMCMkMTMkNDgxOTYxIzUxIyQxIy...       온유한의원   한의원   \n",
       "\n",
       "       설립구분코드명 시도코드명 시군구코드명      개설일자  성인중환자병상수  일반입원실병상수  소아중환자병상수  \\\n",
       "0           개인    대구   대구중구  20230424         0         0         0   \n",
       "7           개인    경기    구리시  20190401         0         0         0   \n",
       "17          개인    경기  성남수정구  20240112         0         0         0   \n",
       "25          개인    경기  고양덕양구  20240517         0         0         0   \n",
       "36          개인    대전   대전중구  20240117         0         0         0   \n",
       "...        ...   ...    ...       ...       ...       ...       ...   \n",
       "407363      개인    충남    보령시  20230707         0         0         0   \n",
       "407371      개인    경북    구미시  20100420         0         0         0   \n",
       "407376      개인    경북   포항북구  20130417         0         0         0   \n",
       "407384      개인    대구  대구수성구  20230608         0         0         0   \n",
       "407392      개인    대구   대구북구  20230713         0         0         0   \n",
       "\n",
       "        신생아중환자병상수  분만실병상수  수술실병상수  응급실병상수  물리치료실병상수  정신과폐쇄상급병상수  정신과폐쇄일반병상수  \\\n",
       "0               0       0       0       0        10           0           0   \n",
       "7               0       0       0       0         0           0           0   \n",
       "17              0       0       0       0         0           0           0   \n",
       "25              0       0       0       0         0           0           0   \n",
       "36              0       0       0       0         0           0           0   \n",
       "...           ...     ...     ...     ...       ...         ...         ...   \n",
       "407363          0       0       0       0         0           0           0   \n",
       "407371          0       0       0       0         0           0           0   \n",
       "407376          0       0       0       0         0           0           0   \n",
       "407384          0       0       0       0         0           0           0   \n",
       "407392          0       0       0       0         0           0           0   \n",
       "\n",
       "        정신과개방상급병상수  정신과폐쇄개방병상수  격리병실병상수  무균치료실병상수  총의사수  의과일반의 인원수  의과인턴 인원수  \\\n",
       "0                0           0        0         0     1          0         0   \n",
       "7                0           0        0         0     1          0         0   \n",
       "17               0           0        0         0     2          0         0   \n",
       "25               0           0        0         0     1          0         0   \n",
       "36               0           0        0         0     1          0         0   \n",
       "...            ...         ...      ...       ...   ...        ...       ...   \n",
       "407363           0           0        0         0     1          0         0   \n",
       "407371           0           0        0         0     1          0         0   \n",
       "407376           0           0        0         0     1          0         0   \n",
       "407384           0           0        0         0     1          0         0   \n",
       "407392           0           0        0         0     1          0         0   \n",
       "\n",
       "        의과레지던트 인원수  의과전문의 인원수  치과일반의 인원수  치과인턴 인원수  치과레지던트 인원수  치과전문의 인원수  \\\n",
       "0                0          1          0         0           0          0   \n",
       "7                0          0          1         0           0          0   \n",
       "17               0          2          0         0           0          0   \n",
       "25               0          0          0         0           0          1   \n",
       "36               0          0          1         0           0          0   \n",
       "...            ...        ...        ...       ...         ...        ...   \n",
       "407363           0          0          0         0           0          0   \n",
       "407371           0          1          0         0           0          0   \n",
       "407376           0          0          0         0           0          1   \n",
       "407384           0          0          0         0           0          0   \n",
       "407392           0          0          0         0           0          0   \n",
       "\n",
       "        한방일반의 인원수  한방인턴 인원수  한방레지던트 인원수  한방전문의 인원수  조산사 인원수 진료과목코드명  과목별 전문의수  \\\n",
       "0               0         0           0          0        0      내과       0.0   \n",
       "7               0         0           0          0        0    구강내과       0.0   \n",
       "17              0         0           0          0        0   가정의학과       0.0   \n",
       "25              0         0           0          0        0    구강내과       0.0   \n",
       "36              0         0           0          0        0    구강내과       0.0   \n",
       "...           ...       ...         ...        ...      ...     ...       ...   \n",
       "407363          1         0           0          0        0   사상체질과       0.0   \n",
       "407371          0         0           0          0        0      내과       0.0   \n",
       "407376          0         0           0          0        0    구강내과       0.0   \n",
       "407384          0         0           0          1        0   사상체질과       0.0   \n",
       "407392          1         0           0          0        0   사상체질과       0.0   \n",
       "\n",
       "         의료수준  \n",
       "0       1차 의료  \n",
       "7       1차 의료  \n",
       "17      1차 의료  \n",
       "25      1차 의료  \n",
       "36      1차 의료  \n",
       "...       ...  \n",
       "407363  1차 의료  \n",
       "407371  1차 의료  \n",
       "407376  1차 의료  \n",
       "407384  1차 의료  \n",
       "407392  1차 의료  \n",
       "\n",
       "[78126 rows x 38 columns]"
      ]
     },
     "execution_count": 15,
     "metadata": {},
     "output_type": "execute_result"
    }
   ],
   "source": [
    "# 병원 유형 분류 사전\n",
    "hospital_groups = {\n",
    "    '상급종합': '3차 의료',\n",
    "    '종합병원': '2차 의료',\n",
    "    '병원': '2차 의료',\n",
    "    '치과병원': '2차 의료',\n",
    "    '한방병원': '2차 의료',\n",
    "    '요양병원': '2차 의료',\n",
    "    '정신병원': '2차 의료',\n",
    "    '보건의료원': '2차 의료',\n",
    "    '의원': '1차 의료',\n",
    "    '치과의원': '1차 의료',\n",
    "    '한의원': '1차 의료',\n",
    "    '보건소': '1차 의료',\n",
    "    '보건지소': '1차 의료',\n",
    "    '보건진료소': '1차 의료',\n",
    "    '조산원': '특수의료'\n",
    "}\n",
    "\n",
    "# 중복 제거: 암호화요양기호를 기준으로 중복된 병원 제거\n",
    "df_2024_unique = df_2024.drop_duplicates(subset=['암호화요양기호'])\n",
    "\n",
    "# 병원 유형에 따른 1차, 2차, 3차 의료 수준 분류 추가\n",
    "df_2024_unique['의료수준'] = df_2024_unique['종별코드명'].map(hospital_groups)\n",
    "\n",
    "# 시도별 병원 유형 분포 집계 (2024년도 데이터)\n",
    "hospital_2024_by_region_level = df_2024_unique.groupby(['시도코드명', '의료수준']).size().unstack(fill_value=0)\n",
    "\n",
    "\n",
    "df_2024_unique"
   ]
  },
  {
   "cell_type": "code",
   "execution_count": 16,
   "metadata": {},
   "outputs": [],
   "source": [
    "df_2024_unique.to_csv('/Users/haeunpark/mid_project_data/2024_병원유형통합.csv', index=False)"
   ]
  },
  {
   "cell_type": "code",
   "execution_count": 17,
   "metadata": {},
   "outputs": [
    {
     "data": {
      "text/html": [
       "<div>\n",
       "<style scoped>\n",
       "    .dataframe tbody tr th:only-of-type {\n",
       "        vertical-align: middle;\n",
       "    }\n",
       "\n",
       "    .dataframe tbody tr th {\n",
       "        vertical-align: top;\n",
       "    }\n",
       "\n",
       "    .dataframe thead th {\n",
       "        text-align: right;\n",
       "    }\n",
       "</style>\n",
       "<table border=\"1\" class=\"dataframe\">\n",
       "  <thead>\n",
       "    <tr style=\"text-align: right;\">\n",
       "      <th>종별코드명</th>\n",
       "      <th>시도코드명</th>\n",
       "      <th>병원</th>\n",
       "      <th>보건소</th>\n",
       "      <th>보건의료원</th>\n",
       "      <th>보건지소</th>\n",
       "      <th>보건진료소</th>\n",
       "      <th>상급종합</th>\n",
       "      <th>요양병원</th>\n",
       "      <th>의원</th>\n",
       "      <th>정신병원</th>\n",
       "      <th>조산원</th>\n",
       "      <th>종합병원</th>\n",
       "      <th>치과병원</th>\n",
       "      <th>치과의원</th>\n",
       "      <th>한방병원</th>\n",
       "      <th>한의원</th>\n",
       "    </tr>\n",
       "  </thead>\n",
       "  <tbody>\n",
       "    <tr>\n",
       "      <th>0</th>\n",
       "      <td>서울</td>\n",
       "      <td>225</td>\n",
       "      <td>25</td>\n",
       "      <td>0</td>\n",
       "      <td>10</td>\n",
       "      <td>0</td>\n",
       "      <td>14</td>\n",
       "      <td>109</td>\n",
       "      <td>10020</td>\n",
       "      <td>12</td>\n",
       "      <td>3</td>\n",
       "      <td>44</td>\n",
       "      <td>57</td>\n",
       "      <td>4897</td>\n",
       "      <td>89</td>\n",
       "      <td>3653</td>\n",
       "    </tr>\n",
       "    <tr>\n",
       "      <th>1</th>\n",
       "      <td>경기</td>\n",
       "      <td>288</td>\n",
       "      <td>48</td>\n",
       "      <td>1</td>\n",
       "      <td>118</td>\n",
       "      <td>155</td>\n",
       "      <td>6</td>\n",
       "      <td>293</td>\n",
       "      <td>8301</td>\n",
       "      <td>53</td>\n",
       "      <td>5</td>\n",
       "      <td>66</td>\n",
       "      <td>44</td>\n",
       "      <td>4752</td>\n",
       "      <td>149</td>\n",
       "      <td>3352</td>\n",
       "    </tr>\n",
       "    <tr>\n",
       "      <th>2</th>\n",
       "      <td>인천</td>\n",
       "      <td>59</td>\n",
       "      <td>10</td>\n",
       "      <td>0</td>\n",
       "      <td>27</td>\n",
       "      <td>25</td>\n",
       "      <td>3</td>\n",
       "      <td>63</td>\n",
       "      <td>1823</td>\n",
       "      <td>17</td>\n",
       "      <td>1</td>\n",
       "      <td>18</td>\n",
       "      <td>13</td>\n",
       "      <td>1004</td>\n",
       "      <td>48</td>\n",
       "      <td>688</td>\n",
       "    </tr>\n",
       "    <tr>\n",
       "      <th>3</th>\n",
       "      <td>강원</td>\n",
       "      <td>36</td>\n",
       "      <td>16</td>\n",
       "      <td>2</td>\n",
       "      <td>97</td>\n",
       "      <td>129</td>\n",
       "      <td>2</td>\n",
       "      <td>32</td>\n",
       "      <td>813</td>\n",
       "      <td>9</td>\n",
       "      <td>0</td>\n",
       "      <td>14</td>\n",
       "      <td>4</td>\n",
       "      <td>437</td>\n",
       "      <td>6</td>\n",
       "      <td>378</td>\n",
       "    </tr>\n",
       "    <tr>\n",
       "      <th>4</th>\n",
       "      <td>경남</td>\n",
       "      <td>128</td>\n",
       "      <td>20</td>\n",
       "      <td>1</td>\n",
       "      <td>173</td>\n",
       "      <td>220</td>\n",
       "      <td>3</td>\n",
       "      <td>114</td>\n",
       "      <td>1727</td>\n",
       "      <td>30</td>\n",
       "      <td>1</td>\n",
       "      <td>23</td>\n",
       "      <td>22</td>\n",
       "      <td>954</td>\n",
       "      <td>27</td>\n",
       "      <td>785</td>\n",
       "    </tr>\n",
       "    <tr>\n",
       "      <th>5</th>\n",
       "      <td>경북</td>\n",
       "      <td>52</td>\n",
       "      <td>22</td>\n",
       "      <td>2</td>\n",
       "      <td>216</td>\n",
       "      <td>298</td>\n",
       "      <td>0</td>\n",
       "      <td>104</td>\n",
       "      <td>1309</td>\n",
       "      <td>26</td>\n",
       "      <td>1</td>\n",
       "      <td>21</td>\n",
       "      <td>11</td>\n",
       "      <td>698</td>\n",
       "      <td>9</td>\n",
       "      <td>627</td>\n",
       "    </tr>\n",
       "    <tr>\n",
       "      <th>6</th>\n",
       "      <td>광주</td>\n",
       "      <td>83</td>\n",
       "      <td>5</td>\n",
       "      <td>0</td>\n",
       "      <td>2</td>\n",
       "      <td>10</td>\n",
       "      <td>2</td>\n",
       "      <td>60</td>\n",
       "      <td>1068</td>\n",
       "      <td>9</td>\n",
       "      <td>0</td>\n",
       "      <td>23</td>\n",
       "      <td>14</td>\n",
       "      <td>645</td>\n",
       "      <td>88</td>\n",
       "      <td>319</td>\n",
       "    </tr>\n",
       "    <tr>\n",
       "      <th>7</th>\n",
       "      <td>대구</td>\n",
       "      <td>90</td>\n",
       "      <td>9</td>\n",
       "      <td>0</td>\n",
       "      <td>15</td>\n",
       "      <td>18</td>\n",
       "      <td>5</td>\n",
       "      <td>73</td>\n",
       "      <td>2028</td>\n",
       "      <td>16</td>\n",
       "      <td>0</td>\n",
       "      <td>14</td>\n",
       "      <td>13</td>\n",
       "      <td>945</td>\n",
       "      <td>19</td>\n",
       "      <td>906</td>\n",
       "    </tr>\n",
       "    <tr>\n",
       "      <th>8</th>\n",
       "      <td>대전</td>\n",
       "      <td>48</td>\n",
       "      <td>5</td>\n",
       "      <td>0</td>\n",
       "      <td>6</td>\n",
       "      <td>7</td>\n",
       "      <td>2</td>\n",
       "      <td>45</td>\n",
       "      <td>1135</td>\n",
       "      <td>7</td>\n",
       "      <td>1</td>\n",
       "      <td>8</td>\n",
       "      <td>7</td>\n",
       "      <td>558</td>\n",
       "      <td>15</td>\n",
       "      <td>501</td>\n",
       "    </tr>\n",
       "    <tr>\n",
       "      <th>9</th>\n",
       "      <td>부산</td>\n",
       "      <td>145</td>\n",
       "      <td>16</td>\n",
       "      <td>0</td>\n",
       "      <td>11</td>\n",
       "      <td>5</td>\n",
       "      <td>4</td>\n",
       "      <td>161</td>\n",
       "      <td>2640</td>\n",
       "      <td>23</td>\n",
       "      <td>1</td>\n",
       "      <td>25</td>\n",
       "      <td>25</td>\n",
       "      <td>1338</td>\n",
       "      <td>27</td>\n",
       "      <td>1150</td>\n",
       "    </tr>\n",
       "    <tr>\n",
       "      <th>10</th>\n",
       "      <td>세종시</td>\n",
       "      <td>3</td>\n",
       "      <td>1</td>\n",
       "      <td>0</td>\n",
       "      <td>10</td>\n",
       "      <td>7</td>\n",
       "      <td>0</td>\n",
       "      <td>4</td>\n",
       "      <td>231</td>\n",
       "      <td>1</td>\n",
       "      <td>0</td>\n",
       "      <td>2</td>\n",
       "      <td>1</td>\n",
       "      <td>99</td>\n",
       "      <td>3</td>\n",
       "      <td>101</td>\n",
       "    </tr>\n",
       "    <tr>\n",
       "      <th>11</th>\n",
       "      <td>울산</td>\n",
       "      <td>32</td>\n",
       "      <td>5</td>\n",
       "      <td>0</td>\n",
       "      <td>8</td>\n",
       "      <td>11</td>\n",
       "      <td>1</td>\n",
       "      <td>37</td>\n",
       "      <td>645</td>\n",
       "      <td>6</td>\n",
       "      <td>0</td>\n",
       "      <td>8</td>\n",
       "      <td>4</td>\n",
       "      <td>386</td>\n",
       "      <td>7</td>\n",
       "      <td>276</td>\n",
       "    </tr>\n",
       "    <tr>\n",
       "      <th>12</th>\n",
       "      <td>전남</td>\n",
       "      <td>73</td>\n",
       "      <td>19</td>\n",
       "      <td>3</td>\n",
       "      <td>216</td>\n",
       "      <td>327</td>\n",
       "      <td>1</td>\n",
       "      <td>79</td>\n",
       "      <td>963</td>\n",
       "      <td>11</td>\n",
       "      <td>0</td>\n",
       "      <td>25</td>\n",
       "      <td>7</td>\n",
       "      <td>514</td>\n",
       "      <td>29</td>\n",
       "      <td>355</td>\n",
       "    </tr>\n",
       "    <tr>\n",
       "      <th>13</th>\n",
       "      <td>전북</td>\n",
       "      <td>57</td>\n",
       "      <td>11</td>\n",
       "      <td>4</td>\n",
       "      <td>148</td>\n",
       "      <td>240</td>\n",
       "      <td>2</td>\n",
       "      <td>75</td>\n",
       "      <td>1227</td>\n",
       "      <td>11</td>\n",
       "      <td>0</td>\n",
       "      <td>11</td>\n",
       "      <td>3</td>\n",
       "      <td>611</td>\n",
       "      <td>35</td>\n",
       "      <td>507</td>\n",
       "    </tr>\n",
       "    <tr>\n",
       "      <th>14</th>\n",
       "      <td>제주</td>\n",
       "      <td>8</td>\n",
       "      <td>6</td>\n",
       "      <td>0</td>\n",
       "      <td>11</td>\n",
       "      <td>48</td>\n",
       "      <td>0</td>\n",
       "      <td>11</td>\n",
       "      <td>503</td>\n",
       "      <td>2</td>\n",
       "      <td>1</td>\n",
       "      <td>6</td>\n",
       "      <td>1</td>\n",
       "      <td>247</td>\n",
       "      <td>1</td>\n",
       "      <td>196</td>\n",
       "    </tr>\n",
       "    <tr>\n",
       "      <th>15</th>\n",
       "      <td>충남</td>\n",
       "      <td>47</td>\n",
       "      <td>14</td>\n",
       "      <td>2</td>\n",
       "      <td>150</td>\n",
       "      <td>236</td>\n",
       "      <td>1</td>\n",
       "      <td>66</td>\n",
       "      <td>1136</td>\n",
       "      <td>17</td>\n",
       "      <td>0</td>\n",
       "      <td>12</td>\n",
       "      <td>12</td>\n",
       "      <td>618</td>\n",
       "      <td>17</td>\n",
       "      <td>523</td>\n",
       "    </tr>\n",
       "    <tr>\n",
       "      <th>16</th>\n",
       "      <td>충북</td>\n",
       "      <td>37</td>\n",
       "      <td>13</td>\n",
       "      <td>1</td>\n",
       "      <td>94</td>\n",
       "      <td>159</td>\n",
       "      <td>1</td>\n",
       "      <td>36</td>\n",
       "      <td>933</td>\n",
       "      <td>12</td>\n",
       "      <td>1</td>\n",
       "      <td>12</td>\n",
       "      <td>4</td>\n",
       "      <td>475</td>\n",
       "      <td>12</td>\n",
       "      <td>409</td>\n",
       "    </tr>\n",
       "  </tbody>\n",
       "</table>\n",
       "</div>"
      ],
      "text/plain": [
       "종별코드명 시도코드명   병원  보건소  보건의료원  보건지소  보건진료소  상급종합  요양병원     의원  정신병원  조산원  종합병원  \\\n",
       "0        서울  225   25      0    10      0    14   109  10020    12    3    44   \n",
       "1        경기  288   48      1   118    155     6   293   8301    53    5    66   \n",
       "2        인천   59   10      0    27     25     3    63   1823    17    1    18   \n",
       "3        강원   36   16      2    97    129     2    32    813     9    0    14   \n",
       "4        경남  128   20      1   173    220     3   114   1727    30    1    23   \n",
       "5        경북   52   22      2   216    298     0   104   1309    26    1    21   \n",
       "6        광주   83    5      0     2     10     2    60   1068     9    0    23   \n",
       "7        대구   90    9      0    15     18     5    73   2028    16    0    14   \n",
       "8        대전   48    5      0     6      7     2    45   1135     7    1     8   \n",
       "9        부산  145   16      0    11      5     4   161   2640    23    1    25   \n",
       "10      세종시    3    1      0    10      7     0     4    231     1    0     2   \n",
       "11       울산   32    5      0     8     11     1    37    645     6    0     8   \n",
       "12       전남   73   19      3   216    327     1    79    963    11    0    25   \n",
       "13       전북   57   11      4   148    240     2    75   1227    11    0    11   \n",
       "14       제주    8    6      0    11     48     0    11    503     2    1     6   \n",
       "15       충남   47   14      2   150    236     1    66   1136    17    0    12   \n",
       "16       충북   37   13      1    94    159     1    36    933    12    1    12   \n",
       "\n",
       "종별코드명  치과병원  치과의원  한방병원   한의원  \n",
       "0        57  4897    89  3653  \n",
       "1        44  4752   149  3352  \n",
       "2        13  1004    48   688  \n",
       "3         4   437     6   378  \n",
       "4        22   954    27   785  \n",
       "5        11   698     9   627  \n",
       "6        14   645    88   319  \n",
       "7        13   945    19   906  \n",
       "8         7   558    15   501  \n",
       "9        25  1338    27  1150  \n",
       "10        1    99     3   101  \n",
       "11        4   386     7   276  \n",
       "12        7   514    29   355  \n",
       "13        3   611    35   507  \n",
       "14        1   247     1   196  \n",
       "15       12   618    17   523  \n",
       "16        4   475    12   409  "
      ]
     },
     "execution_count": 17,
     "metadata": {},
     "output_type": "execute_result"
    }
   ],
   "source": [
    "# 암호화요양기호(병원 고유 식별자)를 기준으로 중복된 병원 제거 및 시도별 병원유형별 집계\n",
    "\n",
    "# 중복제거\n",
    "df_unique_hospitals = df_2024.drop_duplicates(subset=['암호화요양기호'])\n",
    "\n",
    "# 집계\n",
    "hospital_distribution_by_region = df_unique_hospitals.groupby(['시도코드명', '종별코드명']).size().unstack(fill_value=0)\n",
    "\n",
    "# 서울, 경기, 인천을 가장 앞으로 두고 나머지 시도는 뒤에 위치하도록 설정\n",
    "desired_order = ['서울', '경기', '인천'] + [x for x in hospital_distribution_by_region.index if x not in ['서울', '경기', '인천']]\n",
    "hospital_distribution_by_region = hospital_distribution_by_region.reindex(desired_order)\n",
    "\n",
    "# 인덱스를 다시 열로 변환 (reset_index)\n",
    "hospital_distribution_by_region = hospital_distribution_by_region.reset_index()\n",
    "hospital_distribution_by_region"
   ]
  },
  {
   "cell_type": "code",
   "execution_count": 18,
   "metadata": {},
   "outputs": [],
   "source": [
    "hospital_distribution_by_region.to_csv('/Users/haeunpark/mid_project_data/2024_지역별병원유형수.csv', index=False)"
   ]
  },
  {
   "cell_type": "code",
   "execution_count": 19,
   "metadata": {},
   "outputs": [
    {
     "data": {
      "application/vnd.plotly.v1+json": {
       "config": {
        "plotlyServerURL": "https://plot.ly"
       },
       "data": [
        {
         "alignmentgroup": "True",
         "hovertemplate": "variable=병원<br>시도코드명=%{x}<br>value=%{y}<extra></extra>",
         "legendgroup": "병원",
         "marker": {
          "color": "#636efa",
          "pattern": {
           "shape": ""
          }
         },
         "name": "병원",
         "offsetgroup": "병원",
         "orientation": "v",
         "showlegend": true,
         "textposition": "auto",
         "type": "bar",
         "x": [
          "서울",
          "경기",
          "인천",
          "강원",
          "경남",
          "경북",
          "광주",
          "대구",
          "대전",
          "부산",
          "세종시",
          "울산",
          "전남",
          "전북",
          "제주",
          "충남",
          "충북"
         ],
         "xaxis": "x",
         "y": [
          225,
          288,
          59,
          36,
          128,
          52,
          83,
          90,
          48,
          145,
          3,
          32,
          73,
          57,
          8,
          47,
          37
         ],
         "yaxis": "y"
        },
        {
         "alignmentgroup": "True",
         "hovertemplate": "variable=보건소<br>시도코드명=%{x}<br>value=%{y}<extra></extra>",
         "legendgroup": "보건소",
         "marker": {
          "color": "#EF553B",
          "pattern": {
           "shape": ""
          }
         },
         "name": "보건소",
         "offsetgroup": "보건소",
         "orientation": "v",
         "showlegend": true,
         "textposition": "auto",
         "type": "bar",
         "x": [
          "서울",
          "경기",
          "인천",
          "강원",
          "경남",
          "경북",
          "광주",
          "대구",
          "대전",
          "부산",
          "세종시",
          "울산",
          "전남",
          "전북",
          "제주",
          "충남",
          "충북"
         ],
         "xaxis": "x",
         "y": [
          25,
          48,
          10,
          16,
          20,
          22,
          5,
          9,
          5,
          16,
          1,
          5,
          19,
          11,
          6,
          14,
          13
         ],
         "yaxis": "y"
        },
        {
         "alignmentgroup": "True",
         "hovertemplate": "variable=보건의료원<br>시도코드명=%{x}<br>value=%{y}<extra></extra>",
         "legendgroup": "보건의료원",
         "marker": {
          "color": "#00cc96",
          "pattern": {
           "shape": ""
          }
         },
         "name": "보건의료원",
         "offsetgroup": "보건의료원",
         "orientation": "v",
         "showlegend": true,
         "textposition": "auto",
         "type": "bar",
         "x": [
          "서울",
          "경기",
          "인천",
          "강원",
          "경남",
          "경북",
          "광주",
          "대구",
          "대전",
          "부산",
          "세종시",
          "울산",
          "전남",
          "전북",
          "제주",
          "충남",
          "충북"
         ],
         "xaxis": "x",
         "y": [
          0,
          1,
          0,
          2,
          1,
          2,
          0,
          0,
          0,
          0,
          0,
          0,
          3,
          4,
          0,
          2,
          1
         ],
         "yaxis": "y"
        },
        {
         "alignmentgroup": "True",
         "hovertemplate": "variable=보건지소<br>시도코드명=%{x}<br>value=%{y}<extra></extra>",
         "legendgroup": "보건지소",
         "marker": {
          "color": "#ab63fa",
          "pattern": {
           "shape": ""
          }
         },
         "name": "보건지소",
         "offsetgroup": "보건지소",
         "orientation": "v",
         "showlegend": true,
         "textposition": "auto",
         "type": "bar",
         "x": [
          "서울",
          "경기",
          "인천",
          "강원",
          "경남",
          "경북",
          "광주",
          "대구",
          "대전",
          "부산",
          "세종시",
          "울산",
          "전남",
          "전북",
          "제주",
          "충남",
          "충북"
         ],
         "xaxis": "x",
         "y": [
          10,
          118,
          27,
          97,
          173,
          216,
          2,
          15,
          6,
          11,
          10,
          8,
          216,
          148,
          11,
          150,
          94
         ],
         "yaxis": "y"
        },
        {
         "alignmentgroup": "True",
         "hovertemplate": "variable=보건진료소<br>시도코드명=%{x}<br>value=%{y}<extra></extra>",
         "legendgroup": "보건진료소",
         "marker": {
          "color": "#FFA15A",
          "pattern": {
           "shape": ""
          }
         },
         "name": "보건진료소",
         "offsetgroup": "보건진료소",
         "orientation": "v",
         "showlegend": true,
         "textposition": "auto",
         "type": "bar",
         "x": [
          "서울",
          "경기",
          "인천",
          "강원",
          "경남",
          "경북",
          "광주",
          "대구",
          "대전",
          "부산",
          "세종시",
          "울산",
          "전남",
          "전북",
          "제주",
          "충남",
          "충북"
         ],
         "xaxis": "x",
         "y": [
          0,
          155,
          25,
          129,
          220,
          298,
          10,
          18,
          7,
          5,
          7,
          11,
          327,
          240,
          48,
          236,
          159
         ],
         "yaxis": "y"
        },
        {
         "alignmentgroup": "True",
         "hovertemplate": "variable=상급종합<br>시도코드명=%{x}<br>value=%{y}<extra></extra>",
         "legendgroup": "상급종합",
         "marker": {
          "color": "#19d3f3",
          "pattern": {
           "shape": ""
          }
         },
         "name": "상급종합",
         "offsetgroup": "상급종합",
         "orientation": "v",
         "showlegend": true,
         "textposition": "auto",
         "type": "bar",
         "x": [
          "서울",
          "경기",
          "인천",
          "강원",
          "경남",
          "경북",
          "광주",
          "대구",
          "대전",
          "부산",
          "세종시",
          "울산",
          "전남",
          "전북",
          "제주",
          "충남",
          "충북"
         ],
         "xaxis": "x",
         "y": [
          14,
          6,
          3,
          2,
          3,
          0,
          2,
          5,
          2,
          4,
          0,
          1,
          1,
          2,
          0,
          1,
          1
         ],
         "yaxis": "y"
        },
        {
         "alignmentgroup": "True",
         "hovertemplate": "variable=요양병원<br>시도코드명=%{x}<br>value=%{y}<extra></extra>",
         "legendgroup": "요양병원",
         "marker": {
          "color": "#FF6692",
          "pattern": {
           "shape": ""
          }
         },
         "name": "요양병원",
         "offsetgroup": "요양병원",
         "orientation": "v",
         "showlegend": true,
         "textposition": "auto",
         "type": "bar",
         "x": [
          "서울",
          "경기",
          "인천",
          "강원",
          "경남",
          "경북",
          "광주",
          "대구",
          "대전",
          "부산",
          "세종시",
          "울산",
          "전남",
          "전북",
          "제주",
          "충남",
          "충북"
         ],
         "xaxis": "x",
         "y": [
          109,
          293,
          63,
          32,
          114,
          104,
          60,
          73,
          45,
          161,
          4,
          37,
          79,
          75,
          11,
          66,
          36
         ],
         "yaxis": "y"
        },
        {
         "alignmentgroup": "True",
         "hovertemplate": "variable=의원<br>시도코드명=%{x}<br>value=%{y}<extra></extra>",
         "legendgroup": "의원",
         "marker": {
          "color": "#B6E880",
          "pattern": {
           "shape": ""
          }
         },
         "name": "의원",
         "offsetgroup": "의원",
         "orientation": "v",
         "showlegend": true,
         "textposition": "auto",
         "type": "bar",
         "x": [
          "서울",
          "경기",
          "인천",
          "강원",
          "경남",
          "경북",
          "광주",
          "대구",
          "대전",
          "부산",
          "세종시",
          "울산",
          "전남",
          "전북",
          "제주",
          "충남",
          "충북"
         ],
         "xaxis": "x",
         "y": [
          10020,
          8301,
          1823,
          813,
          1727,
          1309,
          1068,
          2028,
          1135,
          2640,
          231,
          645,
          963,
          1227,
          503,
          1136,
          933
         ],
         "yaxis": "y"
        },
        {
         "alignmentgroup": "True",
         "hovertemplate": "variable=정신병원<br>시도코드명=%{x}<br>value=%{y}<extra></extra>",
         "legendgroup": "정신병원",
         "marker": {
          "color": "#FF97FF",
          "pattern": {
           "shape": ""
          }
         },
         "name": "정신병원",
         "offsetgroup": "정신병원",
         "orientation": "v",
         "showlegend": true,
         "textposition": "auto",
         "type": "bar",
         "x": [
          "서울",
          "경기",
          "인천",
          "강원",
          "경남",
          "경북",
          "광주",
          "대구",
          "대전",
          "부산",
          "세종시",
          "울산",
          "전남",
          "전북",
          "제주",
          "충남",
          "충북"
         ],
         "xaxis": "x",
         "y": [
          12,
          53,
          17,
          9,
          30,
          26,
          9,
          16,
          7,
          23,
          1,
          6,
          11,
          11,
          2,
          17,
          12
         ],
         "yaxis": "y"
        },
        {
         "alignmentgroup": "True",
         "hovertemplate": "variable=조산원<br>시도코드명=%{x}<br>value=%{y}<extra></extra>",
         "legendgroup": "조산원",
         "marker": {
          "color": "#FECB52",
          "pattern": {
           "shape": ""
          }
         },
         "name": "조산원",
         "offsetgroup": "조산원",
         "orientation": "v",
         "showlegend": true,
         "textposition": "auto",
         "type": "bar",
         "x": [
          "서울",
          "경기",
          "인천",
          "강원",
          "경남",
          "경북",
          "광주",
          "대구",
          "대전",
          "부산",
          "세종시",
          "울산",
          "전남",
          "전북",
          "제주",
          "충남",
          "충북"
         ],
         "xaxis": "x",
         "y": [
          3,
          5,
          1,
          0,
          1,
          1,
          0,
          0,
          1,
          1,
          0,
          0,
          0,
          0,
          1,
          0,
          1
         ],
         "yaxis": "y"
        },
        {
         "alignmentgroup": "True",
         "hovertemplate": "variable=종합병원<br>시도코드명=%{x}<br>value=%{y}<extra></extra>",
         "legendgroup": "종합병원",
         "marker": {
          "color": "#636efa",
          "pattern": {
           "shape": ""
          }
         },
         "name": "종합병원",
         "offsetgroup": "종합병원",
         "orientation": "v",
         "showlegend": true,
         "textposition": "auto",
         "type": "bar",
         "x": [
          "서울",
          "경기",
          "인천",
          "강원",
          "경남",
          "경북",
          "광주",
          "대구",
          "대전",
          "부산",
          "세종시",
          "울산",
          "전남",
          "전북",
          "제주",
          "충남",
          "충북"
         ],
         "xaxis": "x",
         "y": [
          44,
          66,
          18,
          14,
          23,
          21,
          23,
          14,
          8,
          25,
          2,
          8,
          25,
          11,
          6,
          12,
          12
         ],
         "yaxis": "y"
        },
        {
         "alignmentgroup": "True",
         "hovertemplate": "variable=치과병원<br>시도코드명=%{x}<br>value=%{y}<extra></extra>",
         "legendgroup": "치과병원",
         "marker": {
          "color": "#EF553B",
          "pattern": {
           "shape": ""
          }
         },
         "name": "치과병원",
         "offsetgroup": "치과병원",
         "orientation": "v",
         "showlegend": true,
         "textposition": "auto",
         "type": "bar",
         "x": [
          "서울",
          "경기",
          "인천",
          "강원",
          "경남",
          "경북",
          "광주",
          "대구",
          "대전",
          "부산",
          "세종시",
          "울산",
          "전남",
          "전북",
          "제주",
          "충남",
          "충북"
         ],
         "xaxis": "x",
         "y": [
          57,
          44,
          13,
          4,
          22,
          11,
          14,
          13,
          7,
          25,
          1,
          4,
          7,
          3,
          1,
          12,
          4
         ],
         "yaxis": "y"
        },
        {
         "alignmentgroup": "True",
         "hovertemplate": "variable=치과의원<br>시도코드명=%{x}<br>value=%{y}<extra></extra>",
         "legendgroup": "치과의원",
         "marker": {
          "color": "#00cc96",
          "pattern": {
           "shape": ""
          }
         },
         "name": "치과의원",
         "offsetgroup": "치과의원",
         "orientation": "v",
         "showlegend": true,
         "textposition": "auto",
         "type": "bar",
         "x": [
          "서울",
          "경기",
          "인천",
          "강원",
          "경남",
          "경북",
          "광주",
          "대구",
          "대전",
          "부산",
          "세종시",
          "울산",
          "전남",
          "전북",
          "제주",
          "충남",
          "충북"
         ],
         "xaxis": "x",
         "y": [
          4897,
          4752,
          1004,
          437,
          954,
          698,
          645,
          945,
          558,
          1338,
          99,
          386,
          514,
          611,
          247,
          618,
          475
         ],
         "yaxis": "y"
        },
        {
         "alignmentgroup": "True",
         "hovertemplate": "variable=한방병원<br>시도코드명=%{x}<br>value=%{y}<extra></extra>",
         "legendgroup": "한방병원",
         "marker": {
          "color": "#ab63fa",
          "pattern": {
           "shape": ""
          }
         },
         "name": "한방병원",
         "offsetgroup": "한방병원",
         "orientation": "v",
         "showlegend": true,
         "textposition": "auto",
         "type": "bar",
         "x": [
          "서울",
          "경기",
          "인천",
          "강원",
          "경남",
          "경북",
          "광주",
          "대구",
          "대전",
          "부산",
          "세종시",
          "울산",
          "전남",
          "전북",
          "제주",
          "충남",
          "충북"
         ],
         "xaxis": "x",
         "y": [
          89,
          149,
          48,
          6,
          27,
          9,
          88,
          19,
          15,
          27,
          3,
          7,
          29,
          35,
          1,
          17,
          12
         ],
         "yaxis": "y"
        },
        {
         "alignmentgroup": "True",
         "hovertemplate": "variable=한의원<br>시도코드명=%{x}<br>value=%{y}<extra></extra>",
         "legendgroup": "한의원",
         "marker": {
          "color": "#FFA15A",
          "pattern": {
           "shape": ""
          }
         },
         "name": "한의원",
         "offsetgroup": "한의원",
         "orientation": "v",
         "showlegend": true,
         "textposition": "auto",
         "type": "bar",
         "x": [
          "서울",
          "경기",
          "인천",
          "강원",
          "경남",
          "경북",
          "광주",
          "대구",
          "대전",
          "부산",
          "세종시",
          "울산",
          "전남",
          "전북",
          "제주",
          "충남",
          "충북"
         ],
         "xaxis": "x",
         "y": [
          3653,
          3352,
          688,
          378,
          785,
          627,
          319,
          906,
          501,
          1150,
          101,
          276,
          355,
          507,
          196,
          523,
          409
         ],
         "yaxis": "y"
        }
       ],
       "layout": {
        "barmode": "stack",
        "legend": {
         "title": {
          "text": "variable"
         },
         "tracegroupgap": 0
        },
        "template": {
         "data": {
          "bar": [
           {
            "error_x": {
             "color": "#2a3f5f"
            },
            "error_y": {
             "color": "#2a3f5f"
            },
            "marker": {
             "line": {
              "color": "#E5ECF6",
              "width": 0.5
             },
             "pattern": {
              "fillmode": "overlay",
              "size": 10,
              "solidity": 0.2
             }
            },
            "type": "bar"
           }
          ],
          "barpolar": [
           {
            "marker": {
             "line": {
              "color": "#E5ECF6",
              "width": 0.5
             },
             "pattern": {
              "fillmode": "overlay",
              "size": 10,
              "solidity": 0.2
             }
            },
            "type": "barpolar"
           }
          ],
          "carpet": [
           {
            "aaxis": {
             "endlinecolor": "#2a3f5f",
             "gridcolor": "white",
             "linecolor": "white",
             "minorgridcolor": "white",
             "startlinecolor": "#2a3f5f"
            },
            "baxis": {
             "endlinecolor": "#2a3f5f",
             "gridcolor": "white",
             "linecolor": "white",
             "minorgridcolor": "white",
             "startlinecolor": "#2a3f5f"
            },
            "type": "carpet"
           }
          ],
          "choropleth": [
           {
            "colorbar": {
             "outlinewidth": 0,
             "ticks": ""
            },
            "type": "choropleth"
           }
          ],
          "contour": [
           {
            "colorbar": {
             "outlinewidth": 0,
             "ticks": ""
            },
            "colorscale": [
             [
              0,
              "#0d0887"
             ],
             [
              0.1111111111111111,
              "#46039f"
             ],
             [
              0.2222222222222222,
              "#7201a8"
             ],
             [
              0.3333333333333333,
              "#9c179e"
             ],
             [
              0.4444444444444444,
              "#bd3786"
             ],
             [
              0.5555555555555556,
              "#d8576b"
             ],
             [
              0.6666666666666666,
              "#ed7953"
             ],
             [
              0.7777777777777778,
              "#fb9f3a"
             ],
             [
              0.8888888888888888,
              "#fdca26"
             ],
             [
              1,
              "#f0f921"
             ]
            ],
            "type": "contour"
           }
          ],
          "contourcarpet": [
           {
            "colorbar": {
             "outlinewidth": 0,
             "ticks": ""
            },
            "type": "contourcarpet"
           }
          ],
          "heatmap": [
           {
            "colorbar": {
             "outlinewidth": 0,
             "ticks": ""
            },
            "colorscale": [
             [
              0,
              "#0d0887"
             ],
             [
              0.1111111111111111,
              "#46039f"
             ],
             [
              0.2222222222222222,
              "#7201a8"
             ],
             [
              0.3333333333333333,
              "#9c179e"
             ],
             [
              0.4444444444444444,
              "#bd3786"
             ],
             [
              0.5555555555555556,
              "#d8576b"
             ],
             [
              0.6666666666666666,
              "#ed7953"
             ],
             [
              0.7777777777777778,
              "#fb9f3a"
             ],
             [
              0.8888888888888888,
              "#fdca26"
             ],
             [
              1,
              "#f0f921"
             ]
            ],
            "type": "heatmap"
           }
          ],
          "heatmapgl": [
           {
            "colorbar": {
             "outlinewidth": 0,
             "ticks": ""
            },
            "colorscale": [
             [
              0,
              "#0d0887"
             ],
             [
              0.1111111111111111,
              "#46039f"
             ],
             [
              0.2222222222222222,
              "#7201a8"
             ],
             [
              0.3333333333333333,
              "#9c179e"
             ],
             [
              0.4444444444444444,
              "#bd3786"
             ],
             [
              0.5555555555555556,
              "#d8576b"
             ],
             [
              0.6666666666666666,
              "#ed7953"
             ],
             [
              0.7777777777777778,
              "#fb9f3a"
             ],
             [
              0.8888888888888888,
              "#fdca26"
             ],
             [
              1,
              "#f0f921"
             ]
            ],
            "type": "heatmapgl"
           }
          ],
          "histogram": [
           {
            "marker": {
             "pattern": {
              "fillmode": "overlay",
              "size": 10,
              "solidity": 0.2
             }
            },
            "type": "histogram"
           }
          ],
          "histogram2d": [
           {
            "colorbar": {
             "outlinewidth": 0,
             "ticks": ""
            },
            "colorscale": [
             [
              0,
              "#0d0887"
             ],
             [
              0.1111111111111111,
              "#46039f"
             ],
             [
              0.2222222222222222,
              "#7201a8"
             ],
             [
              0.3333333333333333,
              "#9c179e"
             ],
             [
              0.4444444444444444,
              "#bd3786"
             ],
             [
              0.5555555555555556,
              "#d8576b"
             ],
             [
              0.6666666666666666,
              "#ed7953"
             ],
             [
              0.7777777777777778,
              "#fb9f3a"
             ],
             [
              0.8888888888888888,
              "#fdca26"
             ],
             [
              1,
              "#f0f921"
             ]
            ],
            "type": "histogram2d"
           }
          ],
          "histogram2dcontour": [
           {
            "colorbar": {
             "outlinewidth": 0,
             "ticks": ""
            },
            "colorscale": [
             [
              0,
              "#0d0887"
             ],
             [
              0.1111111111111111,
              "#46039f"
             ],
             [
              0.2222222222222222,
              "#7201a8"
             ],
             [
              0.3333333333333333,
              "#9c179e"
             ],
             [
              0.4444444444444444,
              "#bd3786"
             ],
             [
              0.5555555555555556,
              "#d8576b"
             ],
             [
              0.6666666666666666,
              "#ed7953"
             ],
             [
              0.7777777777777778,
              "#fb9f3a"
             ],
             [
              0.8888888888888888,
              "#fdca26"
             ],
             [
              1,
              "#f0f921"
             ]
            ],
            "type": "histogram2dcontour"
           }
          ],
          "mesh3d": [
           {
            "colorbar": {
             "outlinewidth": 0,
             "ticks": ""
            },
            "type": "mesh3d"
           }
          ],
          "parcoords": [
           {
            "line": {
             "colorbar": {
              "outlinewidth": 0,
              "ticks": ""
             }
            },
            "type": "parcoords"
           }
          ],
          "pie": [
           {
            "automargin": true,
            "type": "pie"
           }
          ],
          "scatter": [
           {
            "fillpattern": {
             "fillmode": "overlay",
             "size": 10,
             "solidity": 0.2
            },
            "type": "scatter"
           }
          ],
          "scatter3d": [
           {
            "line": {
             "colorbar": {
              "outlinewidth": 0,
              "ticks": ""
             }
            },
            "marker": {
             "colorbar": {
              "outlinewidth": 0,
              "ticks": ""
             }
            },
            "type": "scatter3d"
           }
          ],
          "scattercarpet": [
           {
            "marker": {
             "colorbar": {
              "outlinewidth": 0,
              "ticks": ""
             }
            },
            "type": "scattercarpet"
           }
          ],
          "scattergeo": [
           {
            "marker": {
             "colorbar": {
              "outlinewidth": 0,
              "ticks": ""
             }
            },
            "type": "scattergeo"
           }
          ],
          "scattergl": [
           {
            "marker": {
             "colorbar": {
              "outlinewidth": 0,
              "ticks": ""
             }
            },
            "type": "scattergl"
           }
          ],
          "scattermapbox": [
           {
            "marker": {
             "colorbar": {
              "outlinewidth": 0,
              "ticks": ""
             }
            },
            "type": "scattermapbox"
           }
          ],
          "scatterpolar": [
           {
            "marker": {
             "colorbar": {
              "outlinewidth": 0,
              "ticks": ""
             }
            },
            "type": "scatterpolar"
           }
          ],
          "scatterpolargl": [
           {
            "marker": {
             "colorbar": {
              "outlinewidth": 0,
              "ticks": ""
             }
            },
            "type": "scatterpolargl"
           }
          ],
          "scatterternary": [
           {
            "marker": {
             "colorbar": {
              "outlinewidth": 0,
              "ticks": ""
             }
            },
            "type": "scatterternary"
           }
          ],
          "surface": [
           {
            "colorbar": {
             "outlinewidth": 0,
             "ticks": ""
            },
            "colorscale": [
             [
              0,
              "#0d0887"
             ],
             [
              0.1111111111111111,
              "#46039f"
             ],
             [
              0.2222222222222222,
              "#7201a8"
             ],
             [
              0.3333333333333333,
              "#9c179e"
             ],
             [
              0.4444444444444444,
              "#bd3786"
             ],
             [
              0.5555555555555556,
              "#d8576b"
             ],
             [
              0.6666666666666666,
              "#ed7953"
             ],
             [
              0.7777777777777778,
              "#fb9f3a"
             ],
             [
              0.8888888888888888,
              "#fdca26"
             ],
             [
              1,
              "#f0f921"
             ]
            ],
            "type": "surface"
           }
          ],
          "table": [
           {
            "cells": {
             "fill": {
              "color": "#EBF0F8"
             },
             "line": {
              "color": "white"
             }
            },
            "header": {
             "fill": {
              "color": "#C8D4E3"
             },
             "line": {
              "color": "white"
             }
            },
            "type": "table"
           }
          ]
         },
         "layout": {
          "annotationdefaults": {
           "arrowcolor": "#2a3f5f",
           "arrowhead": 0,
           "arrowwidth": 1
          },
          "autotypenumbers": "strict",
          "coloraxis": {
           "colorbar": {
            "outlinewidth": 0,
            "ticks": ""
           }
          },
          "colorscale": {
           "diverging": [
            [
             0,
             "#8e0152"
            ],
            [
             0.1,
             "#c51b7d"
            ],
            [
             0.2,
             "#de77ae"
            ],
            [
             0.3,
             "#f1b6da"
            ],
            [
             0.4,
             "#fde0ef"
            ],
            [
             0.5,
             "#f7f7f7"
            ],
            [
             0.6,
             "#e6f5d0"
            ],
            [
             0.7,
             "#b8e186"
            ],
            [
             0.8,
             "#7fbc41"
            ],
            [
             0.9,
             "#4d9221"
            ],
            [
             1,
             "#276419"
            ]
           ],
           "sequential": [
            [
             0,
             "#0d0887"
            ],
            [
             0.1111111111111111,
             "#46039f"
            ],
            [
             0.2222222222222222,
             "#7201a8"
            ],
            [
             0.3333333333333333,
             "#9c179e"
            ],
            [
             0.4444444444444444,
             "#bd3786"
            ],
            [
             0.5555555555555556,
             "#d8576b"
            ],
            [
             0.6666666666666666,
             "#ed7953"
            ],
            [
             0.7777777777777778,
             "#fb9f3a"
            ],
            [
             0.8888888888888888,
             "#fdca26"
            ],
            [
             1,
             "#f0f921"
            ]
           ],
           "sequentialminus": [
            [
             0,
             "#0d0887"
            ],
            [
             0.1111111111111111,
             "#46039f"
            ],
            [
             0.2222222222222222,
             "#7201a8"
            ],
            [
             0.3333333333333333,
             "#9c179e"
            ],
            [
             0.4444444444444444,
             "#bd3786"
            ],
            [
             0.5555555555555556,
             "#d8576b"
            ],
            [
             0.6666666666666666,
             "#ed7953"
            ],
            [
             0.7777777777777778,
             "#fb9f3a"
            ],
            [
             0.8888888888888888,
             "#fdca26"
            ],
            [
             1,
             "#f0f921"
            ]
           ]
          },
          "colorway": [
           "#636efa",
           "#EF553B",
           "#00cc96",
           "#ab63fa",
           "#FFA15A",
           "#19d3f3",
           "#FF6692",
           "#B6E880",
           "#FF97FF",
           "#FECB52"
          ],
          "font": {
           "color": "#2a3f5f"
          },
          "geo": {
           "bgcolor": "white",
           "lakecolor": "white",
           "landcolor": "#E5ECF6",
           "showlakes": true,
           "showland": true,
           "subunitcolor": "white"
          },
          "hoverlabel": {
           "align": "left"
          },
          "hovermode": "closest",
          "mapbox": {
           "style": "light"
          },
          "paper_bgcolor": "white",
          "plot_bgcolor": "#E5ECF6",
          "polar": {
           "angularaxis": {
            "gridcolor": "white",
            "linecolor": "white",
            "ticks": ""
           },
           "bgcolor": "#E5ECF6",
           "radialaxis": {
            "gridcolor": "white",
            "linecolor": "white",
            "ticks": ""
           }
          },
          "scene": {
           "xaxis": {
            "backgroundcolor": "#E5ECF6",
            "gridcolor": "white",
            "gridwidth": 2,
            "linecolor": "white",
            "showbackground": true,
            "ticks": "",
            "zerolinecolor": "white"
           },
           "yaxis": {
            "backgroundcolor": "#E5ECF6",
            "gridcolor": "white",
            "gridwidth": 2,
            "linecolor": "white",
            "showbackground": true,
            "ticks": "",
            "zerolinecolor": "white"
           },
           "zaxis": {
            "backgroundcolor": "#E5ECF6",
            "gridcolor": "white",
            "gridwidth": 2,
            "linecolor": "white",
            "showbackground": true,
            "ticks": "",
            "zerolinecolor": "white"
           }
          },
          "shapedefaults": {
           "line": {
            "color": "#2a3f5f"
           }
          },
          "ternary": {
           "aaxis": {
            "gridcolor": "white",
            "linecolor": "white",
            "ticks": ""
           },
           "baxis": {
            "gridcolor": "white",
            "linecolor": "white",
            "ticks": ""
           },
           "bgcolor": "#E5ECF6",
           "caxis": {
            "gridcolor": "white",
            "linecolor": "white",
            "ticks": ""
           }
          },
          "title": {
           "x": 0.05
          },
          "xaxis": {
           "automargin": true,
           "gridcolor": "white",
           "linecolor": "white",
           "ticks": "",
           "title": {
            "standoff": 15
           },
           "zerolinecolor": "white",
           "zerolinewidth": 2
          },
          "yaxis": {
           "automargin": true,
           "gridcolor": "white",
           "linecolor": "white",
           "ticks": "",
           "title": {
            "standoff": 15
           },
           "zerolinecolor": "white",
           "zerolinewidth": 2
          }
         }
        },
        "title": {
         "text": "시도별 병원 유형 분포"
        },
        "xaxis": {
         "anchor": "y",
         "domain": [
          0,
          1
         ],
         "title": {
          "text": "시도코드명"
         }
        },
        "yaxis": {
         "anchor": "x",
         "domain": [
          0,
          1
         ],
         "title": {
          "text": "value"
         }
        }
       }
      }
     },
     "metadata": {},
     "output_type": "display_data"
    }
   ],
   "source": [
    "# 그래프 생성\n",
    "fig = px.bar(hospital_distribution_by_region, \n",
    "             x='시도코드명', \n",
    "             y=hospital_distribution_by_region.columns[1:],\n",
    "             title='시도별 병원 유형 분포',\n",
    "             barmode='stack')\n",
    "\n",
    "fig.show()"
   ]
  },
  {
   "cell_type": "markdown",
   "metadata": {},
   "source": [
    "# 시도별 병원 유형 분포 확인 결과\n",
    "\n",
    "- 수도권: 의원, 치과의원과 같은 1차 의료기관의 수가 매우 많으며, 상급종합병원과 종합병원도 상대적으로 많은 수를 차지하고 있음.\n",
    "\n",
    "- 비수도권: 지방은 서울, 경기, 인천에 비해 의원의 수는 상대적으로 적으나 요양병원이나 보건의료원, 보건지소와 같은 시설이 많이 분포되어 있음. \n",
    "이는 고령화 사회에서 중요하게 다뤄지는 요양 및 장기 치료 시설이 비수도권에 집중된 경향을 보여준다고 추측\n",
    "\n",
    "- 세종시: 세종시는 상대적으로 의료기관의 숫자가 적지만, 이는 도시가 비교적 신생 도시이기며 공공기관이 몰려있는 곳임. 보건의료원 등의 공공 의료기관이 많이 활성화되어 있음."
   ]
  },
  {
   "cell_type": "markdown",
   "metadata": {},
   "source": [
    "# 시도별 1차, 2차, 3차 분포 차트"
   ]
  },
  {
   "cell_type": "code",
   "execution_count": 26,
   "metadata": {},
   "outputs": [
    {
     "data": {
      "text/html": [
       "<div>\n",
       "<style scoped>\n",
       "    .dataframe tbody tr th:only-of-type {\n",
       "        vertical-align: middle;\n",
       "    }\n",
       "\n",
       "    .dataframe tbody tr th {\n",
       "        vertical-align: top;\n",
       "    }\n",
       "\n",
       "    .dataframe thead th {\n",
       "        text-align: right;\n",
       "    }\n",
       "</style>\n",
       "<table border=\"1\" class=\"dataframe\">\n",
       "  <thead>\n",
       "    <tr style=\"text-align: right;\">\n",
       "      <th>종별코드명</th>\n",
       "      <th>시도코드명</th>\n",
       "      <th>3차 의료</th>\n",
       "      <th>2차 의료</th>\n",
       "      <th>1차 의료</th>\n",
       "      <th>특수 의료</th>\n",
       "    </tr>\n",
       "  </thead>\n",
       "  <tbody>\n",
       "    <tr>\n",
       "      <th>0</th>\n",
       "      <td>서울</td>\n",
       "      <td>14</td>\n",
       "      <td>536</td>\n",
       "      <td>18570</td>\n",
       "      <td>3</td>\n",
       "    </tr>\n",
       "    <tr>\n",
       "      <th>1</th>\n",
       "      <td>경기</td>\n",
       "      <td>6</td>\n",
       "      <td>894</td>\n",
       "      <td>16405</td>\n",
       "      <td>5</td>\n",
       "    </tr>\n",
       "    <tr>\n",
       "      <th>2</th>\n",
       "      <td>인천</td>\n",
       "      <td>3</td>\n",
       "      <td>218</td>\n",
       "      <td>3515</td>\n",
       "      <td>1</td>\n",
       "    </tr>\n",
       "    <tr>\n",
       "      <th>3</th>\n",
       "      <td>강원</td>\n",
       "      <td>2</td>\n",
       "      <td>103</td>\n",
       "      <td>1628</td>\n",
       "      <td>0</td>\n",
       "    </tr>\n",
       "    <tr>\n",
       "      <th>4</th>\n",
       "      <td>경남</td>\n",
       "      <td>3</td>\n",
       "      <td>345</td>\n",
       "      <td>3466</td>\n",
       "      <td>1</td>\n",
       "    </tr>\n",
       "    <tr>\n",
       "      <th>5</th>\n",
       "      <td>경북</td>\n",
       "      <td>0</td>\n",
       "      <td>225</td>\n",
       "      <td>2634</td>\n",
       "      <td>1</td>\n",
       "    </tr>\n",
       "    <tr>\n",
       "      <th>6</th>\n",
       "      <td>광주</td>\n",
       "      <td>2</td>\n",
       "      <td>277</td>\n",
       "      <td>2032</td>\n",
       "      <td>0</td>\n",
       "    </tr>\n",
       "    <tr>\n",
       "      <th>7</th>\n",
       "      <td>대구</td>\n",
       "      <td>5</td>\n",
       "      <td>225</td>\n",
       "      <td>3879</td>\n",
       "      <td>0</td>\n",
       "    </tr>\n",
       "    <tr>\n",
       "      <th>8</th>\n",
       "      <td>대전</td>\n",
       "      <td>2</td>\n",
       "      <td>130</td>\n",
       "      <td>2194</td>\n",
       "      <td>1</td>\n",
       "    </tr>\n",
       "    <tr>\n",
       "      <th>9</th>\n",
       "      <td>부산</td>\n",
       "      <td>4</td>\n",
       "      <td>406</td>\n",
       "      <td>5128</td>\n",
       "      <td>1</td>\n",
       "    </tr>\n",
       "    <tr>\n",
       "      <th>10</th>\n",
       "      <td>세종시</td>\n",
       "      <td>0</td>\n",
       "      <td>14</td>\n",
       "      <td>431</td>\n",
       "      <td>0</td>\n",
       "    </tr>\n",
       "    <tr>\n",
       "      <th>11</th>\n",
       "      <td>울산</td>\n",
       "      <td>1</td>\n",
       "      <td>94</td>\n",
       "      <td>1307</td>\n",
       "      <td>0</td>\n",
       "    </tr>\n",
       "    <tr>\n",
       "      <th>12</th>\n",
       "      <td>전남</td>\n",
       "      <td>1</td>\n",
       "      <td>227</td>\n",
       "      <td>1832</td>\n",
       "      <td>0</td>\n",
       "    </tr>\n",
       "    <tr>\n",
       "      <th>13</th>\n",
       "      <td>전북</td>\n",
       "      <td>2</td>\n",
       "      <td>196</td>\n",
       "      <td>2345</td>\n",
       "      <td>0</td>\n",
       "    </tr>\n",
       "    <tr>\n",
       "      <th>14</th>\n",
       "      <td>제주</td>\n",
       "      <td>0</td>\n",
       "      <td>29</td>\n",
       "      <td>946</td>\n",
       "      <td>1</td>\n",
       "    </tr>\n",
       "    <tr>\n",
       "      <th>15</th>\n",
       "      <td>충남</td>\n",
       "      <td>1</td>\n",
       "      <td>173</td>\n",
       "      <td>2277</td>\n",
       "      <td>0</td>\n",
       "    </tr>\n",
       "    <tr>\n",
       "      <th>16</th>\n",
       "      <td>충북</td>\n",
       "      <td>1</td>\n",
       "      <td>114</td>\n",
       "      <td>1817</td>\n",
       "      <td>1</td>\n",
       "    </tr>\n",
       "  </tbody>\n",
       "</table>\n",
       "</div>"
      ],
      "text/plain": [
       "종별코드명 시도코드명  3차 의료  2차 의료  1차 의료  특수 의료\n",
       "0        서울     14    536  18570      3\n",
       "1        경기      6    894  16405      5\n",
       "2        인천      3    218   3515      1\n",
       "3        강원      2    103   1628      0\n",
       "4        경남      3    345   3466      1\n",
       "5        경북      0    225   2634      1\n",
       "6        광주      2    277   2032      0\n",
       "7        대구      5    225   3879      0\n",
       "8        대전      2    130   2194      1\n",
       "9        부산      4    406   5128      1\n",
       "10      세종시      0     14    431      0\n",
       "11       울산      1     94   1307      0\n",
       "12       전남      1    227   1832      0\n",
       "13       전북      2    196   2345      0\n",
       "14       제주      0     29    946      1\n",
       "15       충남      1    173   2277      0\n",
       "16       충북      1    114   1817      1"
      ]
     },
     "execution_count": 26,
     "metadata": {},
     "output_type": "execute_result"
    }
   ],
   "source": [
    "# 3차, 2차, 1차, 특수 의료로 분류하여 병원 유형 그룹화\n",
    "hospital_distribution_by_region['3차 의료'] = hospital_distribution_by_region['상급종합']\n",
    "\n",
    "hospital_distribution_by_region['2차 의료'] = (\n",
    "    hospital_distribution_by_region['종합병원'] +\n",
    "    hospital_distribution_by_region['병원'] +\n",
    "    hospital_distribution_by_region['치과병원'] +\n",
    "    hospital_distribution_by_region['한방병원'] +\n",
    "    hospital_distribution_by_region['요양병원'] +\n",
    "    hospital_distribution_by_region['정신병원'] +\n",
    "    hospital_distribution_by_region['보건의료원']\n",
    ")\n",
    "\n",
    "# hospital_distribution_by_region['1차 의료'] = (\n",
    "#     hospital_distribution_by_region['의원'] +\n",
    "#     hospital_distribution_by_region['치과의원'] +\n",
    "#     hospital_distribution_by_region['한의원'] +\n",
    "#     hospital_distribution_by_region['보건소'] +\n",
    "#     hospital_distribution_by_region['보건지소'] +\n",
    "#     hospital_distribution_by_region['보건진료소']\n",
    "# )\n",
    "\n",
    "hospital_distribution_by_region['1차 의료'] = (\n",
    "    hospital_distribution_by_region['의원'] +\n",
    "    hospital_distribution_by_region['치과의원'] +\n",
    "    hospital_distribution_by_region['한의원']\n",
    ")\n",
    "\n",
    "hospital_distribution_by_region['특수 의료'] = hospital_distribution_by_region['조산원']\n",
    "\n",
    "hospital_grouped_ = hospital_distribution_by_region[['시도코드명', '3차 의료', '2차 의료', '1차 의료', '특수 의료']]\n",
    "\n",
    "hospital_grouped_"
   ]
  },
  {
   "cell_type": "code",
   "execution_count": 27,
   "metadata": {},
   "outputs": [],
   "source": [
    "hospital_grouped_.to_csv('/Users/haeunpark/mid_project_data/2024_지역별_3차_2차_1차의료수_1차보건관련제외.csv', index=False)"
   ]
  },
  {
   "cell_type": "code",
   "execution_count": 28,
   "metadata": {},
   "outputs": [
    {
     "data": {
      "application/vnd.plotly.v1+json": {
       "config": {
        "plotlyServerURL": "https://plot.ly"
       },
       "data": [
        {
         "alignmentgroup": "True",
         "hovertemplate": "variable=3차 의료<br>시도코드명=%{x}<br>value=%{y}<extra></extra>",
         "legendgroup": "3차 의료",
         "marker": {
          "color": "#636efa",
          "pattern": {
           "shape": ""
          }
         },
         "name": "3차 의료",
         "offsetgroup": "3차 의료",
         "orientation": "v",
         "showlegend": true,
         "textposition": "auto",
         "type": "bar",
         "x": [
          "서울",
          "경기",
          "인천",
          "강원",
          "경남",
          "경북",
          "광주",
          "대구",
          "대전",
          "부산",
          "세종시",
          "울산",
          "전남",
          "전북",
          "제주",
          "충남",
          "충북"
         ],
         "xaxis": "x",
         "y": [
          14,
          6,
          3,
          2,
          3,
          0,
          2,
          5,
          2,
          4,
          0,
          1,
          1,
          2,
          0,
          1,
          1
         ],
         "yaxis": "y"
        },
        {
         "alignmentgroup": "True",
         "hovertemplate": "variable=2차 의료<br>시도코드명=%{x}<br>value=%{y}<extra></extra>",
         "legendgroup": "2차 의료",
         "marker": {
          "color": "#EF553B",
          "pattern": {
           "shape": ""
          }
         },
         "name": "2차 의료",
         "offsetgroup": "2차 의료",
         "orientation": "v",
         "showlegend": true,
         "textposition": "auto",
         "type": "bar",
         "x": [
          "서울",
          "경기",
          "인천",
          "강원",
          "경남",
          "경북",
          "광주",
          "대구",
          "대전",
          "부산",
          "세종시",
          "울산",
          "전남",
          "전북",
          "제주",
          "충남",
          "충북"
         ],
         "xaxis": "x",
         "y": [
          536,
          894,
          218,
          103,
          345,
          225,
          277,
          225,
          130,
          406,
          14,
          94,
          227,
          196,
          29,
          173,
          114
         ],
         "yaxis": "y"
        },
        {
         "alignmentgroup": "True",
         "hovertemplate": "variable=1차 의료<br>시도코드명=%{x}<br>value=%{y}<extra></extra>",
         "legendgroup": "1차 의료",
         "marker": {
          "color": "#00cc96",
          "pattern": {
           "shape": ""
          }
         },
         "name": "1차 의료",
         "offsetgroup": "1차 의료",
         "orientation": "v",
         "showlegend": true,
         "textposition": "auto",
         "type": "bar",
         "x": [
          "서울",
          "경기",
          "인천",
          "강원",
          "경남",
          "경북",
          "광주",
          "대구",
          "대전",
          "부산",
          "세종시",
          "울산",
          "전남",
          "전북",
          "제주",
          "충남",
          "충북"
         ],
         "xaxis": "x",
         "y": [
          18570,
          16405,
          3515,
          1628,
          3466,
          2634,
          2032,
          3879,
          2194,
          5128,
          431,
          1307,
          1832,
          2345,
          946,
          2277,
          1817
         ],
         "yaxis": "y"
        },
        {
         "alignmentgroup": "True",
         "hovertemplate": "variable=특수 의료<br>시도코드명=%{x}<br>value=%{y}<extra></extra>",
         "legendgroup": "특수 의료",
         "marker": {
          "color": "#ab63fa",
          "pattern": {
           "shape": ""
          }
         },
         "name": "특수 의료",
         "offsetgroup": "특수 의료",
         "orientation": "v",
         "showlegend": true,
         "textposition": "auto",
         "type": "bar",
         "x": [
          "서울",
          "경기",
          "인천",
          "강원",
          "경남",
          "경북",
          "광주",
          "대구",
          "대전",
          "부산",
          "세종시",
          "울산",
          "전남",
          "전북",
          "제주",
          "충남",
          "충북"
         ],
         "xaxis": "x",
         "y": [
          3,
          5,
          1,
          0,
          1,
          1,
          0,
          0,
          1,
          1,
          0,
          0,
          0,
          0,
          1,
          0,
          1
         ],
         "yaxis": "y"
        }
       ],
       "layout": {
        "barmode": "stack",
        "legend": {
         "title": {
          "text": "variable"
         },
         "tracegroupgap": 0
        },
        "template": {
         "data": {
          "bar": [
           {
            "error_x": {
             "color": "#2a3f5f"
            },
            "error_y": {
             "color": "#2a3f5f"
            },
            "marker": {
             "line": {
              "color": "#E5ECF6",
              "width": 0.5
             },
             "pattern": {
              "fillmode": "overlay",
              "size": 10,
              "solidity": 0.2
             }
            },
            "type": "bar"
           }
          ],
          "barpolar": [
           {
            "marker": {
             "line": {
              "color": "#E5ECF6",
              "width": 0.5
             },
             "pattern": {
              "fillmode": "overlay",
              "size": 10,
              "solidity": 0.2
             }
            },
            "type": "barpolar"
           }
          ],
          "carpet": [
           {
            "aaxis": {
             "endlinecolor": "#2a3f5f",
             "gridcolor": "white",
             "linecolor": "white",
             "minorgridcolor": "white",
             "startlinecolor": "#2a3f5f"
            },
            "baxis": {
             "endlinecolor": "#2a3f5f",
             "gridcolor": "white",
             "linecolor": "white",
             "minorgridcolor": "white",
             "startlinecolor": "#2a3f5f"
            },
            "type": "carpet"
           }
          ],
          "choropleth": [
           {
            "colorbar": {
             "outlinewidth": 0,
             "ticks": ""
            },
            "type": "choropleth"
           }
          ],
          "contour": [
           {
            "colorbar": {
             "outlinewidth": 0,
             "ticks": ""
            },
            "colorscale": [
             [
              0,
              "#0d0887"
             ],
             [
              0.1111111111111111,
              "#46039f"
             ],
             [
              0.2222222222222222,
              "#7201a8"
             ],
             [
              0.3333333333333333,
              "#9c179e"
             ],
             [
              0.4444444444444444,
              "#bd3786"
             ],
             [
              0.5555555555555556,
              "#d8576b"
             ],
             [
              0.6666666666666666,
              "#ed7953"
             ],
             [
              0.7777777777777778,
              "#fb9f3a"
             ],
             [
              0.8888888888888888,
              "#fdca26"
             ],
             [
              1,
              "#f0f921"
             ]
            ],
            "type": "contour"
           }
          ],
          "contourcarpet": [
           {
            "colorbar": {
             "outlinewidth": 0,
             "ticks": ""
            },
            "type": "contourcarpet"
           }
          ],
          "heatmap": [
           {
            "colorbar": {
             "outlinewidth": 0,
             "ticks": ""
            },
            "colorscale": [
             [
              0,
              "#0d0887"
             ],
             [
              0.1111111111111111,
              "#46039f"
             ],
             [
              0.2222222222222222,
              "#7201a8"
             ],
             [
              0.3333333333333333,
              "#9c179e"
             ],
             [
              0.4444444444444444,
              "#bd3786"
             ],
             [
              0.5555555555555556,
              "#d8576b"
             ],
             [
              0.6666666666666666,
              "#ed7953"
             ],
             [
              0.7777777777777778,
              "#fb9f3a"
             ],
             [
              0.8888888888888888,
              "#fdca26"
             ],
             [
              1,
              "#f0f921"
             ]
            ],
            "type": "heatmap"
           }
          ],
          "heatmapgl": [
           {
            "colorbar": {
             "outlinewidth": 0,
             "ticks": ""
            },
            "colorscale": [
             [
              0,
              "#0d0887"
             ],
             [
              0.1111111111111111,
              "#46039f"
             ],
             [
              0.2222222222222222,
              "#7201a8"
             ],
             [
              0.3333333333333333,
              "#9c179e"
             ],
             [
              0.4444444444444444,
              "#bd3786"
             ],
             [
              0.5555555555555556,
              "#d8576b"
             ],
             [
              0.6666666666666666,
              "#ed7953"
             ],
             [
              0.7777777777777778,
              "#fb9f3a"
             ],
             [
              0.8888888888888888,
              "#fdca26"
             ],
             [
              1,
              "#f0f921"
             ]
            ],
            "type": "heatmapgl"
           }
          ],
          "histogram": [
           {
            "marker": {
             "pattern": {
              "fillmode": "overlay",
              "size": 10,
              "solidity": 0.2
             }
            },
            "type": "histogram"
           }
          ],
          "histogram2d": [
           {
            "colorbar": {
             "outlinewidth": 0,
             "ticks": ""
            },
            "colorscale": [
             [
              0,
              "#0d0887"
             ],
             [
              0.1111111111111111,
              "#46039f"
             ],
             [
              0.2222222222222222,
              "#7201a8"
             ],
             [
              0.3333333333333333,
              "#9c179e"
             ],
             [
              0.4444444444444444,
              "#bd3786"
             ],
             [
              0.5555555555555556,
              "#d8576b"
             ],
             [
              0.6666666666666666,
              "#ed7953"
             ],
             [
              0.7777777777777778,
              "#fb9f3a"
             ],
             [
              0.8888888888888888,
              "#fdca26"
             ],
             [
              1,
              "#f0f921"
             ]
            ],
            "type": "histogram2d"
           }
          ],
          "histogram2dcontour": [
           {
            "colorbar": {
             "outlinewidth": 0,
             "ticks": ""
            },
            "colorscale": [
             [
              0,
              "#0d0887"
             ],
             [
              0.1111111111111111,
              "#46039f"
             ],
             [
              0.2222222222222222,
              "#7201a8"
             ],
             [
              0.3333333333333333,
              "#9c179e"
             ],
             [
              0.4444444444444444,
              "#bd3786"
             ],
             [
              0.5555555555555556,
              "#d8576b"
             ],
             [
              0.6666666666666666,
              "#ed7953"
             ],
             [
              0.7777777777777778,
              "#fb9f3a"
             ],
             [
              0.8888888888888888,
              "#fdca26"
             ],
             [
              1,
              "#f0f921"
             ]
            ],
            "type": "histogram2dcontour"
           }
          ],
          "mesh3d": [
           {
            "colorbar": {
             "outlinewidth": 0,
             "ticks": ""
            },
            "type": "mesh3d"
           }
          ],
          "parcoords": [
           {
            "line": {
             "colorbar": {
              "outlinewidth": 0,
              "ticks": ""
             }
            },
            "type": "parcoords"
           }
          ],
          "pie": [
           {
            "automargin": true,
            "type": "pie"
           }
          ],
          "scatter": [
           {
            "fillpattern": {
             "fillmode": "overlay",
             "size": 10,
             "solidity": 0.2
            },
            "type": "scatter"
           }
          ],
          "scatter3d": [
           {
            "line": {
             "colorbar": {
              "outlinewidth": 0,
              "ticks": ""
             }
            },
            "marker": {
             "colorbar": {
              "outlinewidth": 0,
              "ticks": ""
             }
            },
            "type": "scatter3d"
           }
          ],
          "scattercarpet": [
           {
            "marker": {
             "colorbar": {
              "outlinewidth": 0,
              "ticks": ""
             }
            },
            "type": "scattercarpet"
           }
          ],
          "scattergeo": [
           {
            "marker": {
             "colorbar": {
              "outlinewidth": 0,
              "ticks": ""
             }
            },
            "type": "scattergeo"
           }
          ],
          "scattergl": [
           {
            "marker": {
             "colorbar": {
              "outlinewidth": 0,
              "ticks": ""
             }
            },
            "type": "scattergl"
           }
          ],
          "scattermapbox": [
           {
            "marker": {
             "colorbar": {
              "outlinewidth": 0,
              "ticks": ""
             }
            },
            "type": "scattermapbox"
           }
          ],
          "scatterpolar": [
           {
            "marker": {
             "colorbar": {
              "outlinewidth": 0,
              "ticks": ""
             }
            },
            "type": "scatterpolar"
           }
          ],
          "scatterpolargl": [
           {
            "marker": {
             "colorbar": {
              "outlinewidth": 0,
              "ticks": ""
             }
            },
            "type": "scatterpolargl"
           }
          ],
          "scatterternary": [
           {
            "marker": {
             "colorbar": {
              "outlinewidth": 0,
              "ticks": ""
             }
            },
            "type": "scatterternary"
           }
          ],
          "surface": [
           {
            "colorbar": {
             "outlinewidth": 0,
             "ticks": ""
            },
            "colorscale": [
             [
              0,
              "#0d0887"
             ],
             [
              0.1111111111111111,
              "#46039f"
             ],
             [
              0.2222222222222222,
              "#7201a8"
             ],
             [
              0.3333333333333333,
              "#9c179e"
             ],
             [
              0.4444444444444444,
              "#bd3786"
             ],
             [
              0.5555555555555556,
              "#d8576b"
             ],
             [
              0.6666666666666666,
              "#ed7953"
             ],
             [
              0.7777777777777778,
              "#fb9f3a"
             ],
             [
              0.8888888888888888,
              "#fdca26"
             ],
             [
              1,
              "#f0f921"
             ]
            ],
            "type": "surface"
           }
          ],
          "table": [
           {
            "cells": {
             "fill": {
              "color": "#EBF0F8"
             },
             "line": {
              "color": "white"
             }
            },
            "header": {
             "fill": {
              "color": "#C8D4E3"
             },
             "line": {
              "color": "white"
             }
            },
            "type": "table"
           }
          ]
         },
         "layout": {
          "annotationdefaults": {
           "arrowcolor": "#2a3f5f",
           "arrowhead": 0,
           "arrowwidth": 1
          },
          "autotypenumbers": "strict",
          "coloraxis": {
           "colorbar": {
            "outlinewidth": 0,
            "ticks": ""
           }
          },
          "colorscale": {
           "diverging": [
            [
             0,
             "#8e0152"
            ],
            [
             0.1,
             "#c51b7d"
            ],
            [
             0.2,
             "#de77ae"
            ],
            [
             0.3,
             "#f1b6da"
            ],
            [
             0.4,
             "#fde0ef"
            ],
            [
             0.5,
             "#f7f7f7"
            ],
            [
             0.6,
             "#e6f5d0"
            ],
            [
             0.7,
             "#b8e186"
            ],
            [
             0.8,
             "#7fbc41"
            ],
            [
             0.9,
             "#4d9221"
            ],
            [
             1,
             "#276419"
            ]
           ],
           "sequential": [
            [
             0,
             "#0d0887"
            ],
            [
             0.1111111111111111,
             "#46039f"
            ],
            [
             0.2222222222222222,
             "#7201a8"
            ],
            [
             0.3333333333333333,
             "#9c179e"
            ],
            [
             0.4444444444444444,
             "#bd3786"
            ],
            [
             0.5555555555555556,
             "#d8576b"
            ],
            [
             0.6666666666666666,
             "#ed7953"
            ],
            [
             0.7777777777777778,
             "#fb9f3a"
            ],
            [
             0.8888888888888888,
             "#fdca26"
            ],
            [
             1,
             "#f0f921"
            ]
           ],
           "sequentialminus": [
            [
             0,
             "#0d0887"
            ],
            [
             0.1111111111111111,
             "#46039f"
            ],
            [
             0.2222222222222222,
             "#7201a8"
            ],
            [
             0.3333333333333333,
             "#9c179e"
            ],
            [
             0.4444444444444444,
             "#bd3786"
            ],
            [
             0.5555555555555556,
             "#d8576b"
            ],
            [
             0.6666666666666666,
             "#ed7953"
            ],
            [
             0.7777777777777778,
             "#fb9f3a"
            ],
            [
             0.8888888888888888,
             "#fdca26"
            ],
            [
             1,
             "#f0f921"
            ]
           ]
          },
          "colorway": [
           "#636efa",
           "#EF553B",
           "#00cc96",
           "#ab63fa",
           "#FFA15A",
           "#19d3f3",
           "#FF6692",
           "#B6E880",
           "#FF97FF",
           "#FECB52"
          ],
          "font": {
           "color": "#2a3f5f"
          },
          "geo": {
           "bgcolor": "white",
           "lakecolor": "white",
           "landcolor": "#E5ECF6",
           "showlakes": true,
           "showland": true,
           "subunitcolor": "white"
          },
          "hoverlabel": {
           "align": "left"
          },
          "hovermode": "closest",
          "mapbox": {
           "style": "light"
          },
          "paper_bgcolor": "white",
          "plot_bgcolor": "#E5ECF6",
          "polar": {
           "angularaxis": {
            "gridcolor": "white",
            "linecolor": "white",
            "ticks": ""
           },
           "bgcolor": "#E5ECF6",
           "radialaxis": {
            "gridcolor": "white",
            "linecolor": "white",
            "ticks": ""
           }
          },
          "scene": {
           "xaxis": {
            "backgroundcolor": "#E5ECF6",
            "gridcolor": "white",
            "gridwidth": 2,
            "linecolor": "white",
            "showbackground": true,
            "ticks": "",
            "zerolinecolor": "white"
           },
           "yaxis": {
            "backgroundcolor": "#E5ECF6",
            "gridcolor": "white",
            "gridwidth": 2,
            "linecolor": "white",
            "showbackground": true,
            "ticks": "",
            "zerolinecolor": "white"
           },
           "zaxis": {
            "backgroundcolor": "#E5ECF6",
            "gridcolor": "white",
            "gridwidth": 2,
            "linecolor": "white",
            "showbackground": true,
            "ticks": "",
            "zerolinecolor": "white"
           }
          },
          "shapedefaults": {
           "line": {
            "color": "#2a3f5f"
           }
          },
          "ternary": {
           "aaxis": {
            "gridcolor": "white",
            "linecolor": "white",
            "ticks": ""
           },
           "baxis": {
            "gridcolor": "white",
            "linecolor": "white",
            "ticks": ""
           },
           "bgcolor": "#E5ECF6",
           "caxis": {
            "gridcolor": "white",
            "linecolor": "white",
            "ticks": ""
           }
          },
          "title": {
           "x": 0.05
          },
          "xaxis": {
           "automargin": true,
           "gridcolor": "white",
           "linecolor": "white",
           "ticks": "",
           "title": {
            "standoff": 15
           },
           "zerolinecolor": "white",
           "zerolinewidth": 2
          },
          "yaxis": {
           "automargin": true,
           "gridcolor": "white",
           "linecolor": "white",
           "ticks": "",
           "title": {
            "standoff": 15
           },
           "zerolinecolor": "white",
           "zerolinewidth": 2
          }
         }
        },
        "title": {
         "text": "시도별 의료 서비스 수준 분포"
        },
        "xaxis": {
         "anchor": "y",
         "domain": [
          0,
          1
         ],
         "title": {
          "text": "시도코드명"
         }
        },
        "yaxis": {
         "anchor": "x",
         "domain": [
          0,
          1
         ],
         "title": {
          "text": "value"
         }
        }
       }
      }
     },
     "metadata": {},
     "output_type": "display_data"
    }
   ],
   "source": [
    "fig = px.bar(hospital_grouped_, \n",
    "             x='시도코드명',  \n",
    "             y=['3차 의료', '2차 의료', '1차 의료', '특수 의료'], \n",
    "             title='시도별 의료 서비스 수준 분포',\n",
    "             barmode='stack')\n",
    "\n",
    "# 그래프 표시\n",
    "fig.show()"
   ]
  },
  {
   "cell_type": "markdown",
   "metadata": {},
   "source": [
    "## 시도별 3차, 2차, 1차 의료 유형 분포 결과 분석\n",
    "\n",
    "- 3차 의료: 서울과 경기는 3차 의료기관인 상급종합병원의 수가 상대적으로 많음. \n",
    "수도권의 중증 환자 치료와 관련한 전문 의료 서비스가 집중되어 있음을 나타냄.\n",
    "\n",
    "- 2차 의료: 2차 의료기관(종합병원, 병원, 요양병원 등)의 경우 서울, 경기, 부산과 같은 대도시가 많으며, 이는 지방 거점 도시로서의 역할을 보여줍니다. 특히 경기는 894개의 2차 의료기관을 보유하고 있어 수도권의 중심 도시로서 중증 및 경증 환자들을 폭넓게 수용하고 있음.\n",
    "\n",
    "- 1차 의료: 1차 의료기관(의원, 보건소, 치과의원 등)은 서울, 경기가 여전히 높은 수를 보이며, 이외 대부분의 시도에는 고르게 분포되어 있음.\n",
    "\n",
    "- 특수의료(조산원): 특수 의료기관인 조산원은 소수의 시도에만 존재하며, 주로 출산 관련 인프라가 큰 이슈가 되는 지역에 집중되어 있음. 서울, 경기, 인천을 제외하고는 거의 없는 상태."
   ]
  },
  {
   "cell_type": "markdown",
   "metadata": {},
   "source": [
    "## 인사이트\n",
    "\n",
    "### 1. 의료 서비스의 수도권 집중:\n",
    "3차 의료 서비스는 서울과 경기에 집중되어 있음. 이로 인해 중증 환자들이 수도권에 몰리는 현상이 발생할 가능성이 큽니다. 이는 수도권의 병원이 과밀화될 위험을 초래되며, 지방 의료 서비스의 불균형이 이루어짐.\n",
    "\n",
    "### 2. 1차 의료 서비스의 전국적 분포:\n",
    "1차 의료기관은 전국적으로 고르게 분포되어 있음 특히 지방에서는 의원 및 보건소를 통해 지역 주민들이 기본적인 의료 서비스를 이용할 수 있는 환경이 조성되어 있음. 이는 지역 주민의 기본적인 의료 접근성이 어느 정도 보장되고 있음을 말함.\n",
    "\n",
    "### 3. 지방의 2차 의료기관 역할 강화 필요:\n",
    "지방의 경우 2차 의료기관의 수가 수도권보다 적지만, 지방 거점 도시들(부산, 대구 등)에 나름의 분포를 보이고 있음. \n",
    "그러나 이는 아직 수도권에 비해 부족한 수준임. 지방 중소도시에서도 중증 환자를 수용할 수 있는 2차 의료기관의 확충이 필요함.\n",
    "\n",
    "### 4. 고령화에 따른 요양병원과 장기 요양 서비스:\n",
    "요양병원은 지방에 많이 분포되어 있음. 이는 고령화 사회에서 중요한 역할을 함.\n",
    "특히 농촌 지역에서 장기 요양 서비스의 수요가 높다는 점?..일까?  이는 지방에서 고령화 대책이 중점적으로 다뤄져야 함을 보여줌.\n",
    "\n",
    "###  5. 특수의료 서비스의 부족:\n",
    "조산원과 같은 특수 의료 서비스는 매우 제한적으로 존재하고 있으며, 이는 출산 인프라의 격차를 보여줌. \n",
    "특히 지방에서 출산 관련 서비스의 접근성이 떨어질 수 있음을 말하며,  산모 건강과 출산율에 영향을 미칠 수 있는 중요한 요인임."
   ]
  }
 ],
 "metadata": {
  "kernelspec": {
   "display_name": "Python 3",
   "language": "python",
   "name": "python3"
  },
  "language_info": {
   "codemirror_mode": {
    "name": "ipython",
    "version": 3
   },
   "file_extension": ".py",
   "mimetype": "text/x-python",
   "name": "python",
   "nbconvert_exporter": "python",
   "pygments_lexer": "ipython3",
   "version": "3.10.11"
  }
 },
 "nbformat": 4,
 "nbformat_minor": 2
}
