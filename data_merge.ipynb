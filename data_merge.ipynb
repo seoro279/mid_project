{
 "cells": [
  {
   "cell_type": "markdown",
   "metadata": {},
   "source": [
    "- 전처리 사항\n",
    "1. 종별코드명에서 '약국' 삭제하기\n",
    "2. 진료과목정보 암호화요양기호, 진료과목코드명으로 groupby해서 merge하기\n",
    "3. 일반입원실일반, 일반입원실상급 합쳐서 일반입원실병상수 칼럼으로 만들기\n",
    "4. 안쓰는 칼럼 삭제\n",
    "5. 컬럼에 _x 이런거 없애기\n",
    "6. 일반입원실병상수 위치 옮기기\n",
    "7. '개설일자' 타입 int에서 object로"
   ]
  },
  {
   "cell_type": "markdown",
   "metadata": {},
   "source": [
    "## 2024년"
   ]
  },
  {
   "cell_type": "code",
   "execution_count": 157,
   "metadata": {},
   "outputs": [],
   "source": [
    "import pandas as pd"
   ]
  },
  {
   "cell_type": "code",
   "execution_count": 158,
   "metadata": {},
   "outputs": [],
   "source": [
    "DATA_PATH = '/Users/hong/Desktop/practice_code/mid_project/data/전국병의원및약국현황/전국 병의원 및 약국 현황 2024.9/'\n",
    "\n",
    "file_lst = ['1.병원정보서비스 2024.9', '3.의료기관별상세정보서비스_01_시설정보 2024.9',\n",
    "            '5.의료기관별상세정보서비스_03_진료과목정보 2024.9']"
   ]
  },
  {
   "cell_type": "code",
   "execution_count": 159,
   "metadata": {},
   "outputs": [],
   "source": [
    "df = pd.read_excel(f'{DATA_PATH}{file_lst[0]}.xlsx')\n",
    "df3 = pd.read_excel(f'{DATA_PATH}{file_lst[1]}.xlsx')\n",
    "df5 = pd.read_excel(f'{DATA_PATH}{file_lst[2]}.xlsx')\n",
    "# df7 = pd.read_excel(f'{DATA_PATH}{file_lst[3]}.xlsx')"
   ]
  },
  {
   "cell_type": "code",
   "execution_count": 160,
   "metadata": {},
   "outputs": [
    {
     "data": {
      "text/plain": [
       "(78126, 103188, 75025)"
      ]
     },
     "execution_count": 160,
     "metadata": {},
     "output_type": "execute_result"
    }
   ],
   "source": [
    "df['암호화요양기호'].nunique(), df3['암호화요양기호'].nunique(), df5['암호화요양기호'].nunique()\n",
    "# , df7['암호화요양기호'].nunique()"
   ]
  },
  {
   "cell_type": "code",
   "execution_count": 161,
   "metadata": {},
   "outputs": [
    {
     "name": "stdout",
     "output_type": "stream",
     "text": [
      "25062\n",
      "0\n"
     ]
    }
   ],
   "source": [
    "# 1. '약국' 삭제\n",
    "mask = df3['종별코드명'] == '약국'\n",
    "phar_idx = df3.loc[mask, :].index\n",
    "print(len(phar_idx))\n",
    "\n",
    "df3.drop(phar_idx, axis=0, inplace=True)\n",
    "\n",
    "\n",
    "mask = df['종별코드명'] == '약국'\n",
    "phar_idx = df.loc[mask, :].index\n",
    "print(len(phar_idx))\n",
    "\n",
    "df.drop(phar_idx, axis=0, inplace=True)"
   ]
  },
  {
   "cell_type": "code",
   "execution_count": 162,
   "metadata": {},
   "outputs": [
    {
     "data": {
      "text/plain": [
       "((78126, 30), (78126, 30))"
      ]
     },
     "execution_count": 162,
     "metadata": {},
     "output_type": "execute_result"
    }
   ],
   "source": [
    "df.shape, df3.shape"
   ]
  },
  {
   "cell_type": "code",
   "execution_count": 163,
   "metadata": {},
   "outputs": [],
   "source": [
    "merge_df = pd.merge(df3, df, on=\"암호화요양기호\", how='left')"
   ]
  },
  {
   "cell_type": "code",
   "execution_count": 164,
   "metadata": {},
   "outputs": [
    {
     "data": {
      "text/plain": [
       "(78126, 59)"
      ]
     },
     "execution_count": 164,
     "metadata": {},
     "output_type": "execute_result"
    }
   ],
   "source": [
    "merge_df.shape"
   ]
  },
  {
   "cell_type": "code",
   "execution_count": 165,
   "metadata": {},
   "outputs": [
    {
     "data": {
      "text/html": [
       "<div>\n",
       "<style scoped>\n",
       "    .dataframe tbody tr th:only-of-type {\n",
       "        vertical-align: middle;\n",
       "    }\n",
       "\n",
       "    .dataframe tbody tr th {\n",
       "        vertical-align: top;\n",
       "    }\n",
       "\n",
       "    .dataframe thead th {\n",
       "        text-align: right;\n",
       "    }\n",
       "</style>\n",
       "<table border=\"1\" class=\"dataframe\">\n",
       "  <thead>\n",
       "    <tr style=\"text-align: right;\">\n",
       "      <th></th>\n",
       "      <th>암호화요양기호</th>\n",
       "      <th>요양기관명</th>\n",
       "      <th>진료과목코드</th>\n",
       "      <th>진료과목코드명</th>\n",
       "      <th>과목별 전문의수</th>\n",
       "      <th>선택진료 의사수</th>\n",
       "    </tr>\n",
       "  </thead>\n",
       "  <tbody>\n",
       "    <tr>\n",
       "      <th>0</th>\n",
       "      <td>JDQ4MTg4MSM1MSMkMSMkMCMkODkkMzgxMzUxIzExIyQxIy...</td>\n",
       "      <td>가톨릭대학교 여의도성모병원</td>\n",
       "      <td>1</td>\n",
       "      <td>내과</td>\n",
       "      <td>37</td>\n",
       "      <td>0</td>\n",
       "    </tr>\n",
       "    <tr>\n",
       "      <th>1</th>\n",
       "      <td>JDQ4MTg4MSM1MSMkMSMkMCMkODkkMzgxMzUxIzExIyQxIy...</td>\n",
       "      <td>중앙대학교병원</td>\n",
       "      <td>1</td>\n",
       "      <td>내과</td>\n",
       "      <td>60</td>\n",
       "      <td>0</td>\n",
       "    </tr>\n",
       "    <tr>\n",
       "      <th>2</th>\n",
       "      <td>JDQ4MTg4MSM1MSMkMSMkMCMkODkkMzgxMzUxIzExIyQyIy...</td>\n",
       "      <td>학교법인가톨릭학원가톨릭대학교서울성모병원</td>\n",
       "      <td>1</td>\n",
       "      <td>내과</td>\n",
       "      <td>145</td>\n",
       "      <td>0</td>\n",
       "    </tr>\n",
       "    <tr>\n",
       "      <th>3</th>\n",
       "      <td>JDQ4MTg4MSM1MSMkMSMkMCMkODkkMzgxMzUxIzExIyQxIy...</td>\n",
       "      <td>서울대학교병원</td>\n",
       "      <td>1</td>\n",
       "      <td>내과</td>\n",
       "      <td>176</td>\n",
       "      <td>0</td>\n",
       "    </tr>\n",
       "    <tr>\n",
       "      <th>4</th>\n",
       "      <td>JDQ4MTg4MSM1MSMkMSMkMCMkODkkMzgxMzUxIzExIyQyIy...</td>\n",
       "      <td>한림대학교 강남성심병원</td>\n",
       "      <td>1</td>\n",
       "      <td>내과</td>\n",
       "      <td>39</td>\n",
       "      <td>0</td>\n",
       "    </tr>\n",
       "  </tbody>\n",
       "</table>\n",
       "</div>"
      ],
      "text/plain": [
       "                                             암호화요양기호                  요양기관명  \\\n",
       "0  JDQ4MTg4MSM1MSMkMSMkMCMkODkkMzgxMzUxIzExIyQxIy...         가톨릭대학교 여의도성모병원   \n",
       "1  JDQ4MTg4MSM1MSMkMSMkMCMkODkkMzgxMzUxIzExIyQxIy...                중앙대학교병원   \n",
       "2  JDQ4MTg4MSM1MSMkMSMkMCMkODkkMzgxMzUxIzExIyQyIy...  학교법인가톨릭학원가톨릭대학교서울성모병원   \n",
       "3  JDQ4MTg4MSM1MSMkMSMkMCMkODkkMzgxMzUxIzExIyQxIy...                서울대학교병원   \n",
       "4  JDQ4MTg4MSM1MSMkMSMkMCMkODkkMzgxMzUxIzExIyQyIy...           한림대학교 강남성심병원   \n",
       "\n",
       "   진료과목코드 진료과목코드명  과목별 전문의수  선택진료 의사수  \n",
       "0       1      내과        37         0  \n",
       "1       1      내과        60         0  \n",
       "2       1      내과       145         0  \n",
       "3       1      내과       176         0  \n",
       "4       1      내과        39         0  "
      ]
     },
     "execution_count": 165,
     "metadata": {},
     "output_type": "execute_result"
    }
   ],
   "source": [
    "df5.head()"
   ]
  },
  {
   "cell_type": "code",
   "execution_count": 166,
   "metadata": {},
   "outputs": [
    {
     "name": "stderr",
     "output_type": "stream",
     "text": [
      "/var/folders/67/63m6y1m97g90zkz5c8wkzrdr0000gn/T/ipykernel_79665/3282394653.py:5: FutureWarning: The provided callable <built-in function sum> is currently using SeriesGroupBy.sum. In a future version of pandas, the provided callable will be used directly. To keep current behavior pass the string \"sum\" instead.\n",
      "  pre_merge_df5 = df5.groupby(['암호화요양기호','진료과목코드명']).agg(agg_dict).reset_index()\n"
     ]
    }
   ],
   "source": [
    "agg_dict = {\n",
    "    '과목별 전문의수' : sum,\n",
    "}\n",
    "\n",
    "pre_merge_df5 = df5.groupby(['암호화요양기호','진료과목코드명']).agg(agg_dict).reset_index()"
   ]
  },
  {
   "cell_type": "code",
   "execution_count": 167,
   "metadata": {},
   "outputs": [],
   "source": [
    "merge_df = pd.merge(merge_df, pre_merge_df5, on=\"암호화요양기호\", how='left')"
   ]
  },
  {
   "cell_type": "code",
   "execution_count": 168,
   "metadata": {},
   "outputs": [],
   "source": [
    "# df7.head()"
   ]
  },
  {
   "cell_type": "code",
   "execution_count": 169,
   "metadata": {},
   "outputs": [],
   "source": [
    "# pre_merge_df7 = df7.groupby(['암호화요양기호', '장비코드명'])['장비대수'].sum().reset_index()"
   ]
  },
  {
   "cell_type": "code",
   "execution_count": 170,
   "metadata": {},
   "outputs": [],
   "source": [
    "# merge_df = pd.merge(merge_df, pre_merge_df7, on=\"요양기관명\", how='left')"
   ]
  },
  {
   "cell_type": "code",
   "execution_count": 171,
   "metadata": {},
   "outputs": [
    {
     "data": {
      "text/plain": [
       "(407400, 61)"
      ]
     },
     "execution_count": 171,
     "metadata": {},
     "output_type": "execute_result"
    }
   ],
   "source": [
    "merge_df.shape"
   ]
  },
  {
   "cell_type": "code",
   "execution_count": 172,
   "metadata": {},
   "outputs": [
    {
     "data": {
      "text/plain": [
       "Index(['암호화요양기호', '요양기관명_x', '종별코드_x', '종별코드명_x', '설립구분코드', '설립구분코드명',\n",
       "       '시도코드_x', '시도코드명_x', '시군구코드_x', '시군구코드명_x', '읍면동_x', '우편번호_x', '주소_x',\n",
       "       '전화번호_x', '개설일자_x', '일반입원실상급병상수', '일반입원실일반병상수', '성인중환자병상수', '소아중환자병상수',\n",
       "       '신생아중환자병상수', '분만실병상수', '수술실병상수', '응급실병상수', '물리치료실병상수', '정신과폐쇄상급병상수',\n",
       "       '정신과폐쇄일반병상수', '정신과개방상급병상수', '정신과폐쇄개방병상수', '격리병실병상수', '무균치료실병상수',\n",
       "       '요양기관명_y', '종별코드_y', '종별코드명_y', '시도코드_y', '시도코드명_y', '시군구코드_y',\n",
       "       '시군구코드명_y', '읍면동_y', '우편번호_y', '주소_y', '전화번호_y', '병원홈페이지', '개설일자_y',\n",
       "       '총의사수', '의과일반의 인원수', '의과인턴 인원수', '의과레지던트 인원수', '의과전문의 인원수', '치과일반의 인원수',\n",
       "       '치과인턴 인원수', '치과레지던트 인원수', '치과전문의 인원수', '한방일반의 인원수', '한방인턴 인원수',\n",
       "       '한방레지던트 인원수', '한방전문의 인원수', '조산사 인원수', '좌표(X)', '좌표(Y)', '진료과목코드명',\n",
       "       '과목별 전문의수'],\n",
       "      dtype='object')"
      ]
     },
     "execution_count": 172,
     "metadata": {},
     "output_type": "execute_result"
    }
   ],
   "source": [
    "merge_df.columns"
   ]
  },
  {
   "cell_type": "code",
   "execution_count": 173,
   "metadata": {},
   "outputs": [],
   "source": [
    "# 합치기 '일반입원실상급병상수', '일반입원실일반병상수'\n",
    "\n",
    "merge_df['일반입원실병상수'] = merge_df['일반입원실상급병상수'] + merge_df['일반입원실일반병상수']"
   ]
  },
  {
   "cell_type": "code",
   "execution_count": 174,
   "metadata": {},
   "outputs": [],
   "source": [
    "no_use = ['종별코드_x', '설립구분코드', '시도코드_x', '시군구코드_x', '읍면동_x', '우편번호_x', '주소_x',\n",
    "          '전화번호_x', '요양기관명_y', '종별코드_y', '종별코드명_y', '시도코드_y', '시도코드명_y', '시군구코드_y',\n",
    "          '시군구코드명_y', '읍면동_y', '우편번호_y', '주소_y', '전화번호_y', '병원홈페이지', '개설일자_y', '좌표(X)', '좌표(Y)',\n",
    "          '일반입원실상급병상수', '일반입원실일반병상수']\n",
    "\n",
    "\n",
    "\n",
    "merge_df.drop(no_use, axis=1, inplace=True)"
   ]
  },
  {
   "cell_type": "code",
   "execution_count": 175,
   "metadata": {},
   "outputs": [
    {
     "data": {
      "text/html": [
       "<div>\n",
       "<style scoped>\n",
       "    .dataframe tbody tr th:only-of-type {\n",
       "        vertical-align: middle;\n",
       "    }\n",
       "\n",
       "    .dataframe tbody tr th {\n",
       "        vertical-align: top;\n",
       "    }\n",
       "\n",
       "    .dataframe thead th {\n",
       "        text-align: right;\n",
       "    }\n",
       "</style>\n",
       "<table border=\"1\" class=\"dataframe\">\n",
       "  <thead>\n",
       "    <tr style=\"text-align: right;\">\n",
       "      <th></th>\n",
       "      <th>암호화요양기호</th>\n",
       "      <th>요양기관명_x</th>\n",
       "      <th>종별코드명_x</th>\n",
       "      <th>설립구분코드명</th>\n",
       "      <th>시도코드명_x</th>\n",
       "      <th>시군구코드명_x</th>\n",
       "      <th>개설일자_x</th>\n",
       "      <th>성인중환자병상수</th>\n",
       "      <th>소아중환자병상수</th>\n",
       "      <th>신생아중환자병상수</th>\n",
       "      <th>...</th>\n",
       "      <th>치과레지던트 인원수</th>\n",
       "      <th>치과전문의 인원수</th>\n",
       "      <th>한방일반의 인원수</th>\n",
       "      <th>한방인턴 인원수</th>\n",
       "      <th>한방레지던트 인원수</th>\n",
       "      <th>한방전문의 인원수</th>\n",
       "      <th>조산사 인원수</th>\n",
       "      <th>진료과목코드명</th>\n",
       "      <th>과목별 전문의수</th>\n",
       "      <th>일반입원실병상수</th>\n",
       "    </tr>\n",
       "  </thead>\n",
       "  <tbody>\n",
       "    <tr>\n",
       "      <th>0</th>\n",
       "      <td>JDQ4MTYyMiM4MSMkMiMkMCMkMDAkNDgxMTkxIzMxIyQxIy...</td>\n",
       "      <td>뽀빠이연합의원</td>\n",
       "      <td>의원</td>\n",
       "      <td>개인</td>\n",
       "      <td>대구</td>\n",
       "      <td>대구중구</td>\n",
       "      <td>20230424</td>\n",
       "      <td>0</td>\n",
       "      <td>0</td>\n",
       "      <td>0</td>\n",
       "      <td>...</td>\n",
       "      <td>0</td>\n",
       "      <td>0</td>\n",
       "      <td>0</td>\n",
       "      <td>0</td>\n",
       "      <td>0</td>\n",
       "      <td>0</td>\n",
       "      <td>0</td>\n",
       "      <td>내과</td>\n",
       "      <td>0.0</td>\n",
       "      <td>0</td>\n",
       "    </tr>\n",
       "    <tr>\n",
       "      <th>1</th>\n",
       "      <td>JDQ4MTYyMiM4MSMkMiMkMCMkMDAkNDgxMTkxIzMxIyQxIy...</td>\n",
       "      <td>뽀빠이연합의원</td>\n",
       "      <td>의원</td>\n",
       "      <td>개인</td>\n",
       "      <td>대구</td>\n",
       "      <td>대구중구</td>\n",
       "      <td>20230424</td>\n",
       "      <td>0</td>\n",
       "      <td>0</td>\n",
       "      <td>0</td>\n",
       "      <td>...</td>\n",
       "      <td>0</td>\n",
       "      <td>0</td>\n",
       "      <td>0</td>\n",
       "      <td>0</td>\n",
       "      <td>0</td>\n",
       "      <td>0</td>\n",
       "      <td>0</td>\n",
       "      <td>마취통증의학과</td>\n",
       "      <td>0.0</td>\n",
       "      <td>0</td>\n",
       "    </tr>\n",
       "    <tr>\n",
       "      <th>2</th>\n",
       "      <td>JDQ4MTYyMiM4MSMkMiMkMCMkMDAkNDgxMTkxIzMxIyQxIy...</td>\n",
       "      <td>뽀빠이연합의원</td>\n",
       "      <td>의원</td>\n",
       "      <td>개인</td>\n",
       "      <td>대구</td>\n",
       "      <td>대구중구</td>\n",
       "      <td>20230424</td>\n",
       "      <td>0</td>\n",
       "      <td>0</td>\n",
       "      <td>0</td>\n",
       "      <td>...</td>\n",
       "      <td>0</td>\n",
       "      <td>0</td>\n",
       "      <td>0</td>\n",
       "      <td>0</td>\n",
       "      <td>0</td>\n",
       "      <td>0</td>\n",
       "      <td>0</td>\n",
       "      <td>신경외과</td>\n",
       "      <td>0.0</td>\n",
       "      <td>0</td>\n",
       "    </tr>\n",
       "    <tr>\n",
       "      <th>3</th>\n",
       "      <td>JDQ4MTYyMiM4MSMkMiMkMCMkMDAkNDgxMTkxIzMxIyQxIy...</td>\n",
       "      <td>뽀빠이연합의원</td>\n",
       "      <td>의원</td>\n",
       "      <td>개인</td>\n",
       "      <td>대구</td>\n",
       "      <td>대구중구</td>\n",
       "      <td>20230424</td>\n",
       "      <td>0</td>\n",
       "      <td>0</td>\n",
       "      <td>0</td>\n",
       "      <td>...</td>\n",
       "      <td>0</td>\n",
       "      <td>0</td>\n",
       "      <td>0</td>\n",
       "      <td>0</td>\n",
       "      <td>0</td>\n",
       "      <td>0</td>\n",
       "      <td>0</td>\n",
       "      <td>외과</td>\n",
       "      <td>1.0</td>\n",
       "      <td>0</td>\n",
       "    </tr>\n",
       "    <tr>\n",
       "      <th>4</th>\n",
       "      <td>JDQ4MTYyMiM4MSMkMiMkMCMkMDAkNDgxMTkxIzMxIyQxIy...</td>\n",
       "      <td>뽀빠이연합의원</td>\n",
       "      <td>의원</td>\n",
       "      <td>개인</td>\n",
       "      <td>대구</td>\n",
       "      <td>대구중구</td>\n",
       "      <td>20230424</td>\n",
       "      <td>0</td>\n",
       "      <td>0</td>\n",
       "      <td>0</td>\n",
       "      <td>...</td>\n",
       "      <td>0</td>\n",
       "      <td>0</td>\n",
       "      <td>0</td>\n",
       "      <td>0</td>\n",
       "      <td>0</td>\n",
       "      <td>0</td>\n",
       "      <td>0</td>\n",
       "      <td>재활의학과</td>\n",
       "      <td>0.0</td>\n",
       "      <td>0</td>\n",
       "    </tr>\n",
       "  </tbody>\n",
       "</table>\n",
       "<p>5 rows × 37 columns</p>\n",
       "</div>"
      ],
      "text/plain": [
       "                                             암호화요양기호  요양기관명_x 종별코드명_x 설립구분코드명  \\\n",
       "0  JDQ4MTYyMiM4MSMkMiMkMCMkMDAkNDgxMTkxIzMxIyQxIy...  뽀빠이연합의원      의원      개인   \n",
       "1  JDQ4MTYyMiM4MSMkMiMkMCMkMDAkNDgxMTkxIzMxIyQxIy...  뽀빠이연합의원      의원      개인   \n",
       "2  JDQ4MTYyMiM4MSMkMiMkMCMkMDAkNDgxMTkxIzMxIyQxIy...  뽀빠이연합의원      의원      개인   \n",
       "3  JDQ4MTYyMiM4MSMkMiMkMCMkMDAkNDgxMTkxIzMxIyQxIy...  뽀빠이연합의원      의원      개인   \n",
       "4  JDQ4MTYyMiM4MSMkMiMkMCMkMDAkNDgxMTkxIzMxIyQxIy...  뽀빠이연합의원      의원      개인   \n",
       "\n",
       "  시도코드명_x 시군구코드명_x    개설일자_x  성인중환자병상수  소아중환자병상수  신생아중환자병상수  ...  치과레지던트 인원수  \\\n",
       "0      대구     대구중구  20230424         0         0          0  ...           0   \n",
       "1      대구     대구중구  20230424         0         0          0  ...           0   \n",
       "2      대구     대구중구  20230424         0         0          0  ...           0   \n",
       "3      대구     대구중구  20230424         0         0          0  ...           0   \n",
       "4      대구     대구중구  20230424         0         0          0  ...           0   \n",
       "\n",
       "   치과전문의 인원수  한방일반의 인원수  한방인턴 인원수  한방레지던트 인원수  한방전문의 인원수  조산사 인원수  진료과목코드명  \\\n",
       "0          0          0         0           0          0        0       내과   \n",
       "1          0          0         0           0          0        0  마취통증의학과   \n",
       "2          0          0         0           0          0        0     신경외과   \n",
       "3          0          0         0           0          0        0       외과   \n",
       "4          0          0         0           0          0        0    재활의학과   \n",
       "\n",
       "   과목별 전문의수  일반입원실병상수  \n",
       "0       0.0         0  \n",
       "1       0.0         0  \n",
       "2       0.0         0  \n",
       "3       1.0         0  \n",
       "4       0.0         0  \n",
       "\n",
       "[5 rows x 37 columns]"
      ]
     },
     "execution_count": 175,
     "metadata": {},
     "output_type": "execute_result"
    }
   ],
   "source": [
    "merge_df.head()"
   ]
  },
  {
   "cell_type": "code",
   "execution_count": 176,
   "metadata": {},
   "outputs": [
    {
     "data": {
      "text/plain": [
       "Index(['암호화요양기호', '요양기관명_x', '종별코드명_x', '설립구분코드명', '시도코드명_x', '시군구코드명_x',\n",
       "       '개설일자_x', '성인중환자병상수', '소아중환자병상수', '신생아중환자병상수', '분만실병상수', '수술실병상수',\n",
       "       '응급실병상수', '물리치료실병상수', '정신과폐쇄상급병상수', '정신과폐쇄일반병상수', '정신과개방상급병상수',\n",
       "       '정신과폐쇄개방병상수', '격리병실병상수', '무균치료실병상수', '총의사수', '의과일반의 인원수', '의과인턴 인원수',\n",
       "       '의과레지던트 인원수', '의과전문의 인원수', '치과일반의 인원수', '치과인턴 인원수', '치과레지던트 인원수',\n",
       "       '치과전문의 인원수', '한방일반의 인원수', '한방인턴 인원수', '한방레지던트 인원수', '한방전문의 인원수',\n",
       "       '조산사 인원수', '진료과목코드명', '과목별 전문의수', '일반입원실병상수'],\n",
       "      dtype='object')"
      ]
     },
     "execution_count": 176,
     "metadata": {},
     "output_type": "execute_result"
    }
   ],
   "source": [
    "merge_df.columns"
   ]
  },
  {
   "cell_type": "code",
   "execution_count": 177,
   "metadata": {},
   "outputs": [],
   "source": [
    "merge_df.columns = ['암호화요양기호', '요양기관명', '종별코드명', '설립구분코드명', '시도코드명', '시군구코드명',\n",
    "       '개설일자', '성인중환자병상수', '소아중환자병상수', '신생아중환자병상수', '분만실병상수',\n",
    "       '수술실병상수', '응급실병상수', '물리치료실병상수', '정신과폐쇄상급병상수', '정신과폐쇄일반병상수',\n",
    "       '정신과개방상급병상수', '정신과폐쇄개방병상수', '격리병실병상수', '무균치료실병상수', '총의사수', '의과일반의 인원수',\n",
    "       '의과인턴 인원수', '의과레지던트 인원수', '의과전문의 인원수', '치과일반의 인원수', '치과인턴 인원수',\n",
    "       '치과레지던트 인원수', '치과전문의 인원수', '한방일반의 인원수', '한방인턴 인원수', '한방레지던트 인원수',\n",
    "       '한방전문의 인원수', '조산사 인원수', '진료과목코드명', '과목별 전문의수', '일반입원실병상수']"
   ]
  },
  {
   "cell_type": "code",
   "execution_count": 178,
   "metadata": {},
   "outputs": [
    {
     "data": {
      "text/plain": [
       "Index(['암호화요양기호', '요양기관명', '종별코드명', '설립구분코드명', '시도코드명', '시군구코드명', '개설일자',\n",
       "       '성인중환자병상수', '일반입원실병상수', '소아중환자병상수', '신생아중환자병상수', '분만실병상수', '수술실병상수',\n",
       "       '응급실병상수', '물리치료실병상수', '정신과폐쇄상급병상수', '정신과폐쇄일반병상수', '정신과개방상급병상수',\n",
       "       '정신과폐쇄개방병상수', '격리병실병상수', '무균치료실병상수', '총의사수', '의과일반의 인원수', '의과인턴 인원수',\n",
       "       '의과레지던트 인원수', '의과전문의 인원수', '치과일반의 인원수', '치과인턴 인원수', '치과레지던트 인원수',\n",
       "       '치과전문의 인원수', '한방일반의 인원수', '한방인턴 인원수', '한방레지던트 인원수', '한방전문의 인원수',\n",
       "       '조산사 인원수', '진료과목코드명', '과목별 전문의수'],\n",
       "      dtype='object')"
      ]
     },
     "execution_count": 178,
     "metadata": {},
     "output_type": "execute_result"
    }
   ],
   "source": [
    "# 일반입원실병상수 위치 옮기기\n",
    "col1 = [merge_df.columns[-1]]\n",
    "col2 = merge_df.columns[:8].to_list()\n",
    "col3 = merge_df.columns[8:-1].to_list()\n",
    "new_col = col2 + col1 + col3\n",
    "\n",
    "merge_df = merge_df[new_col]\n",
    "merge_df.columns"
   ]
  },
  {
   "cell_type": "code",
   "execution_count": 179,
   "metadata": {},
   "outputs": [],
   "source": [
    "merge_df['개설일자'] = merge_df['개설일자'].astype('str')"
   ]
  },
  {
   "cell_type": "code",
   "execution_count": 180,
   "metadata": {},
   "outputs": [
    {
     "name": "stdout",
     "output_type": "stream",
     "text": [
      "<class 'pandas.core.frame.DataFrame'>\n",
      "RangeIndex: 407400 entries, 0 to 407399\n",
      "Data columns (total 37 columns):\n",
      " #   Column      Non-Null Count   Dtype  \n",
      "---  ------      --------------   -----  \n",
      " 0   암호화요양기호     407400 non-null  object \n",
      " 1   요양기관명       407400 non-null  object \n",
      " 2   종별코드명       407400 non-null  object \n",
      " 3   설립구분코드명     407400 non-null  object \n",
      " 4   시도코드명       407400 non-null  object \n",
      " 5   시군구코드명      407400 non-null  object \n",
      " 6   개설일자        407400 non-null  object \n",
      " 7   성인중환자병상수    407400 non-null  int64  \n",
      " 8   일반입원실병상수    407400 non-null  int64  \n",
      " 9   소아중환자병상수    407400 non-null  int64  \n",
      " 10  신생아중환자병상수   407400 non-null  int64  \n",
      " 11  분만실병상수      407400 non-null  int64  \n",
      " 12  수술실병상수      407400 non-null  int64  \n",
      " 13  응급실병상수      407400 non-null  int64  \n",
      " 14  물리치료실병상수    407400 non-null  int64  \n",
      " 15  정신과폐쇄상급병상수  407400 non-null  int64  \n",
      " 16  정신과폐쇄일반병상수  407400 non-null  int64  \n",
      " 17  정신과개방상급병상수  407400 non-null  int64  \n",
      " 18  정신과폐쇄개방병상수  407400 non-null  int64  \n",
      " 19  격리병실병상수     407400 non-null  int64  \n",
      " 20  무균치료실병상수    407400 non-null  int64  \n",
      " 21  총의사수        407400 non-null  int64  \n",
      " 22  의과일반의 인원수   407400 non-null  int64  \n",
      " 23  의과인턴 인원수    407400 non-null  int64  \n",
      " 24  의과레지던트 인원수  407400 non-null  int64  \n",
      " 25  의과전문의 인원수   407400 non-null  int64  \n",
      " 26  치과일반의 인원수   407400 non-null  int64  \n",
      " 27  치과인턴 인원수    407400 non-null  int64  \n",
      " 28  치과레지던트 인원수  407400 non-null  int64  \n",
      " 29  치과전문의 인원수   407400 non-null  int64  \n",
      " 30  한방일반의 인원수   407400 non-null  int64  \n",
      " 31  한방인턴 인원수    407400 non-null  int64  \n",
      " 32  한방레지던트 인원수  407400 non-null  int64  \n",
      " 33  한방전문의 인원수   407400 non-null  int64  \n",
      " 34  조산사 인원수     407400 non-null  int64  \n",
      " 35  진료과목코드명     404299 non-null  object \n",
      " 36  과목별 전문의수    404299 non-null  float64\n",
      "dtypes: float64(1), int64(28), object(8)\n",
      "memory usage: 115.0+ MB\n"
     ]
    }
   ],
   "source": [
    "merge_df.info()"
   ]
  },
  {
   "cell_type": "code",
   "execution_count": 181,
   "metadata": {},
   "outputs": [],
   "source": [
    "merge_df.to_csv(f'/Users/hong/Desktop/practice_code/mid_project/data/병의원통합데이터/2024의원통합데이터.csv', encoding='UTF-8')"
   ]
  },
  {
   "cell_type": "code",
   "execution_count": 182,
   "metadata": {},
   "outputs": [
    {
     "data": {
      "text/plain": [
       "Index(['암호화요양기호', '요양기관명', '종별코드명', '설립구분코드명', '시도코드명', '시군구코드명', '개설일자',\n",
       "       '성인중환자병상수', '일반입원실병상수', '소아중환자병상수', '신생아중환자병상수', '분만실병상수', '수술실병상수',\n",
       "       '응급실병상수', '물리치료실병상수', '정신과폐쇄상급병상수', '정신과폐쇄일반병상수', '정신과개방상급병상수',\n",
       "       '정신과폐쇄개방병상수', '격리병실병상수', '무균치료실병상수', '총의사수', '의과일반의 인원수', '의과인턴 인원수',\n",
       "       '의과레지던트 인원수', '의과전문의 인원수', '치과일반의 인원수', '치과인턴 인원수', '치과레지던트 인원수',\n",
       "       '치과전문의 인원수', '한방일반의 인원수', '한방인턴 인원수', '한방레지던트 인원수', '한방전문의 인원수',\n",
       "       '조산사 인원수', '진료과목코드명', '과목별 전문의수'],\n",
       "      dtype='object')"
      ]
     },
     "execution_count": 182,
     "metadata": {},
     "output_type": "execute_result"
    }
   ],
   "source": [
    "merge_df.columns"
   ]
  },
  {
   "cell_type": "markdown",
   "metadata": {},
   "source": [
    "## 2023년"
   ]
  },
  {
   "cell_type": "code",
   "execution_count": 183,
   "metadata": {},
   "outputs": [],
   "source": [
    "DATA_PATH = '/Users/hong/Desktop/practice_code/mid_project/data/전국병의원및약국현황/전국 병의원 및 약국 현황 2023.12/'\n",
    "\n",
    "file_lst = ['1.병원정보서비스', '3.의료기관별상세정보서비스_01_시설정보', '5.의료기관별상세정보서비스_03_진료과목정보']"
   ]
  },
  {
   "cell_type": "code",
   "execution_count": 184,
   "metadata": {},
   "outputs": [],
   "source": [
    "df = pd.read_excel(f'{DATA_PATH}{file_lst[0]}.xlsx')\n",
    "df3 = pd.read_excel(f'{DATA_PATH}{file_lst[1]}.xlsx')\n",
    "df5 = pd.read_excel(f'{DATA_PATH}{file_lst[2]}.xlsx')\n",
    "# df7 = pd.read_excel(f'{DATA_PATH}{file_lst[3]}.xlsx')"
   ]
  },
  {
   "cell_type": "code",
   "execution_count": 185,
   "metadata": {},
   "outputs": [
    {
     "data": {
      "text/plain": [
       "(77139, 101883, 74064)"
      ]
     },
     "execution_count": 185,
     "metadata": {},
     "output_type": "execute_result"
    }
   ],
   "source": [
    "df['암호화요양기호'].nunique(), df3['암호화요양기호'].nunique(), df5['암호화요양기호'].nunique()\n",
    "# , df7['암호화요양기호'].nunique()"
   ]
  },
  {
   "cell_type": "code",
   "execution_count": 186,
   "metadata": {},
   "outputs": [
    {
     "name": "stdout",
     "output_type": "stream",
     "text": [
      "24744\n",
      "0\n"
     ]
    }
   ],
   "source": [
    "# 1. '약국' 삭제\n",
    "mask = df3['종별코드명'] == '약국'\n",
    "phar_idx = df3.loc[mask, :].index\n",
    "print(len(phar_idx))\n",
    "\n",
    "df3.drop(phar_idx, axis=0, inplace=True)\n",
    "\n",
    "\n",
    "mask = df['종별코드명'] == '약국'\n",
    "phar_idx = df.loc[mask, :].index\n",
    "print(len(phar_idx))\n",
    "\n",
    "df.drop(phar_idx, axis=0, inplace=True)"
   ]
  },
  {
   "cell_type": "code",
   "execution_count": 187,
   "metadata": {},
   "outputs": [
    {
     "data": {
      "text/plain": [
       "((77139, 30), (77139, 28))"
      ]
     },
     "execution_count": 187,
     "metadata": {},
     "output_type": "execute_result"
    }
   ],
   "source": [
    "df.shape, df3.shape"
   ]
  },
  {
   "cell_type": "code",
   "execution_count": 188,
   "metadata": {},
   "outputs": [],
   "source": [
    "merge_df = pd.merge(df3, df, on=\"암호화요양기호\", how='left')"
   ]
  },
  {
   "cell_type": "code",
   "execution_count": 189,
   "metadata": {},
   "outputs": [
    {
     "data": {
      "text/plain": [
       "(77139, 57)"
      ]
     },
     "execution_count": 189,
     "metadata": {},
     "output_type": "execute_result"
    }
   ],
   "source": [
    "merge_df.shape"
   ]
  },
  {
   "cell_type": "code",
   "execution_count": 190,
   "metadata": {},
   "outputs": [
    {
     "name": "stderr",
     "output_type": "stream",
     "text": [
      "/var/folders/67/63m6y1m97g90zkz5c8wkzrdr0000gn/T/ipykernel_79665/3282394653.py:5: FutureWarning: The provided callable <built-in function sum> is currently using SeriesGroupBy.sum. In a future version of pandas, the provided callable will be used directly. To keep current behavior pass the string \"sum\" instead.\n",
      "  pre_merge_df5 = df5.groupby(['암호화요양기호','진료과목코드명']).agg(agg_dict).reset_index()\n"
     ]
    }
   ],
   "source": [
    "agg_dict = {\n",
    "    '과목별 전문의수' : sum,\n",
    "}\n",
    "\n",
    "pre_merge_df5 = df5.groupby(['암호화요양기호','진료과목코드명']).agg(agg_dict).reset_index()"
   ]
  },
  {
   "cell_type": "code",
   "execution_count": 191,
   "metadata": {},
   "outputs": [],
   "source": [
    "merge_df = pd.merge(merge_df, pre_merge_df5, on=\"암호화요양기호\", how='left')"
   ]
  },
  {
   "cell_type": "code",
   "execution_count": 192,
   "metadata": {},
   "outputs": [],
   "source": [
    "# pre_merge_df7 = df7.groupby(['암호화요양기호', '장비코드명'])['장비대수'].sum().reset_index()\n",
    "# # merge_df = pd.merge(merge_df, pre_merge_df7, on=\"요양기관명\", how='left')"
   ]
  },
  {
   "cell_type": "code",
   "execution_count": 193,
   "metadata": {},
   "outputs": [
    {
     "data": {
      "text/plain": [
       "(378192, 59)"
      ]
     },
     "execution_count": 193,
     "metadata": {},
     "output_type": "execute_result"
    }
   ],
   "source": [
    "merge_df.shape"
   ]
  },
  {
   "cell_type": "code",
   "execution_count": 194,
   "metadata": {},
   "outputs": [
    {
     "data": {
      "text/plain": [
       "Index(['암호화요양기호', '요양기관명_x', '종별코드_x', '종별코드명_x', '설립구분코드', '설립구분코드명',\n",
       "       '시도코드_x', '시도코드명_x', '시군구코드_x', '시군구코드명_x', '읍면동_x', '우편번호_x', '주소_x',\n",
       "       '전화번호_x', '개설일자_x', '일반입원실상급병상수', '일반입원실일반병상수', '성인중환자병상수', '소아중환자병상수',\n",
       "       '신생아중환자병상수', '분만실병상수', '수술실병상수', '응급실병상수', '물리치료실병상수', '정신과폐쇄상급병상수',\n",
       "       '정신과폐쇄일반병상수', '격리병실병상수', '무균치료실병상수', '요양기관명_y', '종별코드_y', '종별코드명_y',\n",
       "       '시도코드_y', '시도코드명_y', '시군구코드_y', '시군구코드명_y', '읍면동_y', '우편번호_y', '주소_y',\n",
       "       '전화번호_y', '병원홈페이지', '개설일자_y', '총의사수', '의과일반의 인원수', '의과인턴 인원수',\n",
       "       '의과레지던트 인원수', '의과전문의 인원수', '치과일반의 인원수', '치과인턴 인원수', '치과레지던트 인원수',\n",
       "       '치과전문의 인원수', '한방일반의 인원수', '한방인턴 인원수', '한방레지던트 인원수', '한방전문의 인원수',\n",
       "       '조산사 인원수', '좌표(X)', '좌표(Y)', '진료과목코드명', '과목별 전문의수'],\n",
       "      dtype='object')"
      ]
     },
     "execution_count": 194,
     "metadata": {},
     "output_type": "execute_result"
    }
   ],
   "source": [
    "merge_df.columns"
   ]
  },
  {
   "cell_type": "code",
   "execution_count": 195,
   "metadata": {},
   "outputs": [],
   "source": [
    "# 합치기 '일반입원실상급병상수', '일반입원실일반병상수'\n",
    "\n",
    "merge_df['일반입원실병상수'] = merge_df['일반입원실상급병상수'] + merge_df['일반입원실일반병상수']"
   ]
  },
  {
   "cell_type": "code",
   "execution_count": 196,
   "metadata": {},
   "outputs": [],
   "source": [
    "no_use = ['종별코드_x', '설립구분코드', '시도코드_x', '시군구코드_x', '읍면동_x', '우편번호_x', '주소_x',\n",
    "          '전화번호_x', '요양기관명_y', '종별코드_y', '종별코드명_y', '시도코드_y', '시도코드명_y', '시군구코드_y',\n",
    "          '시군구코드명_y', '읍면동_y', '우편번호_y', '주소_y', '전화번호_y', '병원홈페이지', '개설일자_y', '좌표(X)', '좌표(Y)',\n",
    "          '일반입원실상급병상수', '일반입원실일반병상수']\n",
    "\n",
    "\n",
    "\n",
    "merge_df.drop(no_use, axis=1, inplace=True)"
   ]
  },
  {
   "cell_type": "code",
   "execution_count": 197,
   "metadata": {},
   "outputs": [
    {
     "data": {
      "text/html": [
       "<div>\n",
       "<style scoped>\n",
       "    .dataframe tbody tr th:only-of-type {\n",
       "        vertical-align: middle;\n",
       "    }\n",
       "\n",
       "    .dataframe tbody tr th {\n",
       "        vertical-align: top;\n",
       "    }\n",
       "\n",
       "    .dataframe thead th {\n",
       "        text-align: right;\n",
       "    }\n",
       "</style>\n",
       "<table border=\"1\" class=\"dataframe\">\n",
       "  <thead>\n",
       "    <tr style=\"text-align: right;\">\n",
       "      <th></th>\n",
       "      <th>암호화요양기호</th>\n",
       "      <th>요양기관명_x</th>\n",
       "      <th>종별코드명_x</th>\n",
       "      <th>설립구분코드명</th>\n",
       "      <th>시도코드명_x</th>\n",
       "      <th>시군구코드명_x</th>\n",
       "      <th>개설일자_x</th>\n",
       "      <th>성인중환자병상수</th>\n",
       "      <th>소아중환자병상수</th>\n",
       "      <th>신생아중환자병상수</th>\n",
       "      <th>...</th>\n",
       "      <th>치과레지던트 인원수</th>\n",
       "      <th>치과전문의 인원수</th>\n",
       "      <th>한방일반의 인원수</th>\n",
       "      <th>한방인턴 인원수</th>\n",
       "      <th>한방레지던트 인원수</th>\n",
       "      <th>한방전문의 인원수</th>\n",
       "      <th>조산사 인원수</th>\n",
       "      <th>진료과목코드명</th>\n",
       "      <th>과목별 전문의수</th>\n",
       "      <th>일반입원실병상수</th>\n",
       "    </tr>\n",
       "  </thead>\n",
       "  <tbody>\n",
       "    <tr>\n",
       "      <th>0</th>\n",
       "      <td>JDQ4MTg4MSM1MSMkMSMkMCMkNzIkNDgxNzAyIzExIyQxIy...</td>\n",
       "      <td>서울스타일치과의원</td>\n",
       "      <td>치과의원</td>\n",
       "      <td>개인</td>\n",
       "      <td>서울</td>\n",
       "      <td>중구</td>\n",
       "      <td>20080602.0</td>\n",
       "      <td>0</td>\n",
       "      <td>0</td>\n",
       "      <td>0</td>\n",
       "      <td>...</td>\n",
       "      <td>0</td>\n",
       "      <td>1</td>\n",
       "      <td>0</td>\n",
       "      <td>0</td>\n",
       "      <td>0</td>\n",
       "      <td>0</td>\n",
       "      <td>0</td>\n",
       "      <td>치과</td>\n",
       "      <td>0.0</td>\n",
       "      <td>0</td>\n",
       "    </tr>\n",
       "    <tr>\n",
       "      <th>1</th>\n",
       "      <td>JDQ4MTg4MSM1MSMkMSMkMCMkNzIkNDgxNzAyIzExIyQxIy...</td>\n",
       "      <td>서울닥터우치과의원</td>\n",
       "      <td>치과의원</td>\n",
       "      <td>개인</td>\n",
       "      <td>서울</td>\n",
       "      <td>중랑구</td>\n",
       "      <td>20200303.0</td>\n",
       "      <td>0</td>\n",
       "      <td>0</td>\n",
       "      <td>0</td>\n",
       "      <td>...</td>\n",
       "      <td>0</td>\n",
       "      <td>1</td>\n",
       "      <td>0</td>\n",
       "      <td>0</td>\n",
       "      <td>0</td>\n",
       "      <td>0</td>\n",
       "      <td>0</td>\n",
       "      <td>구강내과</td>\n",
       "      <td>0.0</td>\n",
       "      <td>0</td>\n",
       "    </tr>\n",
       "    <tr>\n",
       "      <th>2</th>\n",
       "      <td>JDQ4MTg4MSM1MSMkMSMkMCMkNzIkNDgxNzAyIzExIyQxIy...</td>\n",
       "      <td>서울닥터우치과의원</td>\n",
       "      <td>치과의원</td>\n",
       "      <td>개인</td>\n",
       "      <td>서울</td>\n",
       "      <td>중랑구</td>\n",
       "      <td>20200303.0</td>\n",
       "      <td>0</td>\n",
       "      <td>0</td>\n",
       "      <td>0</td>\n",
       "      <td>...</td>\n",
       "      <td>0</td>\n",
       "      <td>1</td>\n",
       "      <td>0</td>\n",
       "      <td>0</td>\n",
       "      <td>0</td>\n",
       "      <td>0</td>\n",
       "      <td>0</td>\n",
       "      <td>구강악안면외과</td>\n",
       "      <td>0.0</td>\n",
       "      <td>0</td>\n",
       "    </tr>\n",
       "    <tr>\n",
       "      <th>3</th>\n",
       "      <td>JDQ4MTg4MSM1MSMkMSMkMCMkNzIkNDgxNzAyIzExIyQxIy...</td>\n",
       "      <td>서울닥터우치과의원</td>\n",
       "      <td>치과의원</td>\n",
       "      <td>개인</td>\n",
       "      <td>서울</td>\n",
       "      <td>중랑구</td>\n",
       "      <td>20200303.0</td>\n",
       "      <td>0</td>\n",
       "      <td>0</td>\n",
       "      <td>0</td>\n",
       "      <td>...</td>\n",
       "      <td>0</td>\n",
       "      <td>1</td>\n",
       "      <td>0</td>\n",
       "      <td>0</td>\n",
       "      <td>0</td>\n",
       "      <td>0</td>\n",
       "      <td>0</td>\n",
       "      <td>소아치과</td>\n",
       "      <td>0.0</td>\n",
       "      <td>0</td>\n",
       "    </tr>\n",
       "    <tr>\n",
       "      <th>4</th>\n",
       "      <td>JDQ4MTg4MSM1MSMkMSMkMCMkNzIkNDgxNzAyIzExIyQxIy...</td>\n",
       "      <td>서울닥터우치과의원</td>\n",
       "      <td>치과의원</td>\n",
       "      <td>개인</td>\n",
       "      <td>서울</td>\n",
       "      <td>중랑구</td>\n",
       "      <td>20200303.0</td>\n",
       "      <td>0</td>\n",
       "      <td>0</td>\n",
       "      <td>0</td>\n",
       "      <td>...</td>\n",
       "      <td>0</td>\n",
       "      <td>1</td>\n",
       "      <td>0</td>\n",
       "      <td>0</td>\n",
       "      <td>0</td>\n",
       "      <td>0</td>\n",
       "      <td>0</td>\n",
       "      <td>영상치의학과</td>\n",
       "      <td>0.0</td>\n",
       "      <td>0</td>\n",
       "    </tr>\n",
       "  </tbody>\n",
       "</table>\n",
       "<p>5 rows × 35 columns</p>\n",
       "</div>"
      ],
      "text/plain": [
       "                                             암호화요양기호    요양기관명_x 종별코드명_x  \\\n",
       "0  JDQ4MTg4MSM1MSMkMSMkMCMkNzIkNDgxNzAyIzExIyQxIy...  서울스타일치과의원    치과의원   \n",
       "1  JDQ4MTg4MSM1MSMkMSMkMCMkNzIkNDgxNzAyIzExIyQxIy...  서울닥터우치과의원    치과의원   \n",
       "2  JDQ4MTg4MSM1MSMkMSMkMCMkNzIkNDgxNzAyIzExIyQxIy...  서울닥터우치과의원    치과의원   \n",
       "3  JDQ4MTg4MSM1MSMkMSMkMCMkNzIkNDgxNzAyIzExIyQxIy...  서울닥터우치과의원    치과의원   \n",
       "4  JDQ4MTg4MSM1MSMkMSMkMCMkNzIkNDgxNzAyIzExIyQxIy...  서울닥터우치과의원    치과의원   \n",
       "\n",
       "  설립구분코드명 시도코드명_x 시군구코드명_x      개설일자_x  성인중환자병상수  소아중환자병상수  신생아중환자병상수  ...  \\\n",
       "0      개인      서울       중구  20080602.0         0         0          0  ...   \n",
       "1      개인      서울      중랑구  20200303.0         0         0          0  ...   \n",
       "2      개인      서울      중랑구  20200303.0         0         0          0  ...   \n",
       "3      개인      서울      중랑구  20200303.0         0         0          0  ...   \n",
       "4      개인      서울      중랑구  20200303.0         0         0          0  ...   \n",
       "\n",
       "   치과레지던트 인원수  치과전문의 인원수  한방일반의 인원수  한방인턴 인원수  한방레지던트 인원수  한방전문의 인원수  조산사 인원수  \\\n",
       "0           0          1          0         0           0          0        0   \n",
       "1           0          1          0         0           0          0        0   \n",
       "2           0          1          0         0           0          0        0   \n",
       "3           0          1          0         0           0          0        0   \n",
       "4           0          1          0         0           0          0        0   \n",
       "\n",
       "   진료과목코드명  과목별 전문의수  일반입원실병상수  \n",
       "0       치과       0.0         0  \n",
       "1     구강내과       0.0         0  \n",
       "2  구강악안면외과       0.0         0  \n",
       "3     소아치과       0.0         0  \n",
       "4   영상치의학과       0.0         0  \n",
       "\n",
       "[5 rows x 35 columns]"
      ]
     },
     "execution_count": 197,
     "metadata": {},
     "output_type": "execute_result"
    }
   ],
   "source": [
    "merge_df.head()"
   ]
  },
  {
   "cell_type": "code",
   "execution_count": 198,
   "metadata": {},
   "outputs": [
    {
     "data": {
      "text/plain": [
       "Index(['암호화요양기호', '요양기관명_x', '종별코드명_x', '설립구분코드명', '시도코드명_x', '시군구코드명_x',\n",
       "       '개설일자_x', '성인중환자병상수', '소아중환자병상수', '신생아중환자병상수', '분만실병상수', '수술실병상수',\n",
       "       '응급실병상수', '물리치료실병상수', '정신과폐쇄상급병상수', '정신과폐쇄일반병상수', '격리병실병상수', '무균치료실병상수',\n",
       "       '총의사수', '의과일반의 인원수', '의과인턴 인원수', '의과레지던트 인원수', '의과전문의 인원수', '치과일반의 인원수',\n",
       "       '치과인턴 인원수', '치과레지던트 인원수', '치과전문의 인원수', '한방일반의 인원수', '한방인턴 인원수',\n",
       "       '한방레지던트 인원수', '한방전문의 인원수', '조산사 인원수', '진료과목코드명', '과목별 전문의수',\n",
       "       '일반입원실병상수'],\n",
       "      dtype='object')"
      ]
     },
     "execution_count": 198,
     "metadata": {},
     "output_type": "execute_result"
    }
   ],
   "source": [
    "merge_df.columns"
   ]
  },
  {
   "cell_type": "code",
   "execution_count": 199,
   "metadata": {},
   "outputs": [],
   "source": [
    "merge_df.columns = ['암호화요양기호', '요양기관명', '종별코드명', '설립구분코드명', '시도코드명', '시군구코드명',\n",
    "       '개설일자', '성인중환자병상수', '소아중환자병상수', '신생아중환자병상수', '분만실병상수',\n",
    "       '수술실병상수', '응급실병상수', '물리치료실병상수', '정신과폐쇄상급병상수', '정신과폐쇄일반병상수', '격리병실병상수',\n",
    "       '무균치료실병상수', '총의사수', '의과일반의 인원수', '의과인턴 인원수', '의과레지던트 인원수', '의과전문의 인원수',\n",
    "       '치과일반의 인원수', '치과인턴 인원수', '치과레지던트 인원수', '치과전문의 인원수', '한방일반의 인원수',\n",
    "       '한방인턴 인원수', '한방레지던트 인원수', '한방전문의 인원수', '조산사 인원수', '진료과목코드명', '과목별 전문의수',\n",
    "       '일반입원실병상수']"
   ]
  },
  {
   "cell_type": "code",
   "execution_count": 200,
   "metadata": {},
   "outputs": [
    {
     "data": {
      "text/plain": [
       "Index(['암호화요양기호', '요양기관명', '종별코드명', '설립구분코드명', '시도코드명', '시군구코드명', '개설일자',\n",
       "       '성인중환자병상수', '일반입원실병상수', '소아중환자병상수', '신생아중환자병상수', '분만실병상수', '수술실병상수',\n",
       "       '응급실병상수', '물리치료실병상수', '정신과폐쇄상급병상수', '정신과폐쇄일반병상수', '격리병실병상수', '무균치료실병상수',\n",
       "       '총의사수', '의과일반의 인원수', '의과인턴 인원수', '의과레지던트 인원수', '의과전문의 인원수', '치과일반의 인원수',\n",
       "       '치과인턴 인원수', '치과레지던트 인원수', '치과전문의 인원수', '한방일반의 인원수', '한방인턴 인원수',\n",
       "       '한방레지던트 인원수', '한방전문의 인원수', '조산사 인원수', '진료과목코드명', '과목별 전문의수'],\n",
       "      dtype='object')"
      ]
     },
     "execution_count": 200,
     "metadata": {},
     "output_type": "execute_result"
    }
   ],
   "source": [
    "# 일반입원실병상수 위치 옮기기\n",
    "col1 = [merge_df.columns[-1]]\n",
    "col2 = merge_df.columns[:8].to_list()\n",
    "col3 = merge_df.columns[8:-1].to_list()\n",
    "new_col = col2 + col1 + col3\n",
    "\n",
    "merge_df = merge_df[new_col]\n",
    "merge_df.columns"
   ]
  },
  {
   "cell_type": "code",
   "execution_count": 201,
   "metadata": {},
   "outputs": [],
   "source": [
    "merge_df['개설일자'] = merge_df['개설일자'].astype('str')"
   ]
  },
  {
   "cell_type": "code",
   "execution_count": 202,
   "metadata": {},
   "outputs": [
    {
     "name": "stdout",
     "output_type": "stream",
     "text": [
      "<class 'pandas.core.frame.DataFrame'>\n",
      "RangeIndex: 378192 entries, 0 to 378191\n",
      "Data columns (total 35 columns):\n",
      " #   Column      Non-Null Count   Dtype  \n",
      "---  ------      --------------   -----  \n",
      " 0   암호화요양기호     378192 non-null  object \n",
      " 1   요양기관명       378192 non-null  object \n",
      " 2   종별코드명       378192 non-null  object \n",
      " 3   설립구분코드명     378192 non-null  object \n",
      " 4   시도코드명       378192 non-null  object \n",
      " 5   시군구코드명      378192 non-null  object \n",
      " 6   개설일자        378192 non-null  object \n",
      " 7   성인중환자병상수    378192 non-null  int64  \n",
      " 8   일반입원실병상수    378192 non-null  int64  \n",
      " 9   소아중환자병상수    378192 non-null  int64  \n",
      " 10  신생아중환자병상수   378192 non-null  int64  \n",
      " 11  분만실병상수      378192 non-null  int64  \n",
      " 12  수술실병상수      378192 non-null  int64  \n",
      " 13  응급실병상수      378192 non-null  int64  \n",
      " 14  물리치료실병상수    378192 non-null  int64  \n",
      " 15  정신과폐쇄상급병상수  378192 non-null  int64  \n",
      " 16  정신과폐쇄일반병상수  378192 non-null  int64  \n",
      " 17  격리병실병상수     378192 non-null  int64  \n",
      " 18  무균치료실병상수    378192 non-null  int64  \n",
      " 19  총의사수        378192 non-null  int64  \n",
      " 20  의과일반의 인원수   378192 non-null  int64  \n",
      " 21  의과인턴 인원수    378192 non-null  int64  \n",
      " 22  의과레지던트 인원수  378192 non-null  int64  \n",
      " 23  의과전문의 인원수   378192 non-null  int64  \n",
      " 24  치과일반의 인원수   378192 non-null  int64  \n",
      " 25  치과인턴 인원수    378192 non-null  int64  \n",
      " 26  치과레지던트 인원수  378192 non-null  int64  \n",
      " 27  치과전문의 인원수   378192 non-null  int64  \n",
      " 28  한방일반의 인원수   378192 non-null  int64  \n",
      " 29  한방인턴 인원수    378192 non-null  int64  \n",
      " 30  한방레지던트 인원수  378192 non-null  int64  \n",
      " 31  한방전문의 인원수   378192 non-null  int64  \n",
      " 32  조산사 인원수     378192 non-null  int64  \n",
      " 33  진료과목코드명     375117 non-null  object \n",
      " 34  과목별 전문의수    375117 non-null  float64\n",
      "dtypes: float64(1), int64(26), object(8)\n",
      "memory usage: 101.0+ MB\n"
     ]
    }
   ],
   "source": [
    "merge_df.info()"
   ]
  },
  {
   "cell_type": "code",
   "execution_count": 203,
   "metadata": {},
   "outputs": [],
   "source": [
    "merge_df.to_csv(f'/Users/hong/Desktop/practice_code/mid_project/data/병의원통합데이터/2023의원통합데이터.csv', encoding='UTF-8')"
   ]
  },
  {
   "cell_type": "code",
   "execution_count": 204,
   "metadata": {},
   "outputs": [
    {
     "data": {
      "text/plain": [
       "Index(['암호화요양기호', '요양기관명', '종별코드명', '설립구분코드명', '시도코드명', '시군구코드명', '개설일자',\n",
       "       '성인중환자병상수', '일반입원실병상수', '소아중환자병상수', '신생아중환자병상수', '분만실병상수', '수술실병상수',\n",
       "       '응급실병상수', '물리치료실병상수', '정신과폐쇄상급병상수', '정신과폐쇄일반병상수', '격리병실병상수', '무균치료실병상수',\n",
       "       '총의사수', '의과일반의 인원수', '의과인턴 인원수', '의과레지던트 인원수', '의과전문의 인원수', '치과일반의 인원수',\n",
       "       '치과인턴 인원수', '치과레지던트 인원수', '치과전문의 인원수', '한방일반의 인원수', '한방인턴 인원수',\n",
       "       '한방레지던트 인원수', '한방전문의 인원수', '조산사 인원수', '진료과목코드명', '과목별 전문의수'],\n",
       "      dtype='object')"
      ]
     },
     "execution_count": 204,
     "metadata": {},
     "output_type": "execute_result"
    }
   ],
   "source": [
    "merge_df.columns"
   ]
  },
  {
   "cell_type": "markdown",
   "metadata": {},
   "source": [
    "## 2022년"
   ]
  },
  {
   "cell_type": "code",
   "execution_count": 205,
   "metadata": {},
   "outputs": [],
   "source": [
    "DATA_PATH = '/Users/hong/Desktop/practice_code/mid_project/data/전국병의원및약국현황/전국 병의원 및 약국 현황 2022.12/'\n",
    "\n",
    "file_lst = ['1.병원정보서비스 2022.12', '3.의료기관별상세정보서비스_01_시설정보_2022.12', '5.의료기관별상세정보서비스_03_진료과목정보_2022.12']"
   ]
  },
  {
   "cell_type": "code",
   "execution_count": 206,
   "metadata": {},
   "outputs": [],
   "source": [
    "df = pd.read_excel(f'{DATA_PATH}{file_lst[0]}.xlsx')\n",
    "df3 = pd.read_excel(f'{DATA_PATH}{file_lst[1]}.xlsx')\n",
    "df5 = pd.read_excel(f'{DATA_PATH}{file_lst[2]}.xlsx')\n",
    "# df7 = pd.read_excel(f'{DATA_PATH}{file_lst[3]}.xlsx')"
   ]
  },
  {
   "cell_type": "code",
   "execution_count": 207,
   "metadata": {},
   "outputs": [
    {
     "data": {
      "text/plain": [
       "(76249, 100638, 73200)"
      ]
     },
     "execution_count": 207,
     "metadata": {},
     "output_type": "execute_result"
    }
   ],
   "source": [
    "df['암호화요양기호'].nunique(), df3['암호화요양기호'].nunique(), df5['암호화요양기호'].nunique()\n",
    "# , df7['암호화요양기호'].nunique()"
   ]
  },
  {
   "cell_type": "code",
   "execution_count": 208,
   "metadata": {},
   "outputs": [
    {
     "name": "stdout",
     "output_type": "stream",
     "text": [
      "24389\n",
      "0\n"
     ]
    }
   ],
   "source": [
    "# 1. '약국' 삭제\n",
    "mask = df3['종별코드명'] == '약국'\n",
    "phar_idx = df3.loc[mask, :].index\n",
    "print(len(phar_idx))\n",
    "\n",
    "df3.drop(phar_idx, axis=0, inplace=True)\n",
    "\n",
    "\n",
    "mask = df['종별코드명'] == '약국'\n",
    "phar_idx = df.loc[mask, :].index\n",
    "print(len(phar_idx))\n",
    "\n",
    "df.drop(phar_idx, axis=0, inplace=True)"
   ]
  },
  {
   "cell_type": "code",
   "execution_count": 209,
   "metadata": {},
   "outputs": [
    {
     "data": {
      "text/plain": [
       "((76249, 30), (76249, 29))"
      ]
     },
     "execution_count": 209,
     "metadata": {},
     "output_type": "execute_result"
    }
   ],
   "source": [
    "df.shape, df3.shape"
   ]
  },
  {
   "cell_type": "code",
   "execution_count": 210,
   "metadata": {},
   "outputs": [],
   "source": [
    "merge_df = pd.merge(df3, df, on=\"암호화요양기호\", how='left')"
   ]
  },
  {
   "cell_type": "code",
   "execution_count": 211,
   "metadata": {},
   "outputs": [
    {
     "data": {
      "text/plain": [
       "(76249, 58)"
      ]
     },
     "execution_count": 211,
     "metadata": {},
     "output_type": "execute_result"
    }
   ],
   "source": [
    "merge_df.shape"
   ]
  },
  {
   "cell_type": "code",
   "execution_count": 212,
   "metadata": {},
   "outputs": [
    {
     "name": "stderr",
     "output_type": "stream",
     "text": [
      "/var/folders/67/63m6y1m97g90zkz5c8wkzrdr0000gn/T/ipykernel_79665/3282394653.py:5: FutureWarning: The provided callable <built-in function sum> is currently using SeriesGroupBy.sum. In a future version of pandas, the provided callable will be used directly. To keep current behavior pass the string \"sum\" instead.\n",
      "  pre_merge_df5 = df5.groupby(['암호화요양기호','진료과목코드명']).agg(agg_dict).reset_index()\n"
     ]
    }
   ],
   "source": [
    "agg_dict = {\n",
    "    '과목별 전문의수' : sum,\n",
    "}\n",
    "\n",
    "pre_merge_df5 = df5.groupby(['암호화요양기호','진료과목코드명']).agg(agg_dict).reset_index()"
   ]
  },
  {
   "cell_type": "code",
   "execution_count": 213,
   "metadata": {},
   "outputs": [],
   "source": [
    "merge_df = pd.merge(merge_df, pre_merge_df5, on=\"암호화요양기호\", how='left')"
   ]
  },
  {
   "cell_type": "code",
   "execution_count": 214,
   "metadata": {},
   "outputs": [],
   "source": [
    "# pre_merge_df7 = df7.groupby(['암호화요양기호', '장비코드명'])['장비대수'].sum().reset_index()\n",
    "# # merge_df = pd.merge(merge_df, pre_merge_df7, on=\"요양기관명\", how='left')"
   ]
  },
  {
   "cell_type": "code",
   "execution_count": 215,
   "metadata": {},
   "outputs": [
    {
     "data": {
      "text/plain": [
       "(371191, 60)"
      ]
     },
     "execution_count": 215,
     "metadata": {},
     "output_type": "execute_result"
    }
   ],
   "source": [
    "merge_df.shape"
   ]
  },
  {
   "cell_type": "code",
   "execution_count": 216,
   "metadata": {},
   "outputs": [
    {
     "data": {
      "text/plain": [
       "Index(['암호화요양기호', '요양기관명_x', '종별코드_x', '종별코드명_x', '설립구분코드', '설립구분코드명',\n",
       "       '시도코드_x', '시도코드명_x', '시군구코드_x', '시군구코드명_x', '읍면동_x', '우편번호_x', '주소_x',\n",
       "       '전화번호_x', '병원링크', '개설일자_x', '일반입원실상급병상수', '일반입원실일반병상수', '성인중환자병상수',\n",
       "       '소아중환자병상수', '신생아중환자병상수', '분만실병상수', '수술실병상수', '응급실병상수', '물리치료실병상수',\n",
       "       '정신과폐쇄상급병상수', '정신과폐쇄일반병상수', '격리병실병상수', '무균치료실병상수', '요양기관명_y', '종별코드_y',\n",
       "       '종별코드명_y', '시도코드_y', '시도코드명_y', '시군구코드_y', '시군구코드명_y', '읍면동_y',\n",
       "       '우편번호_y', '주소_y', '전화번호_y', '병원홈페이지', '개설일자_y', '총의사수', '의과일반의 인원수',\n",
       "       '의과인턴 인원수', '의과레지던트 인원수', '의과전문의 인원수', '치과일반의 인원수', '치과인턴 인원수',\n",
       "       '치과레지던트 인원수', '치과전문의 인원수', '한방일반의 인원수', '한방인턴 인원수', '한방레지던트 인원수',\n",
       "       '한방전문의 인원수', '조산사 인원수', '좌표(X)', '좌표(Y)', '진료과목코드명', '과목별 전문의수'],\n",
       "      dtype='object')"
      ]
     },
     "execution_count": 216,
     "metadata": {},
     "output_type": "execute_result"
    }
   ],
   "source": [
    "merge_df.columns"
   ]
  },
  {
   "cell_type": "code",
   "execution_count": 217,
   "metadata": {},
   "outputs": [],
   "source": [
    "# 합치기 '일반입원실상급병상수', '일반입원실일반병상수'\n",
    "\n",
    "merge_df['일반입원실병상수'] = merge_df['일반입원실상급병상수'] + merge_df['일반입원실일반병상수']"
   ]
  },
  {
   "cell_type": "code",
   "execution_count": 218,
   "metadata": {},
   "outputs": [],
   "source": [
    "no_use = ['종별코드_x', '설립구분코드', '시도코드_x', '시군구코드_x', '읍면동_x', '우편번호_x', '주소_x',\n",
    "          '전화번호_x', '병원링크', '요양기관명_y', '종별코드_y', '종별코드명_y', '시도코드_y', '시도코드명_y', '시군구코드_y',\n",
    "          '시군구코드명_y', '읍면동_y', '우편번호_y', '주소_y', '전화번호_y', '병원홈페이지', '개설일자_y', '좌표(X)', '좌표(Y)',\n",
    "          '일반입원실상급병상수', '일반입원실일반병상수']\n",
    "\n",
    "\n",
    "\n",
    "merge_df.drop(no_use, axis=1, inplace=True)"
   ]
  },
  {
   "cell_type": "code",
   "execution_count": 219,
   "metadata": {},
   "outputs": [
    {
     "data": {
      "text/html": [
       "<div>\n",
       "<style scoped>\n",
       "    .dataframe tbody tr th:only-of-type {\n",
       "        vertical-align: middle;\n",
       "    }\n",
       "\n",
       "    .dataframe tbody tr th {\n",
       "        vertical-align: top;\n",
       "    }\n",
       "\n",
       "    .dataframe thead th {\n",
       "        text-align: right;\n",
       "    }\n",
       "</style>\n",
       "<table border=\"1\" class=\"dataframe\">\n",
       "  <thead>\n",
       "    <tr style=\"text-align: right;\">\n",
       "      <th></th>\n",
       "      <th>암호화요양기호</th>\n",
       "      <th>요양기관명_x</th>\n",
       "      <th>종별코드명_x</th>\n",
       "      <th>설립구분코드명</th>\n",
       "      <th>시도코드명_x</th>\n",
       "      <th>시군구코드명_x</th>\n",
       "      <th>개설일자_x</th>\n",
       "      <th>성인중환자병상수</th>\n",
       "      <th>소아중환자병상수</th>\n",
       "      <th>신생아중환자병상수</th>\n",
       "      <th>...</th>\n",
       "      <th>치과레지던트 인원수</th>\n",
       "      <th>치과전문의 인원수</th>\n",
       "      <th>한방일반의 인원수</th>\n",
       "      <th>한방인턴 인원수</th>\n",
       "      <th>한방레지던트 인원수</th>\n",
       "      <th>한방전문의 인원수</th>\n",
       "      <th>조산사 인원수</th>\n",
       "      <th>진료과목코드명</th>\n",
       "      <th>과목별 전문의수</th>\n",
       "      <th>일반입원실병상수</th>\n",
       "    </tr>\n",
       "  </thead>\n",
       "  <tbody>\n",
       "    <tr>\n",
       "      <th>0</th>\n",
       "      <td>JDU4MTI3MSM1MSMkMiMkMCMkMDAkMzgxNzAyIzExIyQxIy...</td>\n",
       "      <td>서울주니어소아청소년과의원</td>\n",
       "      <td>의원</td>\n",
       "      <td>개인</td>\n",
       "      <td>인천</td>\n",
       "      <td>인천부평구</td>\n",
       "      <td>20100813.0</td>\n",
       "      <td>0</td>\n",
       "      <td>0</td>\n",
       "      <td>0</td>\n",
       "      <td>...</td>\n",
       "      <td>0</td>\n",
       "      <td>0</td>\n",
       "      <td>0</td>\n",
       "      <td>0</td>\n",
       "      <td>0</td>\n",
       "      <td>0</td>\n",
       "      <td>0</td>\n",
       "      <td>소아청소년과</td>\n",
       "      <td>1.0</td>\n",
       "      <td>0</td>\n",
       "    </tr>\n",
       "    <tr>\n",
       "      <th>1</th>\n",
       "      <td>JDU4MTI3MSM1MSMkMiMkMCMkMDAkMzgxNzAyIzExIyQxIy...</td>\n",
       "      <td>서울주니어소아청소년과의원</td>\n",
       "      <td>의원</td>\n",
       "      <td>개인</td>\n",
       "      <td>인천</td>\n",
       "      <td>인천부평구</td>\n",
       "      <td>20100813.0</td>\n",
       "      <td>0</td>\n",
       "      <td>0</td>\n",
       "      <td>0</td>\n",
       "      <td>...</td>\n",
       "      <td>0</td>\n",
       "      <td>0</td>\n",
       "      <td>0</td>\n",
       "      <td>0</td>\n",
       "      <td>0</td>\n",
       "      <td>0</td>\n",
       "      <td>0</td>\n",
       "      <td>이비인후과</td>\n",
       "      <td>0.0</td>\n",
       "      <td>0</td>\n",
       "    </tr>\n",
       "    <tr>\n",
       "      <th>2</th>\n",
       "      <td>JDQ4MTYyMiM1MSMkMSMkMCMkMTMkNDgxMTkxIzMxIyQxIy...</td>\n",
       "      <td>동원당한의원</td>\n",
       "      <td>한의원</td>\n",
       "      <td>개인</td>\n",
       "      <td>경기</td>\n",
       "      <td>고양일산동구</td>\n",
       "      <td>20081103.0</td>\n",
       "      <td>0</td>\n",
       "      <td>0</td>\n",
       "      <td>0</td>\n",
       "      <td>...</td>\n",
       "      <td>0</td>\n",
       "      <td>0</td>\n",
       "      <td>1</td>\n",
       "      <td>0</td>\n",
       "      <td>0</td>\n",
       "      <td>0</td>\n",
       "      <td>0</td>\n",
       "      <td>침구과</td>\n",
       "      <td>0.0</td>\n",
       "      <td>0</td>\n",
       "    </tr>\n",
       "    <tr>\n",
       "      <th>3</th>\n",
       "      <td>JDQ4MTYyMiM1MSMkMSMkMCMkMTMkNDgxMTkxIzMxIyQxIy...</td>\n",
       "      <td>동원당한의원</td>\n",
       "      <td>한의원</td>\n",
       "      <td>개인</td>\n",
       "      <td>경기</td>\n",
       "      <td>고양일산동구</td>\n",
       "      <td>20081103.0</td>\n",
       "      <td>0</td>\n",
       "      <td>0</td>\n",
       "      <td>0</td>\n",
       "      <td>...</td>\n",
       "      <td>0</td>\n",
       "      <td>0</td>\n",
       "      <td>1</td>\n",
       "      <td>0</td>\n",
       "      <td>0</td>\n",
       "      <td>0</td>\n",
       "      <td>0</td>\n",
       "      <td>한방내과</td>\n",
       "      <td>0.0</td>\n",
       "      <td>0</td>\n",
       "    </tr>\n",
       "    <tr>\n",
       "      <th>4</th>\n",
       "      <td>JDQ4MTYyMiM1MSMkMSMkMCMkMTMkNDgxMTkxIzMxIyQxIy...</td>\n",
       "      <td>동원당한의원</td>\n",
       "      <td>한의원</td>\n",
       "      <td>개인</td>\n",
       "      <td>경기</td>\n",
       "      <td>고양일산동구</td>\n",
       "      <td>20081103.0</td>\n",
       "      <td>0</td>\n",
       "      <td>0</td>\n",
       "      <td>0</td>\n",
       "      <td>...</td>\n",
       "      <td>0</td>\n",
       "      <td>0</td>\n",
       "      <td>1</td>\n",
       "      <td>0</td>\n",
       "      <td>0</td>\n",
       "      <td>0</td>\n",
       "      <td>0</td>\n",
       "      <td>한방부인과</td>\n",
       "      <td>0.0</td>\n",
       "      <td>0</td>\n",
       "    </tr>\n",
       "  </tbody>\n",
       "</table>\n",
       "<p>5 rows × 35 columns</p>\n",
       "</div>"
      ],
      "text/plain": [
       "                                             암호화요양기호        요양기관명_x 종별코드명_x  \\\n",
       "0  JDU4MTI3MSM1MSMkMiMkMCMkMDAkMzgxNzAyIzExIyQxIy...  서울주니어소아청소년과의원      의원   \n",
       "1  JDU4MTI3MSM1MSMkMiMkMCMkMDAkMzgxNzAyIzExIyQxIy...  서울주니어소아청소년과의원      의원   \n",
       "2  JDQ4MTYyMiM1MSMkMSMkMCMkMTMkNDgxMTkxIzMxIyQxIy...         동원당한의원     한의원   \n",
       "3  JDQ4MTYyMiM1MSMkMSMkMCMkMTMkNDgxMTkxIzMxIyQxIy...         동원당한의원     한의원   \n",
       "4  JDQ4MTYyMiM1MSMkMSMkMCMkMTMkNDgxMTkxIzMxIyQxIy...         동원당한의원     한의원   \n",
       "\n",
       "  설립구분코드명 시도코드명_x 시군구코드명_x      개설일자_x  성인중환자병상수  소아중환자병상수  신생아중환자병상수  ...  \\\n",
       "0      개인      인천    인천부평구  20100813.0         0         0          0  ...   \n",
       "1      개인      인천    인천부평구  20100813.0         0         0          0  ...   \n",
       "2      개인      경기   고양일산동구  20081103.0         0         0          0  ...   \n",
       "3      개인      경기   고양일산동구  20081103.0         0         0          0  ...   \n",
       "4      개인      경기   고양일산동구  20081103.0         0         0          0  ...   \n",
       "\n",
       "   치과레지던트 인원수  치과전문의 인원수  한방일반의 인원수  한방인턴 인원수  한방레지던트 인원수  한방전문의 인원수  조산사 인원수  \\\n",
       "0           0          0          0         0           0          0        0   \n",
       "1           0          0          0         0           0          0        0   \n",
       "2           0          0          1         0           0          0        0   \n",
       "3           0          0          1         0           0          0        0   \n",
       "4           0          0          1         0           0          0        0   \n",
       "\n",
       "   진료과목코드명  과목별 전문의수  일반입원실병상수  \n",
       "0   소아청소년과       1.0         0  \n",
       "1    이비인후과       0.0         0  \n",
       "2      침구과       0.0         0  \n",
       "3     한방내과       0.0         0  \n",
       "4    한방부인과       0.0         0  \n",
       "\n",
       "[5 rows x 35 columns]"
      ]
     },
     "execution_count": 219,
     "metadata": {},
     "output_type": "execute_result"
    }
   ],
   "source": [
    "merge_df.head()"
   ]
  },
  {
   "cell_type": "code",
   "execution_count": 220,
   "metadata": {},
   "outputs": [
    {
     "data": {
      "text/plain": [
       "Index(['암호화요양기호', '요양기관명_x', '종별코드명_x', '설립구분코드명', '시도코드명_x', '시군구코드명_x',\n",
       "       '개설일자_x', '성인중환자병상수', '소아중환자병상수', '신생아중환자병상수', '분만실병상수', '수술실병상수',\n",
       "       '응급실병상수', '물리치료실병상수', '정신과폐쇄상급병상수', '정신과폐쇄일반병상수', '격리병실병상수', '무균치료실병상수',\n",
       "       '총의사수', '의과일반의 인원수', '의과인턴 인원수', '의과레지던트 인원수', '의과전문의 인원수', '치과일반의 인원수',\n",
       "       '치과인턴 인원수', '치과레지던트 인원수', '치과전문의 인원수', '한방일반의 인원수', '한방인턴 인원수',\n",
       "       '한방레지던트 인원수', '한방전문의 인원수', '조산사 인원수', '진료과목코드명', '과목별 전문의수',\n",
       "       '일반입원실병상수'],\n",
       "      dtype='object')"
      ]
     },
     "execution_count": 220,
     "metadata": {},
     "output_type": "execute_result"
    }
   ],
   "source": [
    "merge_df.columns"
   ]
  },
  {
   "cell_type": "code",
   "execution_count": 221,
   "metadata": {},
   "outputs": [],
   "source": [
    "merge_df.columns = ['암호화요양기호', '요양기관명', '종별코드명', '설립구분코드명', '시도코드명', '시군구코드명',\n",
    "       '개설일자', '성인중환자병상수', '소아중환자병상수', '신생아중환자병상수', '분만실병상수',\n",
    "       '수술실병상수', '응급실병상수', '물리치료실병상수', '정신과폐쇄상급병상수', '정신과폐쇄일반병상수', '격리병실병상수',\n",
    "       '무균치료실병상수', '총의사수', '의과일반의 인원수', '의과인턴 인원수', '의과레지던트 인원수', '의과전문의 인원수',\n",
    "       '치과일반의 인원수', '치과인턴 인원수', '치과레지던트 인원수', '치과전문의 인원수', '한방일반의 인원수',\n",
    "       '한방인턴 인원수', '한방레지던트 인원수', '한방전문의 인원수', '조산사 인원수', '진료과목코드명', '과목별 전문의수',\n",
    "       '일반입원실병상수']"
   ]
  },
  {
   "cell_type": "code",
   "execution_count": 222,
   "metadata": {},
   "outputs": [
    {
     "data": {
      "text/plain": [
       "Index(['암호화요양기호', '요양기관명', '종별코드명', '설립구분코드명', '시도코드명', '시군구코드명', '개설일자',\n",
       "       '성인중환자병상수', '일반입원실병상수', '소아중환자병상수', '신생아중환자병상수', '분만실병상수', '수술실병상수',\n",
       "       '응급실병상수', '물리치료실병상수', '정신과폐쇄상급병상수', '정신과폐쇄일반병상수', '격리병실병상수', '무균치료실병상수',\n",
       "       '총의사수', '의과일반의 인원수', '의과인턴 인원수', '의과레지던트 인원수', '의과전문의 인원수', '치과일반의 인원수',\n",
       "       '치과인턴 인원수', '치과레지던트 인원수', '치과전문의 인원수', '한방일반의 인원수', '한방인턴 인원수',\n",
       "       '한방레지던트 인원수', '한방전문의 인원수', '조산사 인원수', '진료과목코드명', '과목별 전문의수'],\n",
       "      dtype='object')"
      ]
     },
     "execution_count": 222,
     "metadata": {},
     "output_type": "execute_result"
    }
   ],
   "source": [
    "# 일반입원실병상수 위치 옮기기\n",
    "col1 = [merge_df.columns[-1]]\n",
    "col2 = merge_df.columns[:8].to_list()\n",
    "col3 = merge_df.columns[8:-1].to_list()\n",
    "new_col = col2 + col1 + col3\n",
    "\n",
    "merge_df = merge_df[new_col]\n",
    "merge_df.columns"
   ]
  },
  {
   "cell_type": "code",
   "execution_count": 223,
   "metadata": {},
   "outputs": [],
   "source": [
    "merge_df['개설일자'] = merge_df['개설일자'].astype('str')"
   ]
  },
  {
   "cell_type": "code",
   "execution_count": 224,
   "metadata": {},
   "outputs": [
    {
     "name": "stdout",
     "output_type": "stream",
     "text": [
      "<class 'pandas.core.frame.DataFrame'>\n",
      "RangeIndex: 371191 entries, 0 to 371190\n",
      "Data columns (total 35 columns):\n",
      " #   Column      Non-Null Count   Dtype  \n",
      "---  ------      --------------   -----  \n",
      " 0   암호화요양기호     371191 non-null  object \n",
      " 1   요양기관명       371191 non-null  object \n",
      " 2   종별코드명       371191 non-null  object \n",
      " 3   설립구분코드명     371191 non-null  object \n",
      " 4   시도코드명       371191 non-null  object \n",
      " 5   시군구코드명      371191 non-null  object \n",
      " 6   개설일자        371191 non-null  object \n",
      " 7   성인중환자병상수    371191 non-null  int64  \n",
      " 8   일반입원실병상수    371191 non-null  int64  \n",
      " 9   소아중환자병상수    371191 non-null  int64  \n",
      " 10  신생아중환자병상수   371191 non-null  int64  \n",
      " 11  분만실병상수      371191 non-null  int64  \n",
      " 12  수술실병상수      371191 non-null  int64  \n",
      " 13  응급실병상수      371191 non-null  int64  \n",
      " 14  물리치료실병상수    371191 non-null  int64  \n",
      " 15  정신과폐쇄상급병상수  371191 non-null  int64  \n",
      " 16  정신과폐쇄일반병상수  371191 non-null  int64  \n",
      " 17  격리병실병상수     371191 non-null  int64  \n",
      " 18  무균치료실병상수    371191 non-null  int64  \n",
      " 19  총의사수        371191 non-null  int64  \n",
      " 20  의과일반의 인원수   371191 non-null  int64  \n",
      " 21  의과인턴 인원수    371191 non-null  int64  \n",
      " 22  의과레지던트 인원수  371191 non-null  int64  \n",
      " 23  의과전문의 인원수   371191 non-null  int64  \n",
      " 24  치과일반의 인원수   371191 non-null  int64  \n",
      " 25  치과인턴 인원수    371191 non-null  int64  \n",
      " 26  치과레지던트 인원수  371191 non-null  int64  \n",
      " 27  치과전문의 인원수   371191 non-null  int64  \n",
      " 28  한방일반의 인원수   371191 non-null  int64  \n",
      " 29  한방인턴 인원수    371191 non-null  int64  \n",
      " 30  한방레지던트 인원수  371191 non-null  int64  \n",
      " 31  한방전문의 인원수   371191 non-null  int64  \n",
      " 32  조산사 인원수     371191 non-null  int64  \n",
      " 33  진료과목코드명     368141 non-null  object \n",
      " 34  과목별 전문의수    368141 non-null  float64\n",
      "dtypes: float64(1), int64(26), object(8)\n",
      "memory usage: 99.1+ MB\n"
     ]
    }
   ],
   "source": [
    "merge_df.info()"
   ]
  },
  {
   "cell_type": "code",
   "execution_count": 225,
   "metadata": {},
   "outputs": [],
   "source": [
    "merge_df.to_csv(f'/Users/hong/Desktop/practice_code/mid_project/data/병의원통합데이터/2022의원통합데이터.csv', encoding='UTF-8')"
   ]
  },
  {
   "cell_type": "code",
   "execution_count": 226,
   "metadata": {},
   "outputs": [
    {
     "data": {
      "text/plain": [
       "Index(['암호화요양기호', '요양기관명', '종별코드명', '설립구분코드명', '시도코드명', '시군구코드명', '개설일자',\n",
       "       '성인중환자병상수', '일반입원실병상수', '소아중환자병상수', '신생아중환자병상수', '분만실병상수', '수술실병상수',\n",
       "       '응급실병상수', '물리치료실병상수', '정신과폐쇄상급병상수', '정신과폐쇄일반병상수', '격리병실병상수', '무균치료실병상수',\n",
       "       '총의사수', '의과일반의 인원수', '의과인턴 인원수', '의과레지던트 인원수', '의과전문의 인원수', '치과일반의 인원수',\n",
       "       '치과인턴 인원수', '치과레지던트 인원수', '치과전문의 인원수', '한방일반의 인원수', '한방인턴 인원수',\n",
       "       '한방레지던트 인원수', '한방전문의 인원수', '조산사 인원수', '진료과목코드명', '과목별 전문의수'],\n",
       "      dtype='object')"
      ]
     },
     "execution_count": 226,
     "metadata": {},
     "output_type": "execute_result"
    }
   ],
   "source": [
    "merge_df.columns"
   ]
  },
  {
   "cell_type": "markdown",
   "metadata": {},
   "source": [
    "## 2021년"
   ]
  },
  {
   "cell_type": "code",
   "execution_count": 227,
   "metadata": {},
   "outputs": [],
   "source": [
    "DATA_PATH = '/Users/hong/Desktop/practice_code/mid_project/data/전국병의원및약국현황/건강보험심사평가원_전국 병의원 및 약국 현황 2021.12/'\n",
    "\n",
    "file_lst = ['1. 병원정보서비스 2021.12', '3. 의료기관별상세정보서비스 01시설정보 2021.12', '5. 의료기관별상세정보서비스 03진료과목정보 2021.12']"
   ]
  },
  {
   "cell_type": "code",
   "execution_count": 228,
   "metadata": {},
   "outputs": [],
   "source": [
    "df = pd.read_excel(f'{DATA_PATH}{file_lst[0]}.xlsx')\n",
    "df3 = pd.read_excel(f'{DATA_PATH}{file_lst[1]}.xlsx')\n",
    "df5 = pd.read_excel(f'{DATA_PATH}{file_lst[2]}.xlsx')\n",
    "# df7 = pd.read_excel(f'{DATA_PATH}{file_lst[3]}.xlsx')"
   ]
  },
  {
   "cell_type": "code",
   "execution_count": 229,
   "metadata": {},
   "outputs": [
    {
     "data": {
      "text/plain": [
       "(74756, 98596, 71700)"
      ]
     },
     "execution_count": 229,
     "metadata": {},
     "output_type": "execute_result"
    }
   ],
   "source": [
    "df['암호화요양기호'].nunique(), df3['암호화요양기호'].nunique(), df5['암호화요양기호'].nunique()\n",
    "# , df7['암호화요양기호'].nunique()"
   ]
  },
  {
   "cell_type": "code",
   "execution_count": 230,
   "metadata": {},
   "outputs": [
    {
     "name": "stdout",
     "output_type": "stream",
     "text": [
      "23840\n",
      "0\n"
     ]
    }
   ],
   "source": [
    "# 1. '약국' 삭제\n",
    "mask = df3['종별코드명'] == '약국'\n",
    "phar_idx = df3.loc[mask, :].index\n",
    "print(len(phar_idx))\n",
    "\n",
    "df3.drop(phar_idx, axis=0, inplace=True)\n",
    "\n",
    "\n",
    "mask = df['종별코드명'] == '약국'\n",
    "phar_idx = df.loc[mask, :].index\n",
    "print(len(phar_idx))\n",
    "\n",
    "df.drop(phar_idx, axis=0, inplace=True)"
   ]
  },
  {
   "cell_type": "code",
   "execution_count": 231,
   "metadata": {},
   "outputs": [
    {
     "data": {
      "text/plain": [
       "((74756, 29), (74756, 29))"
      ]
     },
     "execution_count": 231,
     "metadata": {},
     "output_type": "execute_result"
    }
   ],
   "source": [
    "df.shape, df3.shape"
   ]
  },
  {
   "cell_type": "code",
   "execution_count": 232,
   "metadata": {},
   "outputs": [],
   "source": [
    "merge_df = pd.merge(df3, df, on=\"암호화요양기호\", how='left')"
   ]
  },
  {
   "cell_type": "code",
   "execution_count": 233,
   "metadata": {},
   "outputs": [
    {
     "data": {
      "text/plain": [
       "(74756, 57)"
      ]
     },
     "execution_count": 233,
     "metadata": {},
     "output_type": "execute_result"
    }
   ],
   "source": [
    "merge_df.shape"
   ]
  },
  {
   "cell_type": "code",
   "execution_count": 234,
   "metadata": {},
   "outputs": [
    {
     "name": "stderr",
     "output_type": "stream",
     "text": [
      "/var/folders/67/63m6y1m97g90zkz5c8wkzrdr0000gn/T/ipykernel_79665/3282394653.py:5: FutureWarning: The provided callable <built-in function sum> is currently using SeriesGroupBy.sum. In a future version of pandas, the provided callable will be used directly. To keep current behavior pass the string \"sum\" instead.\n",
      "  pre_merge_df5 = df5.groupby(['암호화요양기호','진료과목코드명']).agg(agg_dict).reset_index()\n"
     ]
    }
   ],
   "source": [
    "agg_dict = {\n",
    "    '과목별 전문의수' : sum,\n",
    "}\n",
    "\n",
    "pre_merge_df5 = df5.groupby(['암호화요양기호','진료과목코드명']).agg(agg_dict).reset_index()"
   ]
  },
  {
   "cell_type": "code",
   "execution_count": 235,
   "metadata": {},
   "outputs": [],
   "source": [
    "merge_df = pd.merge(merge_df, pre_merge_df5, on=\"암호화요양기호\", how='left')"
   ]
  },
  {
   "cell_type": "code",
   "execution_count": 236,
   "metadata": {},
   "outputs": [],
   "source": [
    "# pre_merge_df7 = df7.groupby(['암호화요양기호', '장비코드명'])['장비대수'].sum().reset_index()\n",
    "# # merge_df = pd.merge(merge_df, pre_merge_df7, on=\"요양기관명\", how='left')"
   ]
  },
  {
   "cell_type": "code",
   "execution_count": 237,
   "metadata": {},
   "outputs": [
    {
     "data": {
      "text/plain": [
       "(358932, 59)"
      ]
     },
     "execution_count": 237,
     "metadata": {},
     "output_type": "execute_result"
    }
   ],
   "source": [
    "merge_df.shape"
   ]
  },
  {
   "cell_type": "code",
   "execution_count": 238,
   "metadata": {},
   "outputs": [
    {
     "data": {
      "text/plain": [
       "Index(['암호화요양기호', '요양기관명_x', '종별코드_x', '종별코드명_x', '설립구분코드', '설립구분코드명',\n",
       "       '시도코드_x', '시도코드명_x', '시군구코드_x', '시군구코드명_x', '읍면동_x', '우편번호_x', '주소_x',\n",
       "       '전화번호_x', '병원URL_x', '개설일자_x', '일반입원실상급병상수', '일반입원실일반병상수', '성인중환자병상수',\n",
       "       '소아중환자병상수', '신생아중환자병상수', '정신과폐쇄상급병상수', '정신과폐쇄일반병상수', '격리병실병상수',\n",
       "       '무균치료실병상수', '분만실병상수', '수술실병상수', '응급실병상수', '물리치료실병상수', '요양기관명_y',\n",
       "       '종별코드_y', '종별코드명_y', '시도코드_y', '시도코드명_y', '시군구코드_y', '시군구코드명_y',\n",
       "       '읍면동_y', '우편번호_y', '주소_y', '전화번호_y', '병원URL_y', '개설일자_y', '총의사수',\n",
       "       '의과일반의 인원수', '의과인턴 인원수', '의과레지던트 인원수', '의과전문의 인원수', '치과일반의 인원수',\n",
       "       '치과인턴 인원수', '치과레지던트 인원수', '치과전문의 인원수', '한방일반의 인원수', '한방인턴 인원수',\n",
       "       '한방레지던트 인원수', '한방전문의 인원수', 'x좌표', 'y좌표', '진료과목코드명', '과목별 전문의수'],\n",
       "      dtype='object')"
      ]
     },
     "execution_count": 238,
     "metadata": {},
     "output_type": "execute_result"
    }
   ],
   "source": [
    "merge_df.columns"
   ]
  },
  {
   "cell_type": "code",
   "execution_count": 239,
   "metadata": {},
   "outputs": [],
   "source": [
    "# 합치기 '일반입원실상급병상수', '일반입원실일반병상수'\n",
    "\n",
    "merge_df['일반입원실병상수'] = merge_df['일반입원실상급병상수'] + merge_df['일반입원실일반병상수']"
   ]
  },
  {
   "cell_type": "code",
   "execution_count": 240,
   "metadata": {},
   "outputs": [],
   "source": [
    "no_use = ['종별코드_x', '설립구분코드', '시도코드_x', '시군구코드_x', '읍면동_x', '우편번호_x', '주소_x',\n",
    "          '전화번호_x', '병원URL_x', '요양기관명_y', '종별코드_y', '종별코드명_y', '시도코드_y', '시도코드명_y', '시군구코드_y',\n",
    "          '시군구코드명_y', '읍면동_y', '우편번호_y', '주소_y', '전화번호_y', '병원URL_y', '개설일자_y', 'x좌표', 'y좌표',\n",
    "          '일반입원실상급병상수', '일반입원실일반병상수']\n",
    "\n",
    "\n",
    "\n",
    "merge_df.drop(no_use, axis=1, inplace=True)"
   ]
  },
  {
   "cell_type": "code",
   "execution_count": 241,
   "metadata": {},
   "outputs": [
    {
     "data": {
      "text/html": [
       "<div>\n",
       "<style scoped>\n",
       "    .dataframe tbody tr th:only-of-type {\n",
       "        vertical-align: middle;\n",
       "    }\n",
       "\n",
       "    .dataframe tbody tr th {\n",
       "        vertical-align: top;\n",
       "    }\n",
       "\n",
       "    .dataframe thead th {\n",
       "        text-align: right;\n",
       "    }\n",
       "</style>\n",
       "<table border=\"1\" class=\"dataframe\">\n",
       "  <thead>\n",
       "    <tr style=\"text-align: right;\">\n",
       "      <th></th>\n",
       "      <th>암호화요양기호</th>\n",
       "      <th>요양기관명_x</th>\n",
       "      <th>종별코드명_x</th>\n",
       "      <th>설립구분코드명</th>\n",
       "      <th>시도코드명_x</th>\n",
       "      <th>시군구코드명_x</th>\n",
       "      <th>개설일자_x</th>\n",
       "      <th>성인중환자병상수</th>\n",
       "      <th>소아중환자병상수</th>\n",
       "      <th>신생아중환자병상수</th>\n",
       "      <th>...</th>\n",
       "      <th>치과인턴 인원수</th>\n",
       "      <th>치과레지던트 인원수</th>\n",
       "      <th>치과전문의 인원수</th>\n",
       "      <th>한방일반의 인원수</th>\n",
       "      <th>한방인턴 인원수</th>\n",
       "      <th>한방레지던트 인원수</th>\n",
       "      <th>한방전문의 인원수</th>\n",
       "      <th>진료과목코드명</th>\n",
       "      <th>과목별 전문의수</th>\n",
       "      <th>일반입원실병상수</th>\n",
       "    </tr>\n",
       "  </thead>\n",
       "  <tbody>\n",
       "    <tr>\n",
       "      <th>0</th>\n",
       "      <td>JDQ4MTg4MSM1MSMkMSMkMCMkODkkMzgxMzUxIzExIyQxIy...</td>\n",
       "      <td>서울대학교병원</td>\n",
       "      <td>상급종합</td>\n",
       "      <td>공립</td>\n",
       "      <td>서울</td>\n",
       "      <td>종로구</td>\n",
       "      <td>1981-07-09</td>\n",
       "      <td>122</td>\n",
       "      <td>24</td>\n",
       "      <td>43</td>\n",
       "      <td>...</td>\n",
       "      <td>0</td>\n",
       "      <td>0</td>\n",
       "      <td>1</td>\n",
       "      <td>0</td>\n",
       "      <td>0</td>\n",
       "      <td>0</td>\n",
       "      <td>0</td>\n",
       "      <td>가정의학과</td>\n",
       "      <td>26.0</td>\n",
       "      <td>1508</td>\n",
       "    </tr>\n",
       "    <tr>\n",
       "      <th>1</th>\n",
       "      <td>JDQ4MTg4MSM1MSMkMSMkMCMkODkkMzgxMzUxIzExIyQxIy...</td>\n",
       "      <td>서울대학교병원</td>\n",
       "      <td>상급종합</td>\n",
       "      <td>공립</td>\n",
       "      <td>서울</td>\n",
       "      <td>종로구</td>\n",
       "      <td>1981-07-09</td>\n",
       "      <td>122</td>\n",
       "      <td>24</td>\n",
       "      <td>43</td>\n",
       "      <td>...</td>\n",
       "      <td>0</td>\n",
       "      <td>0</td>\n",
       "      <td>1</td>\n",
       "      <td>0</td>\n",
       "      <td>0</td>\n",
       "      <td>0</td>\n",
       "      <td>0</td>\n",
       "      <td>내과</td>\n",
       "      <td>145.0</td>\n",
       "      <td>1508</td>\n",
       "    </tr>\n",
       "    <tr>\n",
       "      <th>2</th>\n",
       "      <td>JDQ4MTg4MSM1MSMkMSMkMCMkODkkMzgxMzUxIzExIyQxIy...</td>\n",
       "      <td>서울대학교병원</td>\n",
       "      <td>상급종합</td>\n",
       "      <td>공립</td>\n",
       "      <td>서울</td>\n",
       "      <td>종로구</td>\n",
       "      <td>1981-07-09</td>\n",
       "      <td>122</td>\n",
       "      <td>24</td>\n",
       "      <td>43</td>\n",
       "      <td>...</td>\n",
       "      <td>0</td>\n",
       "      <td>0</td>\n",
       "      <td>1</td>\n",
       "      <td>0</td>\n",
       "      <td>0</td>\n",
       "      <td>0</td>\n",
       "      <td>0</td>\n",
       "      <td>마취통증의학과</td>\n",
       "      <td>42.0</td>\n",
       "      <td>1508</td>\n",
       "    </tr>\n",
       "    <tr>\n",
       "      <th>3</th>\n",
       "      <td>JDQ4MTg4MSM1MSMkMSMkMCMkODkkMzgxMzUxIzExIyQxIy...</td>\n",
       "      <td>서울대학교병원</td>\n",
       "      <td>상급종합</td>\n",
       "      <td>공립</td>\n",
       "      <td>서울</td>\n",
       "      <td>종로구</td>\n",
       "      <td>1981-07-09</td>\n",
       "      <td>122</td>\n",
       "      <td>24</td>\n",
       "      <td>43</td>\n",
       "      <td>...</td>\n",
       "      <td>0</td>\n",
       "      <td>0</td>\n",
       "      <td>1</td>\n",
       "      <td>0</td>\n",
       "      <td>0</td>\n",
       "      <td>0</td>\n",
       "      <td>0</td>\n",
       "      <td>방사선종양학과</td>\n",
       "      <td>8.0</td>\n",
       "      <td>1508</td>\n",
       "    </tr>\n",
       "    <tr>\n",
       "      <th>4</th>\n",
       "      <td>JDQ4MTg4MSM1MSMkMSMkMCMkODkkMzgxMzUxIzExIyQxIy...</td>\n",
       "      <td>서울대학교병원</td>\n",
       "      <td>상급종합</td>\n",
       "      <td>공립</td>\n",
       "      <td>서울</td>\n",
       "      <td>종로구</td>\n",
       "      <td>1981-07-09</td>\n",
       "      <td>122</td>\n",
       "      <td>24</td>\n",
       "      <td>43</td>\n",
       "      <td>...</td>\n",
       "      <td>0</td>\n",
       "      <td>0</td>\n",
       "      <td>1</td>\n",
       "      <td>0</td>\n",
       "      <td>0</td>\n",
       "      <td>0</td>\n",
       "      <td>0</td>\n",
       "      <td>병리과</td>\n",
       "      <td>20.0</td>\n",
       "      <td>1508</td>\n",
       "    </tr>\n",
       "  </tbody>\n",
       "</table>\n",
       "<p>5 rows × 34 columns</p>\n",
       "</div>"
      ],
      "text/plain": [
       "                                             암호화요양기호  요양기관명_x 종별코드명_x 설립구분코드명  \\\n",
       "0  JDQ4MTg4MSM1MSMkMSMkMCMkODkkMzgxMzUxIzExIyQxIy...  서울대학교병원    상급종합      공립   \n",
       "1  JDQ4MTg4MSM1MSMkMSMkMCMkODkkMzgxMzUxIzExIyQxIy...  서울대학교병원    상급종합      공립   \n",
       "2  JDQ4MTg4MSM1MSMkMSMkMCMkODkkMzgxMzUxIzExIyQxIy...  서울대학교병원    상급종합      공립   \n",
       "3  JDQ4MTg4MSM1MSMkMSMkMCMkODkkMzgxMzUxIzExIyQxIy...  서울대학교병원    상급종합      공립   \n",
       "4  JDQ4MTg4MSM1MSMkMSMkMCMkODkkMzgxMzUxIzExIyQxIy...  서울대학교병원    상급종합      공립   \n",
       "\n",
       "  시도코드명_x 시군구코드명_x     개설일자_x  성인중환자병상수  소아중환자병상수  신생아중환자병상수  ...  치과인턴 인원수  \\\n",
       "0      서울      종로구 1981-07-09       122        24         43  ...         0   \n",
       "1      서울      종로구 1981-07-09       122        24         43  ...         0   \n",
       "2      서울      종로구 1981-07-09       122        24         43  ...         0   \n",
       "3      서울      종로구 1981-07-09       122        24         43  ...         0   \n",
       "4      서울      종로구 1981-07-09       122        24         43  ...         0   \n",
       "\n",
       "   치과레지던트 인원수  치과전문의 인원수  한방일반의 인원수  한방인턴 인원수  한방레지던트 인원수  한방전문의 인원수  진료과목코드명  \\\n",
       "0           0          1          0         0           0          0    가정의학과   \n",
       "1           0          1          0         0           0          0       내과   \n",
       "2           0          1          0         0           0          0  마취통증의학과   \n",
       "3           0          1          0         0           0          0  방사선종양학과   \n",
       "4           0          1          0         0           0          0      병리과   \n",
       "\n",
       "   과목별 전문의수  일반입원실병상수  \n",
       "0      26.0      1508  \n",
       "1     145.0      1508  \n",
       "2      42.0      1508  \n",
       "3       8.0      1508  \n",
       "4      20.0      1508  \n",
       "\n",
       "[5 rows x 34 columns]"
      ]
     },
     "execution_count": 241,
     "metadata": {},
     "output_type": "execute_result"
    }
   ],
   "source": [
    "merge_df.head()"
   ]
  },
  {
   "cell_type": "code",
   "execution_count": 242,
   "metadata": {},
   "outputs": [
    {
     "data": {
      "text/plain": [
       "Index(['암호화요양기호', '요양기관명_x', '종별코드명_x', '설립구분코드명', '시도코드명_x', '시군구코드명_x',\n",
       "       '개설일자_x', '성인중환자병상수', '소아중환자병상수', '신생아중환자병상수', '정신과폐쇄상급병상수',\n",
       "       '정신과폐쇄일반병상수', '격리병실병상수', '무균치료실병상수', '분만실병상수', '수술실병상수', '응급실병상수',\n",
       "       '물리치료실병상수', '총의사수', '의과일반의 인원수', '의과인턴 인원수', '의과레지던트 인원수', '의과전문의 인원수',\n",
       "       '치과일반의 인원수', '치과인턴 인원수', '치과레지던트 인원수', '치과전문의 인원수', '한방일반의 인원수',\n",
       "       '한방인턴 인원수', '한방레지던트 인원수', '한방전문의 인원수', '진료과목코드명', '과목별 전문의수',\n",
       "       '일반입원실병상수'],\n",
       "      dtype='object')"
      ]
     },
     "execution_count": 242,
     "metadata": {},
     "output_type": "execute_result"
    }
   ],
   "source": [
    "merge_df.columns"
   ]
  },
  {
   "cell_type": "code",
   "execution_count": 243,
   "metadata": {},
   "outputs": [],
   "source": [
    "merge_df.columns = ['암호화요양기호', '요양기관명', '종별코드명', '설립구분코드명', '시도코드명', '시군구코드명',\n",
    "       '개설일자', '성인중환자병상수', '소아중환자병상수', '신생아중환자병상수', '정신과폐쇄상급병상수',\n",
    "       '정신과폐쇄일반병상수', '격리병실병상수', '무균치료실병상수', '분만실병상수', '수술실병상수', '응급실병상수',\n",
    "       '물리치료실병상수', '총의사수', '의과일반의 인원수', '의과인턴 인원수', '의과레지던트 인원수', '의과전문의 인원수',\n",
    "       '치과일반의 인원수', '치과인턴 인원수', '치과레지던트 인원수', '치과전문의 인원수', '한방일반의 인원수',\n",
    "       '한방인턴 인원수', '한방레지던트 인원수', '한방전문의 인원수', '진료과목코드명', '과목별 전문의수',\n",
    "       '일반입원실병상수']"
   ]
  },
  {
   "cell_type": "code",
   "execution_count": 244,
   "metadata": {},
   "outputs": [
    {
     "data": {
      "text/plain": [
       "Index(['암호화요양기호', '요양기관명', '종별코드명', '설립구분코드명', '시도코드명', '시군구코드명', '개설일자',\n",
       "       '성인중환자병상수', '일반입원실병상수', '소아중환자병상수', '신생아중환자병상수', '정신과폐쇄상급병상수',\n",
       "       '정신과폐쇄일반병상수', '격리병실병상수', '무균치료실병상수', '분만실병상수', '수술실병상수', '응급실병상수',\n",
       "       '물리치료실병상수', '총의사수', '의과일반의 인원수', '의과인턴 인원수', '의과레지던트 인원수', '의과전문의 인원수',\n",
       "       '치과일반의 인원수', '치과인턴 인원수', '치과레지던트 인원수', '치과전문의 인원수', '한방일반의 인원수',\n",
       "       '한방인턴 인원수', '한방레지던트 인원수', '한방전문의 인원수', '진료과목코드명', '과목별 전문의수'],\n",
       "      dtype='object')"
      ]
     },
     "execution_count": 244,
     "metadata": {},
     "output_type": "execute_result"
    }
   ],
   "source": [
    "# 일반입원실병상수 위치 옮기기\n",
    "col1 = [merge_df.columns[-1]]\n",
    "col2 = merge_df.columns[:8].to_list()\n",
    "col3 = merge_df.columns[8:-1].to_list()\n",
    "new_col = col2 + col1 + col3\n",
    "\n",
    "merge_df = merge_df[new_col]\n",
    "merge_df.columns"
   ]
  },
  {
   "cell_type": "code",
   "execution_count": 245,
   "metadata": {},
   "outputs": [],
   "source": [
    "merge_df['개설일자'] = merge_df['개설일자'].astype('str')"
   ]
  },
  {
   "cell_type": "code",
   "execution_count": 246,
   "metadata": {},
   "outputs": [
    {
     "name": "stdout",
     "output_type": "stream",
     "text": [
      "<class 'pandas.core.frame.DataFrame'>\n",
      "RangeIndex: 358932 entries, 0 to 358931\n",
      "Data columns (total 34 columns):\n",
      " #   Column      Non-Null Count   Dtype  \n",
      "---  ------      --------------   -----  \n",
      " 0   암호화요양기호     358932 non-null  object \n",
      " 1   요양기관명       358932 non-null  object \n",
      " 2   종별코드명       358932 non-null  object \n",
      " 3   설립구분코드명     358932 non-null  object \n",
      " 4   시도코드명       358932 non-null  object \n",
      " 5   시군구코드명      358932 non-null  object \n",
      " 6   개설일자        358932 non-null  object \n",
      " 7   성인중환자병상수    358932 non-null  int64  \n",
      " 8   일반입원실병상수    358932 non-null  int64  \n",
      " 9   소아중환자병상수    358932 non-null  int64  \n",
      " 10  신생아중환자병상수   358932 non-null  int64  \n",
      " 11  정신과폐쇄상급병상수  358932 non-null  int64  \n",
      " 12  정신과폐쇄일반병상수  358932 non-null  int64  \n",
      " 13  격리병실병상수     358932 non-null  int64  \n",
      " 14  무균치료실병상수    358932 non-null  int64  \n",
      " 15  분만실병상수      358932 non-null  int64  \n",
      " 16  수술실병상수      358932 non-null  int64  \n",
      " 17  응급실병상수      358932 non-null  int64  \n",
      " 18  물리치료실병상수    358932 non-null  int64  \n",
      " 19  총의사수        358932 non-null  int64  \n",
      " 20  의과일반의 인원수   358932 non-null  int64  \n",
      " 21  의과인턴 인원수    358932 non-null  int64  \n",
      " 22  의과레지던트 인원수  358932 non-null  int64  \n",
      " 23  의과전문의 인원수   358932 non-null  int64  \n",
      " 24  치과일반의 인원수   358932 non-null  int64  \n",
      " 25  치과인턴 인원수    358932 non-null  int64  \n",
      " 26  치과레지던트 인원수  358932 non-null  int64  \n",
      " 27  치과전문의 인원수   358932 non-null  int64  \n",
      " 28  한방일반의 인원수   358932 non-null  int64  \n",
      " 29  한방인턴 인원수    358932 non-null  int64  \n",
      " 30  한방레지던트 인원수  358932 non-null  int64  \n",
      " 31  한방전문의 인원수   358932 non-null  int64  \n",
      " 32  진료과목코드명     355875 non-null  object \n",
      " 33  과목별 전문의수    355875 non-null  float64\n",
      "dtypes: float64(1), int64(25), object(8)\n",
      "memory usage: 93.1+ MB\n"
     ]
    }
   ],
   "source": [
    "merge_df.info()"
   ]
  },
  {
   "cell_type": "code",
   "execution_count": 247,
   "metadata": {},
   "outputs": [],
   "source": [
    "merge_df.to_csv(f'/Users/hong/Desktop/practice_code/mid_project/data/병의원통합데이터/2021의원통합데이터.csv', encoding='UTF-8')"
   ]
  },
  {
   "cell_type": "code",
   "execution_count": 248,
   "metadata": {},
   "outputs": [
    {
     "data": {
      "text/plain": [
       "Index(['암호화요양기호', '요양기관명', '종별코드명', '설립구분코드명', '시도코드명', '시군구코드명', '개설일자',\n",
       "       '성인중환자병상수', '일반입원실병상수', '소아중환자병상수', '신생아중환자병상수', '정신과폐쇄상급병상수',\n",
       "       '정신과폐쇄일반병상수', '격리병실병상수', '무균치료실병상수', '분만실병상수', '수술실병상수', '응급실병상수',\n",
       "       '물리치료실병상수', '총의사수', '의과일반의 인원수', '의과인턴 인원수', '의과레지던트 인원수', '의과전문의 인원수',\n",
       "       '치과일반의 인원수', '치과인턴 인원수', '치과레지던트 인원수', '치과전문의 인원수', '한방일반의 인원수',\n",
       "       '한방인턴 인원수', '한방레지던트 인원수', '한방전문의 인원수', '진료과목코드명', '과목별 전문의수'],\n",
       "      dtype='object')"
      ]
     },
     "execution_count": 248,
     "metadata": {},
     "output_type": "execute_result"
    }
   ],
   "source": [
    "merge_df.columns"
   ]
  },
  {
   "cell_type": "code",
   "execution_count": 249,
   "metadata": {},
   "outputs": [
    {
     "data": {
      "text/html": [
       "<div>\n",
       "<style scoped>\n",
       "    .dataframe tbody tr th:only-of-type {\n",
       "        vertical-align: middle;\n",
       "    }\n",
       "\n",
       "    .dataframe tbody tr th {\n",
       "        vertical-align: top;\n",
       "    }\n",
       "\n",
       "    .dataframe thead th {\n",
       "        text-align: right;\n",
       "    }\n",
       "</style>\n",
       "<table border=\"1\" class=\"dataframe\">\n",
       "  <thead>\n",
       "    <tr style=\"text-align: right;\">\n",
       "      <th></th>\n",
       "      <th>암호화요양기호</th>\n",
       "      <th>요양기관명</th>\n",
       "      <th>종별코드명</th>\n",
       "      <th>설립구분코드명</th>\n",
       "      <th>시도코드명</th>\n",
       "      <th>시군구코드명</th>\n",
       "      <th>개설일자</th>\n",
       "      <th>성인중환자병상수</th>\n",
       "      <th>일반입원실병상수</th>\n",
       "      <th>소아중환자병상수</th>\n",
       "      <th>...</th>\n",
       "      <th>치과일반의 인원수</th>\n",
       "      <th>치과인턴 인원수</th>\n",
       "      <th>치과레지던트 인원수</th>\n",
       "      <th>치과전문의 인원수</th>\n",
       "      <th>한방일반의 인원수</th>\n",
       "      <th>한방인턴 인원수</th>\n",
       "      <th>한방레지던트 인원수</th>\n",
       "      <th>한방전문의 인원수</th>\n",
       "      <th>진료과목코드명</th>\n",
       "      <th>과목별 전문의수</th>\n",
       "    </tr>\n",
       "  </thead>\n",
       "  <tbody>\n",
       "    <tr>\n",
       "      <th>0</th>\n",
       "      <td>JDQ4MTg4MSM1MSMkMSMkMCMkODkkMzgxMzUxIzExIyQxIy...</td>\n",
       "      <td>서울대학교병원</td>\n",
       "      <td>상급종합</td>\n",
       "      <td>공립</td>\n",
       "      <td>서울</td>\n",
       "      <td>종로구</td>\n",
       "      <td>1981-07-09</td>\n",
       "      <td>122</td>\n",
       "      <td>1508</td>\n",
       "      <td>24</td>\n",
       "      <td>...</td>\n",
       "      <td>1</td>\n",
       "      <td>0</td>\n",
       "      <td>0</td>\n",
       "      <td>1</td>\n",
       "      <td>0</td>\n",
       "      <td>0</td>\n",
       "      <td>0</td>\n",
       "      <td>0</td>\n",
       "      <td>가정의학과</td>\n",
       "      <td>26.0</td>\n",
       "    </tr>\n",
       "    <tr>\n",
       "      <th>1</th>\n",
       "      <td>JDQ4MTg4MSM1MSMkMSMkMCMkODkkMzgxMzUxIzExIyQxIy...</td>\n",
       "      <td>서울대학교병원</td>\n",
       "      <td>상급종합</td>\n",
       "      <td>공립</td>\n",
       "      <td>서울</td>\n",
       "      <td>종로구</td>\n",
       "      <td>1981-07-09</td>\n",
       "      <td>122</td>\n",
       "      <td>1508</td>\n",
       "      <td>24</td>\n",
       "      <td>...</td>\n",
       "      <td>1</td>\n",
       "      <td>0</td>\n",
       "      <td>0</td>\n",
       "      <td>1</td>\n",
       "      <td>0</td>\n",
       "      <td>0</td>\n",
       "      <td>0</td>\n",
       "      <td>0</td>\n",
       "      <td>내과</td>\n",
       "      <td>145.0</td>\n",
       "    </tr>\n",
       "    <tr>\n",
       "      <th>2</th>\n",
       "      <td>JDQ4MTg4MSM1MSMkMSMkMCMkODkkMzgxMzUxIzExIyQxIy...</td>\n",
       "      <td>서울대학교병원</td>\n",
       "      <td>상급종합</td>\n",
       "      <td>공립</td>\n",
       "      <td>서울</td>\n",
       "      <td>종로구</td>\n",
       "      <td>1981-07-09</td>\n",
       "      <td>122</td>\n",
       "      <td>1508</td>\n",
       "      <td>24</td>\n",
       "      <td>...</td>\n",
       "      <td>1</td>\n",
       "      <td>0</td>\n",
       "      <td>0</td>\n",
       "      <td>1</td>\n",
       "      <td>0</td>\n",
       "      <td>0</td>\n",
       "      <td>0</td>\n",
       "      <td>0</td>\n",
       "      <td>마취통증의학과</td>\n",
       "      <td>42.0</td>\n",
       "    </tr>\n",
       "    <tr>\n",
       "      <th>3</th>\n",
       "      <td>JDQ4MTg4MSM1MSMkMSMkMCMkODkkMzgxMzUxIzExIyQxIy...</td>\n",
       "      <td>서울대학교병원</td>\n",
       "      <td>상급종합</td>\n",
       "      <td>공립</td>\n",
       "      <td>서울</td>\n",
       "      <td>종로구</td>\n",
       "      <td>1981-07-09</td>\n",
       "      <td>122</td>\n",
       "      <td>1508</td>\n",
       "      <td>24</td>\n",
       "      <td>...</td>\n",
       "      <td>1</td>\n",
       "      <td>0</td>\n",
       "      <td>0</td>\n",
       "      <td>1</td>\n",
       "      <td>0</td>\n",
       "      <td>0</td>\n",
       "      <td>0</td>\n",
       "      <td>0</td>\n",
       "      <td>방사선종양학과</td>\n",
       "      <td>8.0</td>\n",
       "    </tr>\n",
       "    <tr>\n",
       "      <th>4</th>\n",
       "      <td>JDQ4MTg4MSM1MSMkMSMkMCMkODkkMzgxMzUxIzExIyQxIy...</td>\n",
       "      <td>서울대학교병원</td>\n",
       "      <td>상급종합</td>\n",
       "      <td>공립</td>\n",
       "      <td>서울</td>\n",
       "      <td>종로구</td>\n",
       "      <td>1981-07-09</td>\n",
       "      <td>122</td>\n",
       "      <td>1508</td>\n",
       "      <td>24</td>\n",
       "      <td>...</td>\n",
       "      <td>1</td>\n",
       "      <td>0</td>\n",
       "      <td>0</td>\n",
       "      <td>1</td>\n",
       "      <td>0</td>\n",
       "      <td>0</td>\n",
       "      <td>0</td>\n",
       "      <td>0</td>\n",
       "      <td>병리과</td>\n",
       "      <td>20.0</td>\n",
       "    </tr>\n",
       "  </tbody>\n",
       "</table>\n",
       "<p>5 rows × 34 columns</p>\n",
       "</div>"
      ],
      "text/plain": [
       "                                             암호화요양기호    요양기관명 종별코드명 설립구분코드명  \\\n",
       "0  JDQ4MTg4MSM1MSMkMSMkMCMkODkkMzgxMzUxIzExIyQxIy...  서울대학교병원  상급종합      공립   \n",
       "1  JDQ4MTg4MSM1MSMkMSMkMCMkODkkMzgxMzUxIzExIyQxIy...  서울대학교병원  상급종합      공립   \n",
       "2  JDQ4MTg4MSM1MSMkMSMkMCMkODkkMzgxMzUxIzExIyQxIy...  서울대학교병원  상급종합      공립   \n",
       "3  JDQ4MTg4MSM1MSMkMSMkMCMkODkkMzgxMzUxIzExIyQxIy...  서울대학교병원  상급종합      공립   \n",
       "4  JDQ4MTg4MSM1MSMkMSMkMCMkODkkMzgxMzUxIzExIyQxIy...  서울대학교병원  상급종합      공립   \n",
       "\n",
       "  시도코드명 시군구코드명        개설일자  성인중환자병상수  일반입원실병상수  소아중환자병상수  ...  치과일반의 인원수  \\\n",
       "0    서울    종로구  1981-07-09       122      1508        24  ...          1   \n",
       "1    서울    종로구  1981-07-09       122      1508        24  ...          1   \n",
       "2    서울    종로구  1981-07-09       122      1508        24  ...          1   \n",
       "3    서울    종로구  1981-07-09       122      1508        24  ...          1   \n",
       "4    서울    종로구  1981-07-09       122      1508        24  ...          1   \n",
       "\n",
       "   치과인턴 인원수  치과레지던트 인원수  치과전문의 인원수  한방일반의 인원수  한방인턴 인원수  한방레지던트 인원수  \\\n",
       "0         0           0          1          0         0           0   \n",
       "1         0           0          1          0         0           0   \n",
       "2         0           0          1          0         0           0   \n",
       "3         0           0          1          0         0           0   \n",
       "4         0           0          1          0         0           0   \n",
       "\n",
       "   한방전문의 인원수  진료과목코드명  과목별 전문의수  \n",
       "0          0    가정의학과      26.0  \n",
       "1          0       내과     145.0  \n",
       "2          0  마취통증의학과      42.0  \n",
       "3          0  방사선종양학과       8.0  \n",
       "4          0      병리과      20.0  \n",
       "\n",
       "[5 rows x 34 columns]"
      ]
     },
     "execution_count": 249,
     "metadata": {},
     "output_type": "execute_result"
    }
   ],
   "source": [
    "merge_df.head()"
   ]
  },
  {
   "cell_type": "code",
   "execution_count": null,
   "metadata": {},
   "outputs": [],
   "source": []
  }
 ],
 "metadata": {
  "kernelspec": {
   "display_name": "seoro",
   "language": "python",
   "name": "python3"
  },
  "language_info": {
   "codemirror_mode": {
    "name": "ipython",
    "version": 3
   },
   "file_extension": ".py",
   "mimetype": "text/x-python",
   "name": "python",
   "nbconvert_exporter": "python",
   "pygments_lexer": "ipython3",
   "version": "3.12.6"
  }
 },
 "nbformat": 4,
 "nbformat_minor": 2
}
